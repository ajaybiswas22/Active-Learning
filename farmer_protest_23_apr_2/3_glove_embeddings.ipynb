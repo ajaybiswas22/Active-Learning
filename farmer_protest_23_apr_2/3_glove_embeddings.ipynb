{
 "cells": [
  {
   "cell_type": "code",
   "execution_count": 1,
   "metadata": {},
   "outputs": [],
   "source": [
    "from utility.loaders import *\n",
    "import numpy as np\n",
    "import pickle\n",
    "embedGloVe = textLoader(\"GloVe-1.2/vectors.txt\", \"str\")\n",
    "embedGloVe = [x.split() for x in embedGloVe]\n",
    "embedGloVe = [(str(x[0]), np.asarray([float(z) for z in x[1:]]))\n",
    "              for x in embedGloVe]\n",
    "embedDict = {}\n",
    "for x in embedGloVe:\n",
    "    embedDict[x[0]] = x[1]\n"
   ]
  },
  {
   "cell_type": "code",
   "execution_count": 2,
   "metadata": {},
   "outputs": [],
   "source": [
    "with open(\"GloVe-1.2/embedDict.bin\", \"wb\") as out:\n",
    "    pickle.dump(embedDict, out)\n"
   ]
  },
  {
   "cell_type": "code",
   "execution_count": 3,
   "metadata": {},
   "outputs": [
    {
     "name": "stdout",
     "output_type": "stream",
     "text": [
      "[ 1.253422    0.648457    1.28411133 -0.272121   -0.332998   -0.471949\n",
      " -0.520312    0.68524     0.57368     0.108706   -0.10596133  0.54733233\n",
      " -1.11941067 -0.88614467 -0.56853733 -0.35049533 -0.35718667  0.112722\n",
      " -0.00196167  0.516894    0.10267467 -0.36061567 -1.08666467 -0.59845733\n",
      "  0.46568667  0.45837167 -0.027541    0.16184167  0.04967733 -0.884851\n",
      "  0.96469067  0.36132433 -0.65597367  0.24007667  0.746058   -0.607341\n",
      "  1.118384   -0.57608433  0.495302    0.87216967 -0.046614    0.066979\n",
      " -0.664764   -0.261456   -0.61966167  0.04125967 -0.74714667  0.41932667\n",
      " -0.83755133 -0.20818133]\n"
     ]
    }
   ],
   "source": [
    "comment = \"i support modi\"\n",
    "print(np.average([embedDict[word] for word in comment.split()], axis=0))\n"
   ]
  }
 ],
 "metadata": {
  "interpreter": {
   "hash": "ee5cc6fef2d70a7e71ee3826687cbd150f18158e0b1eef11d4f4f92bb920e304"
  },
  "kernelspec": {
   "display_name": "Python 3.9.6 64-bit",
   "language": "python",
   "name": "python3"
  },
  "language_info": {
   "codemirror_mode": {
    "name": "ipython",
    "version": 3
   },
   "file_extension": ".py",
   "mimetype": "text/x-python",
   "name": "python",
   "nbconvert_exporter": "python",
   "pygments_lexer": "ipython3",
   "version": "3.9.6"
  },
  "orig_nbformat": 4
 },
 "nbformat": 4,
 "nbformat_minor": 2
}
