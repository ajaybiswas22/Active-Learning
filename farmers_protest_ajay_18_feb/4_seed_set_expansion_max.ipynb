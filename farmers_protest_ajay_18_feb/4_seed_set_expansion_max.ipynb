{
 "cells": [
  {
   "cell_type": "code",
   "execution_count": 1,
   "metadata": {},
   "outputs": [],
   "source": [
    "import fasttext\n",
    "import numpy as np\n",
    "import pandas as pd\n",
    "import os\n",
    "from scipy import spatial\n",
    "from scipy.spatial import distance\n",
    "from resources.basicIO import InputOutput as IO\n",
    "from resources.filterLang import FilterLanguage as FL\n",
    "from resources.tokTT import CommentTokenizer as CT\n",
    "import copy"
   ]
  },
  {
   "cell_type": "code",
   "execution_count": 2,
   "metadata": {},
   "outputs": [],
   "source": [
    "def NN(model, line, K):\n",
    "    return model.get_nearest_neighbors(line, k=K)"
   ]
  },
  {
   "cell_type": "code",
   "execution_count": 3,
   "metadata": {},
   "outputs": [],
   "source": [
    "# Takes 2 vectors a, b and returns the cosine similarity according \n",
    "# to the definition of the dot product\n",
    "def cos_sim(a, b):\n",
    "\tdot_product = np.dot(a, b)\n",
    "\tnorm_a = np.linalg.norm(a)\n",
    "\tnorm_b = np.linalg.norm(b)\n",
    "\treturn dot_product / (norm_a * norm_b)"
   ]
  },
  {
   "cell_type": "code",
   "execution_count": 4,
   "metadata": {},
   "outputs": [],
   "source": [
    "# finds similarity score between two lists\n",
    "def intersection_score(words, lst1, lst2, score_type):\n",
    "    # words contains all the words in the corpus\n",
    "    v1 = []\n",
    "    v2 = []\n",
    "\n",
    "    l1 = [x[1] for x in lst1]\n",
    "    l2 = [x[1] for x in lst2]\n",
    "\n",
    "    l10 = [x[0] for x in lst1]\n",
    "    l20 = [x[0] for x in lst2]\n",
    "\n",
    "    for i in range(len(words)):\n",
    "        try:\n",
    "            v1.append(l10[l1.index(words[i])])\n",
    "        except:\n",
    "            v1.append(0)\n",
    "\n",
    "    for i in range(len(words)):\n",
    "        try:\n",
    "            v2.append(l20[l2.index(words[i])])\n",
    "        except:\n",
    "            v2.append(0)\n",
    "\n",
    "    if(score_type == 'cosine_sim'):\n",
    "        return cos_sim(np.array(v1), np.array(v2))\n",
    "    else:\n",
    "        return None"
   ]
  },
  {
   "cell_type": "markdown",
   "metadata": {},
   "source": [
    "### Load Models"
   ]
  },
  {
   "cell_type": "code",
   "execution_count": 5,
   "metadata": {},
   "outputs": [
    {
     "name": "stderr",
     "output_type": "stream",
     "text": [
      "Warning : `load_model` does not return WordVectorModel or SupervisedModel any more, but a `FastText` object which is very similar.\n",
      "Warning : `load_model` does not return WordVectorModel or SupervisedModel any more, but a `FastText` object which is very similar.\n"
     ]
    }
   ],
   "source": [
    "# load models\n",
    "model_N_2 = fasttext.load_model('models/ft_unsupervised_N_2.bin')\n",
    "model_N_3 = fasttext.load_model('models/ft_unsupervised_N_3.bin')"
   ]
  },
  {
   "cell_type": "markdown",
   "metadata": {},
   "source": [
    "### Load Expansion Text and Labels"
   ]
  },
  {
   "cell_type": "code",
   "execution_count": 6,
   "metadata": {},
   "outputs": [],
   "source": [
    "# loading from 200th comments\n",
    "expansion_text = IO.load_csv_col('datasets/random_sample.csv','comment')\n",
    "expansion_text = expansion_text[0:300]\n",
    "expansion_text_labels = IO.load_csv_col('datasets/random_sample.csv','label')\n",
    "expansion_text_labels = list(map(str,map(int,expansion_text_labels[0:300])))"
   ]
  },
  {
   "cell_type": "markdown",
   "metadata": {},
   "source": [
    "### Tokenize Expansion text"
   ]
  },
  {
   "cell_type": "code",
   "execution_count": 7,
   "metadata": {},
   "outputs": [],
   "source": [
    "expansion_TK = [CT.tokenize(x) for x in expansion_text]"
   ]
  },
  {
   "cell_type": "markdown",
   "metadata": {},
   "source": [
    "### Load Seed Set"
   ]
  },
  {
   "cell_type": "code",
   "execution_count": 8,
   "metadata": {},
   "outputs": [],
   "source": [
    "seed_set_text = IO.load_text('datasets/seed_set.txt')\n",
    "seed_set_labels = IO.load_text('datasets/seed_set_labels.txt')"
   ]
  },
  {
   "cell_type": "markdown",
   "metadata": {},
   "source": [
    "### Tokenize Seed Set"
   ]
  },
  {
   "cell_type": "code",
   "execution_count": 9,
   "metadata": {},
   "outputs": [],
   "source": [
    "seed_set_TK = CT.cleaned('datasets/seed_set.txt')"
   ]
  },
  {
   "cell_type": "markdown",
   "metadata": {},
   "source": [
    "### Expand Seed Set"
   ]
  },
  {
   "cell_type": "code",
   "execution_count": 10,
   "metadata": {},
   "outputs": [],
   "source": [
    "# expands seed set, seed set labels and NN_seed_set based on scores and also verifies with user labels \n",
    "# words: model.words, d1: NN_seed_set, l2: NN_exp_corpus_line, seed_set: seed_set, corpus_comment: exp_line, Y: labels\n",
    "def expand(words, d1, l2, g_seed_set, g_corpus_comment, g_corpus_comment_label, Y, score_type, to_check='F'):\n",
    "\n",
    "    scores = [intersection_score(words, i, l2, score_type) for i in d1]\n",
    "    maxpos = scores.index(max(scores))\n",
    "    # knn\n",
    "\n",
    "    try:\n",
    "        if(to_check == 'F'):\n",
    "            d1.insert(Y.index(Y[maxpos]), l2)\n",
    "            g_seed_set.insert(Y.index(Y[maxpos]), g_corpus_comment)\n",
    "            Y.insert(Y.index(Y[maxpos]), Y[maxpos])\n",
    "        else:\n",
    "            if(Y[maxpos] != g_corpus_comment_label):\n",
    "                d1.insert(Y.index(g_corpus_comment_label), l2)\n",
    "                g_seed_set.insert(Y.index(g_corpus_comment_label), g_corpus_comment)\n",
    "                Y.insert(Y.index(g_corpus_comment_label), g_corpus_comment_label)\n",
    "            else:\n",
    "                d1.insert(Y.index(Y[maxpos]), l2)\n",
    "                g_seed_set.insert(Y.index(Y[maxpos]), g_corpus_comment)\n",
    "                Y.insert(Y.index(Y[maxpos]), Y[maxpos])\n",
    "            \n",
    "    except:\n",
    "        pass\n"
   ]
  },
  {
   "cell_type": "code",
   "execution_count": 11,
   "metadata": {},
   "outputs": [],
   "source": [
    "def expand_seed_set(model,\n",
    "                    seed_set_text,\n",
    "                    seed_set_labels,\n",
    "                    seed_set_TK,\n",
    "                    expansion_text,\n",
    "                    expansion_TK, \n",
    "                    neighbors=50,\n",
    "                    expand_limit=300,\n",
    "                    score_type='cosine_sim'):\n",
    "    \n",
    "    # nearest neighbors of seed set\n",
    "    NN_seed_set = []\n",
    "    for comment in seed_set_TK:\n",
    "        NN_seed_set.append(NN(model,comment,neighbors))\n",
    "\n",
    "    # nearest neigbors for unlabeled corpus from random sample\n",
    "    NN_exp_corpus = []\n",
    "    for comment in expansion_TK:\n",
    "        NN_exp_corpus.append(NN(model,comment,neighbors))\n",
    "\n",
    "    # seed set to be expanded\n",
    "    seed_text_expanded = copy.deepcopy(seed_set_text)\n",
    "    Y_expanded = copy.deepcopy(seed_set_labels)\n",
    "    NN_seed_set_expanded = copy.deepcopy(NN_seed_set)\n",
    "\n",
    "    # expand by expand_limit\n",
    "    for i in range(expand_limit):\n",
    "        to_check='F'\n",
    "\n",
    "        expand(model.words,\n",
    "               NN_seed_set_expanded,\n",
    "               NN_exp_corpus[i],\n",
    "               seed_text_expanded,\n",
    "               expansion_text[i],\n",
    "               expansion_text_labels[i],\n",
    "               Y_expanded,\n",
    "               score_type,\n",
    "               to_check)\n",
    "\n",
    "    return seed_text_expanded, Y_expanded     "
   ]
  },
  {
   "cell_type": "markdown",
   "metadata": {},
   "source": [
    "### N=2"
   ]
  },
  {
   "cell_type": "code",
   "execution_count": 12,
   "metadata": {},
   "outputs": [],
   "source": [
    "seed_text_expanded_N_2,Y_expanded_N_2 = expand_seed_set(model_N_2,\n",
    "                                         seed_set_text,\n",
    "                                         seed_set_labels,\n",
    "                                         seed_set_TK,\n",
    "                                         expansion_text,\n",
    "                                         expansion_TK)\n",
    "\n",
    "IO.save_text('datasets_post/seed_set_expanded_N_2.txt', seed_text_expanded_N_2)\n",
    "IO.save_text('datasets_post/seed_set_expanded_labels_N_2.txt',\n",
    "             map(str, Y_expanded_N_2))\n"
   ]
  },
  {
   "cell_type": "markdown",
   "metadata": {},
   "source": [
    "### N=3"
   ]
  },
  {
   "cell_type": "code",
   "execution_count": 13,
   "metadata": {},
   "outputs": [],
   "source": [
    "seed_text_expanded_N_3,Y_expanded_N_3 = expand_seed_set(model_N_3,\n",
    "                                         seed_set_text,\n",
    "                                         seed_set_labels,\n",
    "                                         seed_set_TK,\n",
    "                                         expansion_text,\n",
    "                                         expansion_TK)\n",
    "\n",
    "IO.save_text('datasets_post/seed_set_expanded_N_3.txt', seed_text_expanded_N_3)\n",
    "IO.save_text('datasets_post/seed_set_expanded_labels_N_3.txt',\n",
    "             map(str, Y_expanded_N_3))"
   ]
  },
  {
   "cell_type": "markdown",
   "metadata": {},
   "source": [
    "### Demo"
   ]
  },
  {
   "cell_type": "code",
   "execution_count": 14,
   "metadata": {},
   "outputs": [
    {
     "name": "stdout",
     "output_type": "stream",
     "text": [
      "[(0.7350407838821411, 'farmersprotest'), (0.649515688419342, 'protest'), (0.5997140407562256, 'support'), (0.5733381509780884, 'farmers'), (0.5146678686141968, 'farm'), (0.5133976936340332, 'laws'), (0.5109832882881165, 'farmer'), (0.5037931203842163, 'supportive'), (0.5019198060035706, 'think'), (0.5011173486709595, 'sanghis'), (0.4984036386013031, 'protesting'), (0.4982152581214905, 'supporting'), (0.49646028876304626, 'joined'), (0.4828433394432068, 'maoist'), (0.48126348853111267, 'khalistan'), (0.48042988777160645, 'not'), (0.47975826263427734, 'jawan'), (0.47958657145500183, 'nagaland'), (0.4790707230567932, 'supported'), (0.47839266061782837, 'wanna')]\n",
      "\n",
      "[(0.7126327753067017, 'farmersprotest'), (0.6041157245635986, 'gains'), (0.590910017490387, 'mainstream'), (0.5865181684494019, 'andhloan'), (0.5723360776901245, 'jahil'), (0.5642958283424377, 'joined'), (0.5633566379547119, 'stop'), (0.5369876027107239, 'perpetrators'), (0.5289648175239563, 'farmers'), (0.5256341695785522, 'papu'), (0.523080587387085, 'tikket'), (0.5187803506851196, 'sanghis'), (0.5176981091499329, 'defame'), (0.5169163346290588, 'protest'), (0.5105205178260803, 'monarchy'), (0.5026243329048157, 'former'), (0.5011039972305298, 'not'), (0.4998713731765747, 'retreat'), (0.4984458088874817, 'bend'), (0.49646228551864624, 'vandalism')]\n",
      "\n",
      "[(0.7050213813781738, 'actually'), (0.6138930916786194, 'farmers'), (0.5744198560714722, 'protesting'), (0.5731649398803711, 'think'), (0.5692795515060425, 'not'), (0.568311333656311, 'bill'), (0.5628531575202942, 'would'), (0.5529143810272217, 'farm'), (0.5451462864875793, 'kinda'), (0.5379528999328613, 'laws'), (0.5368916392326355, 'farmer'), (0.5354503989219666, 'new'), (0.5316922664642334, 'kasht'), (0.5244863629341125, 'bills'), (0.5209859013557434, 'chhote'), (0.5146386027336121, 'violently'), (0.513899028301239, 'wt'), (0.5132343769073486, 'law'), (0.5122640132904053, 'system'), (0.5116008520126343, 'nature')]\n"
     ]
    }
   ],
   "source": [
    "# Nearest Neighbors\n",
    "c1 = NN(model_N_2,'I support the farmers protest',20)\n",
    "c2 = NN(model_N_2,'I am against the farmers protest',20)\n",
    "c3 = NN(model_N_2, 'the farm bills are actually good the govt is doing right', 20)\n",
    "print(c1)\n",
    "print()\n",
    "print(c2)\n",
    "print()\n",
    "print(c3)"
   ]
  },
  {
   "cell_type": "code",
   "execution_count": 15,
   "metadata": {},
   "outputs": [
    {
     "data": {
      "text/plain": [
       "0.33780346354270757"
      ]
     },
     "execution_count": 15,
     "metadata": {},
     "output_type": "execute_result"
    }
   ],
   "source": [
    "# Cosine similarity\n",
    "intersection_score(model_N_2.words,c1,c2,'cosine_sim')"
   ]
  },
  {
   "cell_type": "code",
   "execution_count": 16,
   "metadata": {},
   "outputs": [
    {
     "data": {
      "text/plain": [
       "0.10108283310826137"
      ]
     },
     "execution_count": 16,
     "metadata": {},
     "output_type": "execute_result"
    }
   ],
   "source": [
    "intersection_score(model_N_2.words,c2,c3,'cosine_sim')"
   ]
  }
 ],
 "metadata": {
  "interpreter": {
   "hash": "ee5cc6fef2d70a7e71ee3826687cbd150f18158e0b1eef11d4f4f92bb920e304"
  },
  "kernelspec": {
   "display_name": "Python 3.9.6 64-bit",
   "language": "python",
   "name": "python3"
  },
  "language_info": {
   "codemirror_mode": {
    "name": "ipython",
    "version": 3
   },
   "file_extension": ".py",
   "mimetype": "text/x-python",
   "name": "python",
   "nbconvert_exporter": "python",
   "pygments_lexer": "ipython3",
   "version": "3.9.6"
  },
  "orig_nbformat": 4
 },
 "nbformat": 4,
 "nbformat_minor": 2
}
