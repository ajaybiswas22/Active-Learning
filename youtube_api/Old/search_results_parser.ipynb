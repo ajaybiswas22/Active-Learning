{
 "cells": [
  {
   "cell_type": "code",
   "execution_count": 1,
   "metadata": {},
   "outputs": [],
   "source": [
    "import os\n",
    "import googleapiclient.discovery\n",
    "from lib.keys import api_key as DEVELOPER_KEY\n",
    "import numpy as np\n",
    "import pandas as pd\n",
    "import json\n",
    "import csv\n",
    "\n",
    "# API CALL\n",
    "api_service_name = \"youtube\"\n",
    "api_version = \"v3\"\n",
    "\n",
    "\n",
    "youtube = googleapiclient.discovery.build(\n",
    "api_service_name, api_version, developerKey = DEVELOPER_KEY)\n",
    "\n",
    "\n",
    "request = youtube.search().list(\n",
    "    part=\"snippet\",\n",
    "    maxResults=50,\n",
    "    q=\"farmer protest\"\n",
    ")\n",
    "response = request.execute()\n",
    "\n",
    "#print(response)"
   ]
  },
  {
   "cell_type": "code",
   "execution_count": 2,
   "metadata": {},
   "outputs": [],
   "source": [
    "videos_total = len(response['items'])\n",
    "\n",
    "# save comments to csv\n",
    "\n",
    "# lists\n",
    "video_Id = []\n",
    "video_Title = []\n",
    "channel_Id = []\n",
    "channel_name = []\n",
    "video_Date = []\n",
    "\n",
    "for i in range(videos_total):\n",
    "    video_Id.append(response['items'][i]['id']['videoId'])\n",
    "    video_Title.append(response['items'][i]['snippet']['title'])\n",
    "    channel_Id.append(response['items'][i]['snippet']['channelId'])\n",
    "    channel_name.append(response['items'][i]['snippet']['channelTitle'])\n",
    "    video_Date.append(response['items'][i]['snippet']['publishedAt'])\n",
    "\n",
    "# save into csv\n",
    "pd.DataFrame({'videoId': video_Id, \n",
    "              'title': video_Title, \n",
    "              'channelId': channel_Id,\n",
    "              'channelName': channel_name,\n",
    "              'date': video_Date}).to_csv('dataset/searchResults.csv', index=False)\n"
   ]
  },
  {
   "cell_type": "code",
   "execution_count": 3,
   "metadata": {},
   "outputs": [
    {
     "output_type": "display_data",
     "data": {
      "text/plain": "        videoId                                              title  \\\n0   qZoK_fF4SOg  Farmer Protest: किस मोड़ पर है किसान आंदोलन और...   \n1   W2VM330HCLs  Farmers Protest: 6 Months Of Farmers&#39; Prot...   \n2   CckwXQHILb0  Farm laws के खिलाफ Farmers protest के six mont...   \n3   PCIZ98VCynE  Rakesh Tikait Speaks On Farmer&#39;s &#39;Blac...   \n4   a5Sv1sK3ia4  India farmers burn effigies of Modi to mark 6 ...   \n5   i73m2F-Gvj4  Farmer Protest: Singhu Border पर प्रदर्शन कर र...   \n6   AW5EQc3Y5F0  3,000 Riot Cops Called Into Haryana&#39;s Hisa...   \n7   5AC00KN-1cE  Farmers Protest: Punjab Farmers Head To Delhi ...   \n8   wOiQ0XZSRlE  Watch: Amid Covid, farmers march to Delhi; pro...   \n9   V2TGI6Q1yq0  Farmer Protest Turned Villages Into Covid Hots...   \n10  BBzOW6sKdo8  🔴 LIVE Kisan Morcha Delhi | 28 May 2021  |Farm...   \n11  aZmwz-YBL1k  Two Farmer Unions Withdraw Protest, Condemn Re...   \n12  YySPbt_CdGI  Des Ki Baat: 6 Months Of Farmers&#39; Protest:...   \n13  IaEqq3rDinA  क्या Farmer Protest खत्म हो जाने से Corona महा...   \n14  uigsiLSxpLk  Taal Thok Ke LIVE: आंदोलनजीवी या &#39;Corona&#...   \n15  iHpZV7ro7lU        India&#39;s huge farmer protests, explained   \n16  l6JhNVJaC_Q  Farmers Protest: किसान आंदोलन को 6 महीने पूरे,...   \n17  9xWezzqIFH4  Farmers Protest in Delhi Explained | Tamil | M...   \n18  verVtrQoV3A  Farmer Protest || ਕਿਸਾਨੀ ਅੰਦੋਲਨ ਦੇ 6 ਮਹੀਨੇ ਪੂਰ...   \n19  YT3-9oAo-94  Farmers Observe &quot;Black day&quot; To Mark ...   \n20  iKVVBEhTS_4  Kumar Vishwas ने Saurabh Dwivedi से Corona मदद...   \n21  LtPorBcfMrc  &#39;Beware Of BJP&#39;: Rakesh Tikait Takes F...   \n22  LjS6TcZu94E  Farmers&#39; protests in India intensify | DW ...   \n23  TZMykdF91c4  Farmers Protest: Amid Covid Curbs, Haryana And...   \n24  TPn028g4Jbw  After 6 months, farmers protest gets intense |...   \n25  3nskU3BoGtc  Farmers protest: Indian farmers clash with pol...   \n26  brK7d9JBFfo  Farmers Protest in the age of COVID | Who is r...   \n27  F-jGAAtHUPE  Kisan Andolan Live Update: कोरोना काल में ‘Bla...   \n28  BYA2049gCq4  How the world has reacted to farmer protests i...   \n29  DE4MgKQtuyY  Farmers&#39; Protest Amid Covid: Hundreds Of F...   \n30  hbGzyo51anU  Farmers Protest | Modified Tractor Worth Rs 40...   \n31  _NvdezBMwsk  Farmer Protest: कृषि कानून पर बोले Rakesh Tika...   \n32  UjIDN5JX-sY  India farmers protests: &#39;Delhi highways ar...   \n33  KJg7jHF160I  Corona के बीच फिर से तेज हुआ Farmers Protest, ...   \n34  G6T6cM_DFyU  Delhi Chalo Campaign by Farmers - Why farmers ...   \n35  ozfXDXWPXn8  100 days &amp; counting, farmers protest is no...   \n36  4_UDPhJ6GKs  Farmer Protest || ਕਿਸਾਨਾਂ ਨੇ ਕ੍ਰੇਨ &#39;ਤੇ ਟੰਗ...   \n37  od3Y5XNdyMc  6 months of Farmers protest: 26 may के लिए किस...   \n38  hZMjkLgHTCc  Farmers Protest: Hisar में प्रदर्शन, किसान यून...   \n39  0Nw2gjTN3uc  Corona की Second Wave के बीच तेज हुआ Farmer Pr...   \n40  Jo4rAd3BWeg  Farmer Song : The Folkman Latest Punjabi Songs...   \n41  iAjATdoi5PI  Farmers Continue To Protest At Singhu Border A...   \n42  _hKwY9Sxo_s              Clashes Erupt at India Farmer Protest   \n43  Mist4zw3e3I  Farm bill 2020 Explained | Why are Farmers Pro...   \n44  Kk0krThJWgI  Balbir Singh Rajewal Today Speech Delhi singhu...   \n45  aY90dcETcDw  Hundreds of farmers march towards Hisar town f...   \n46  yOH7BDvOzxY  Bella Ciao - Punjabi | Farm Laws Wapas Jao | #...   \n47  knMUaiBiw4U        The Women Behind the Indian Farmers Protest   \n48  u_s503VKnI8  Farmers Protest | Farmers Have Right To Protes...   \n49  IIgmt0cCEf4  Drone footage shows scale of massive farmer pr...   \n\n                   channelId                  channelName  \\\n0   UCN7B-QD0Qgn2boVH5Q0pOWg               BBC News Hindi   \n1   UCZFMm1mMw0F81Z37aaEzTUA                         NDTV   \n2   UCx8Z14PpntdaxCt2hakbQLQ                The Lallantop   \n3   UCwqusr8YDwM-3mEYTDeJHzw               Republic World   \n4   UChLtXXpo4Ge1ReTEboVvTDg                  Global News   \n5   UCN7B-QD0Qgn2boVH5Q0pOWg               BBC News Hindi   \n6   UCZFMm1mMw0F81Z37aaEzTUA                         NDTV   \n7   UCZFMm1mMw0F81Z37aaEzTUA                         NDTV   \n8   UCm7lHFkt2yB_WzL67aruVBQ              Hindustan Times   \n9   UCYPvAwZP8pZhSMW8qs7cVCw                  India Today   \n10  UC5PhyMixgPl-KGCJ0VLdXxw            Sangat Television   \n11  UCwqusr8YDwM-3mEYTDeJHzw               Republic World   \n12  UCZFMm1mMw0F81Z37aaEzTUA                         NDTV   \n13  UCuzS3rPQAYqHcLWqOFuY0pw                       News24   \n14  UCIvaYmXn910QMdemBG3v1pQ                     Zee News   \n15  UCLXo7UDZvByw2ixzpQCufnA                          Vox   \n16  UCSKgOW8Pg_eZymYJyJc432g  Dainik Jagran - दैनिक जागरण   \n17  UCY6KjrDBN_tIRFT_QNqQbRQ                  Madan Gowri   \n18  UCztSIZEGBfWfC3Mq63QXnsA         Prime Asia TV Canada   \n19  UCrdPiSPVW0rtRsI002BX8iw                   MOJO STORY   \n20  UCx8Z14PpntdaxCt2hakbQLQ                The Lallantop   \n21  UCYPvAwZP8pZhSMW8qs7cVCw                  India Today   \n22  UCknLrEdhRCp1aegoMqRaCZg                      DW News   \n23  UCZFMm1mMw0F81Z37aaEzTUA                         NDTV   \n24  UCRWFSbif-RFENbBrSiez1DA                     ABP NEWS   \n25  UC16niRr50-MSBwiO3YDb3RA                     BBC News   \n26  UCrdPiSPVW0rtRsI002BX8iw                   MOJO STORY   \n27  UCjFKMoAk3qhRkW4eOqNm6dw                Zee Hindustan   \n28  UCKjU3KzdbJE1EFcHVqXC3_g       CBC News: The National   \n29  UCYPvAwZP8pZhSMW8qs7cVCw                  India Today   \n30  UCZFMm1mMw0F81Z37aaEzTUA                         NDTV   \n31  UCt4t-jeY85JegMlZ-E5UWtA                      Aaj Tak   \n32  UC16niRr50-MSBwiO3YDb3RA                     BBC News   \n33  UCx8Z14PpntdaxCt2hakbQLQ                The Lallantop   \n34  UCrC8mOqJQpoB7NuIMKIS6rQ           Study IQ education   \n35  UCJEDFSxHHOW1PpBccdSxOTA          IndianExpressOnline   \n36  UCztSIZEGBfWfC3Mq63QXnsA         Prime Asia TV Canada   \n37  UCx8Z14PpntdaxCt2hakbQLQ                The Lallantop   \n38  UC9CYT9gSNLevX5ey2_6CK0Q                   NDTV India   \n39  UCOutOIcn_oho8pyVN3Ng-Pg              TV9 Bharatvarsh   \n40  UC199ZXg1tqVCRwnBxMVj-mQ                Nimar Records   \n41  UCwqusr8YDwM-3mEYTDeJHzw               Republic World   \n42  UCVSNOxehfALut52NbkfRBaA                     VOA News   \n43  UCYCVm1aN33HYdLs66DHw_ow                Amit Sengupta   \n44  UCWs1iht2UHjN5XODx4CdSzw             Rozana Spokesman   \n45  UCc8J8UvzwMZHnO0MX1NTmSw                  The Tribune   \n46  UC_3SlX7Dvzmlrwb3ITck5kQ                 Poojan Sahil   \n47  UCZaT_X_mc0BI-djXOlfhqWQ                    VICE News   \n48  UCZFMm1mMw0F81Z37aaEzTUA                         NDTV   \n49  UChLtXXpo4Ge1ReTEboVvTDg                  Global News   \n\n                    date  \n0   2021-05-27T07:57:35Z  \n1   2021-05-26T11:29:14Z  \n2   2021-05-26T18:01:39Z  \n3   2021-05-26T08:26:19Z  \n4   2021-05-26T18:34:44Z  \n5   2021-05-26T06:51:40Z  \n6   2021-05-24T06:47:49Z  \n7   2021-05-06T10:51:47Z  \n8   2021-05-24T15:10:47Z  \n9   2021-05-21T05:05:16Z  \n10  2021-05-28T05:46:35Z  \n11  2021-01-27T13:08:54Z  \n12  2021-05-26T15:29:31Z  \n13  2021-05-26T05:09:50Z  \n14  2021-05-26T12:35:03Z  \n15  2020-12-30T13:00:30Z  \n16  2021-05-26T07:45:03Z  \n17  2020-12-04T15:48:46Z  \n18  2021-05-26T11:33:29Z  \n19  2021-05-26T04:52:01Z  \n20  2021-05-26T15:30:08Z  \n21  2021-04-19T11:09:03Z  \n22  2020-12-01T11:31:20Z  \n23  2021-05-23T14:07:06Z  \n24  2021-05-26T10:09:44Z  \n25  2020-11-27T13:26:00Z  \n26  2021-05-26T12:24:09Z  \n27  2021-05-26T05:36:04Z  \n28  2021-03-22T02:56:11Z  \n29  2021-05-06T12:42:34Z  \n30  2021-01-24T13:17:16Z  \n31  2021-05-26T12:52:06Z  \n32  2020-12-09T17:07:12Z  \n33  2021-05-25T10:00:08Z  \n34  2020-11-27T09:36:10Z  \n35  2021-03-06T08:16:55Z  \n36  2021-05-26T13:52:16Z  \n37  2021-05-24T18:30:26Z  \n38  2021-05-24T08:20:41Z  \n39  2021-05-25T15:30:01Z  \n40  2020-11-30T04:14:46Z  \n41  2021-04-20T13:18:25Z  \n42  2021-01-29T17:23:51Z  \n43  2020-10-02T12:44:16Z  \n44  2021-05-26T09:00:46Z  \n45  2021-05-24T07:49:49Z  \n46  2020-12-17T12:15:41Z  \n47  2021-02-08T15:35:35Z  \n48  2020-12-17T09:25:06Z  \n49  2021-02-21T16:22:16Z  ",
      "text/html": "<div>\n<style scoped>\n    .dataframe tbody tr th:only-of-type {\n        vertical-align: middle;\n    }\n\n    .dataframe tbody tr th {\n        vertical-align: top;\n    }\n\n    .dataframe thead th {\n        text-align: right;\n    }\n</style>\n<table border=\"1\" class=\"dataframe\">\n  <thead>\n    <tr style=\"text-align: right;\">\n      <th></th>\n      <th>videoId</th>\n      <th>title</th>\n      <th>channelId</th>\n      <th>channelName</th>\n      <th>date</th>\n    </tr>\n  </thead>\n  <tbody>\n    <tr>\n      <th>0</th>\n      <td>qZoK_fF4SOg</td>\n      <td>Farmer Protest: किस मोड़ पर है किसान आंदोलन और...</td>\n      <td>UCN7B-QD0Qgn2boVH5Q0pOWg</td>\n      <td>BBC News Hindi</td>\n      <td>2021-05-27T07:57:35Z</td>\n    </tr>\n    <tr>\n      <th>1</th>\n      <td>W2VM330HCLs</td>\n      <td>Farmers Protest: 6 Months Of Farmers&amp;#39; Prot...</td>\n      <td>UCZFMm1mMw0F81Z37aaEzTUA</td>\n      <td>NDTV</td>\n      <td>2021-05-26T11:29:14Z</td>\n    </tr>\n    <tr>\n      <th>2</th>\n      <td>CckwXQHILb0</td>\n      <td>Farm laws के खिलाफ Farmers protest के six mont...</td>\n      <td>UCx8Z14PpntdaxCt2hakbQLQ</td>\n      <td>The Lallantop</td>\n      <td>2021-05-26T18:01:39Z</td>\n    </tr>\n    <tr>\n      <th>3</th>\n      <td>PCIZ98VCynE</td>\n      <td>Rakesh Tikait Speaks On Farmer&amp;#39;s &amp;#39;Blac...</td>\n      <td>UCwqusr8YDwM-3mEYTDeJHzw</td>\n      <td>Republic World</td>\n      <td>2021-05-26T08:26:19Z</td>\n    </tr>\n    <tr>\n      <th>4</th>\n      <td>a5Sv1sK3ia4</td>\n      <td>India farmers burn effigies of Modi to mark 6 ...</td>\n      <td>UChLtXXpo4Ge1ReTEboVvTDg</td>\n      <td>Global News</td>\n      <td>2021-05-26T18:34:44Z</td>\n    </tr>\n    <tr>\n      <th>5</th>\n      <td>i73m2F-Gvj4</td>\n      <td>Farmer Protest: Singhu Border पर प्रदर्शन कर र...</td>\n      <td>UCN7B-QD0Qgn2boVH5Q0pOWg</td>\n      <td>BBC News Hindi</td>\n      <td>2021-05-26T06:51:40Z</td>\n    </tr>\n    <tr>\n      <th>6</th>\n      <td>AW5EQc3Y5F0</td>\n      <td>3,000 Riot Cops Called Into Haryana&amp;#39;s Hisa...</td>\n      <td>UCZFMm1mMw0F81Z37aaEzTUA</td>\n      <td>NDTV</td>\n      <td>2021-05-24T06:47:49Z</td>\n    </tr>\n    <tr>\n      <th>7</th>\n      <td>5AC00KN-1cE</td>\n      <td>Farmers Protest: Punjab Farmers Head To Delhi ...</td>\n      <td>UCZFMm1mMw0F81Z37aaEzTUA</td>\n      <td>NDTV</td>\n      <td>2021-05-06T10:51:47Z</td>\n    </tr>\n    <tr>\n      <th>8</th>\n      <td>wOiQ0XZSRlE</td>\n      <td>Watch: Amid Covid, farmers march to Delhi; pro...</td>\n      <td>UCm7lHFkt2yB_WzL67aruVBQ</td>\n      <td>Hindustan Times</td>\n      <td>2021-05-24T15:10:47Z</td>\n    </tr>\n    <tr>\n      <th>9</th>\n      <td>V2TGI6Q1yq0</td>\n      <td>Farmer Protest Turned Villages Into Covid Hots...</td>\n      <td>UCYPvAwZP8pZhSMW8qs7cVCw</td>\n      <td>India Today</td>\n      <td>2021-05-21T05:05:16Z</td>\n    </tr>\n    <tr>\n      <th>10</th>\n      <td>BBzOW6sKdo8</td>\n      <td>🔴 LIVE Kisan Morcha Delhi | 28 May 2021  |Farm...</td>\n      <td>UC5PhyMixgPl-KGCJ0VLdXxw</td>\n      <td>Sangat Television</td>\n      <td>2021-05-28T05:46:35Z</td>\n    </tr>\n    <tr>\n      <th>11</th>\n      <td>aZmwz-YBL1k</td>\n      <td>Two Farmer Unions Withdraw Protest, Condemn Re...</td>\n      <td>UCwqusr8YDwM-3mEYTDeJHzw</td>\n      <td>Republic World</td>\n      <td>2021-01-27T13:08:54Z</td>\n    </tr>\n    <tr>\n      <th>12</th>\n      <td>YySPbt_CdGI</td>\n      <td>Des Ki Baat: 6 Months Of Farmers&amp;#39; Protest:...</td>\n      <td>UCZFMm1mMw0F81Z37aaEzTUA</td>\n      <td>NDTV</td>\n      <td>2021-05-26T15:29:31Z</td>\n    </tr>\n    <tr>\n      <th>13</th>\n      <td>IaEqq3rDinA</td>\n      <td>क्या Farmer Protest खत्म हो जाने से Corona महा...</td>\n      <td>UCuzS3rPQAYqHcLWqOFuY0pw</td>\n      <td>News24</td>\n      <td>2021-05-26T05:09:50Z</td>\n    </tr>\n    <tr>\n      <th>14</th>\n      <td>uigsiLSxpLk</td>\n      <td>Taal Thok Ke LIVE: आंदोलनजीवी या &amp;#39;Corona&amp;#...</td>\n      <td>UCIvaYmXn910QMdemBG3v1pQ</td>\n      <td>Zee News</td>\n      <td>2021-05-26T12:35:03Z</td>\n    </tr>\n    <tr>\n      <th>15</th>\n      <td>iHpZV7ro7lU</td>\n      <td>India&amp;#39;s huge farmer protests, explained</td>\n      <td>UCLXo7UDZvByw2ixzpQCufnA</td>\n      <td>Vox</td>\n      <td>2020-12-30T13:00:30Z</td>\n    </tr>\n    <tr>\n      <th>16</th>\n      <td>l6JhNVJaC_Q</td>\n      <td>Farmers Protest: किसान आंदोलन को 6 महीने पूरे,...</td>\n      <td>UCSKgOW8Pg_eZymYJyJc432g</td>\n      <td>Dainik Jagran - दैनिक जागरण</td>\n      <td>2021-05-26T07:45:03Z</td>\n    </tr>\n    <tr>\n      <th>17</th>\n      <td>9xWezzqIFH4</td>\n      <td>Farmers Protest in Delhi Explained | Tamil | M...</td>\n      <td>UCY6KjrDBN_tIRFT_QNqQbRQ</td>\n      <td>Madan Gowri</td>\n      <td>2020-12-04T15:48:46Z</td>\n    </tr>\n    <tr>\n      <th>18</th>\n      <td>verVtrQoV3A</td>\n      <td>Farmer Protest || ਕਿਸਾਨੀ ਅੰਦੋਲਨ ਦੇ 6 ਮਹੀਨੇ ਪੂਰ...</td>\n      <td>UCztSIZEGBfWfC3Mq63QXnsA</td>\n      <td>Prime Asia TV Canada</td>\n      <td>2021-05-26T11:33:29Z</td>\n    </tr>\n    <tr>\n      <th>19</th>\n      <td>YT3-9oAo-94</td>\n      <td>Farmers Observe &amp;quot;Black day&amp;quot; To Mark ...</td>\n      <td>UCrdPiSPVW0rtRsI002BX8iw</td>\n      <td>MOJO STORY</td>\n      <td>2021-05-26T04:52:01Z</td>\n    </tr>\n    <tr>\n      <th>20</th>\n      <td>iKVVBEhTS_4</td>\n      <td>Kumar Vishwas ने Saurabh Dwivedi से Corona मदद...</td>\n      <td>UCx8Z14PpntdaxCt2hakbQLQ</td>\n      <td>The Lallantop</td>\n      <td>2021-05-26T15:30:08Z</td>\n    </tr>\n    <tr>\n      <th>21</th>\n      <td>LtPorBcfMrc</td>\n      <td>&amp;#39;Beware Of BJP&amp;#39;: Rakesh Tikait Takes F...</td>\n      <td>UCYPvAwZP8pZhSMW8qs7cVCw</td>\n      <td>India Today</td>\n      <td>2021-04-19T11:09:03Z</td>\n    </tr>\n    <tr>\n      <th>22</th>\n      <td>LjS6TcZu94E</td>\n      <td>Farmers&amp;#39; protests in India intensify | DW ...</td>\n      <td>UCknLrEdhRCp1aegoMqRaCZg</td>\n      <td>DW News</td>\n      <td>2020-12-01T11:31:20Z</td>\n    </tr>\n    <tr>\n      <th>23</th>\n      <td>TZMykdF91c4</td>\n      <td>Farmers Protest: Amid Covid Curbs, Haryana And...</td>\n      <td>UCZFMm1mMw0F81Z37aaEzTUA</td>\n      <td>NDTV</td>\n      <td>2021-05-23T14:07:06Z</td>\n    </tr>\n    <tr>\n      <th>24</th>\n      <td>TPn028g4Jbw</td>\n      <td>After 6 months, farmers protest gets intense |...</td>\n      <td>UCRWFSbif-RFENbBrSiez1DA</td>\n      <td>ABP NEWS</td>\n      <td>2021-05-26T10:09:44Z</td>\n    </tr>\n    <tr>\n      <th>25</th>\n      <td>3nskU3BoGtc</td>\n      <td>Farmers protest: Indian farmers clash with pol...</td>\n      <td>UC16niRr50-MSBwiO3YDb3RA</td>\n      <td>BBC News</td>\n      <td>2020-11-27T13:26:00Z</td>\n    </tr>\n    <tr>\n      <th>26</th>\n      <td>brK7d9JBFfo</td>\n      <td>Farmers Protest in the age of COVID | Who is r...</td>\n      <td>UCrdPiSPVW0rtRsI002BX8iw</td>\n      <td>MOJO STORY</td>\n      <td>2021-05-26T12:24:09Z</td>\n    </tr>\n    <tr>\n      <th>27</th>\n      <td>F-jGAAtHUPE</td>\n      <td>Kisan Andolan Live Update: कोरोना काल में ‘Bla...</td>\n      <td>UCjFKMoAk3qhRkW4eOqNm6dw</td>\n      <td>Zee Hindustan</td>\n      <td>2021-05-26T05:36:04Z</td>\n    </tr>\n    <tr>\n      <th>28</th>\n      <td>BYA2049gCq4</td>\n      <td>How the world has reacted to farmer protests i...</td>\n      <td>UCKjU3KzdbJE1EFcHVqXC3_g</td>\n      <td>CBC News: The National</td>\n      <td>2021-03-22T02:56:11Z</td>\n    </tr>\n    <tr>\n      <th>29</th>\n      <td>DE4MgKQtuyY</td>\n      <td>Farmers&amp;#39; Protest Amid Covid: Hundreds Of F...</td>\n      <td>UCYPvAwZP8pZhSMW8qs7cVCw</td>\n      <td>India Today</td>\n      <td>2021-05-06T12:42:34Z</td>\n    </tr>\n    <tr>\n      <th>30</th>\n      <td>hbGzyo51anU</td>\n      <td>Farmers Protest | Modified Tractor Worth Rs 40...</td>\n      <td>UCZFMm1mMw0F81Z37aaEzTUA</td>\n      <td>NDTV</td>\n      <td>2021-01-24T13:17:16Z</td>\n    </tr>\n    <tr>\n      <th>31</th>\n      <td>_NvdezBMwsk</td>\n      <td>Farmer Protest: कृषि कानून पर बोले Rakesh Tika...</td>\n      <td>UCt4t-jeY85JegMlZ-E5UWtA</td>\n      <td>Aaj Tak</td>\n      <td>2021-05-26T12:52:06Z</td>\n    </tr>\n    <tr>\n      <th>32</th>\n      <td>UjIDN5JX-sY</td>\n      <td>India farmers protests: &amp;#39;Delhi highways ar...</td>\n      <td>UC16niRr50-MSBwiO3YDb3RA</td>\n      <td>BBC News</td>\n      <td>2020-12-09T17:07:12Z</td>\n    </tr>\n    <tr>\n      <th>33</th>\n      <td>KJg7jHF160I</td>\n      <td>Corona के बीच फिर से तेज हुआ Farmers Protest, ...</td>\n      <td>UCx8Z14PpntdaxCt2hakbQLQ</td>\n      <td>The Lallantop</td>\n      <td>2021-05-25T10:00:08Z</td>\n    </tr>\n    <tr>\n      <th>34</th>\n      <td>G6T6cM_DFyU</td>\n      <td>Delhi Chalo Campaign by Farmers - Why farmers ...</td>\n      <td>UCrC8mOqJQpoB7NuIMKIS6rQ</td>\n      <td>Study IQ education</td>\n      <td>2020-11-27T09:36:10Z</td>\n    </tr>\n    <tr>\n      <th>35</th>\n      <td>ozfXDXWPXn8</td>\n      <td>100 days &amp;amp; counting, farmers protest is no...</td>\n      <td>UCJEDFSxHHOW1PpBccdSxOTA</td>\n      <td>IndianExpressOnline</td>\n      <td>2021-03-06T08:16:55Z</td>\n    </tr>\n    <tr>\n      <th>36</th>\n      <td>4_UDPhJ6GKs</td>\n      <td>Farmer Protest || ਕਿਸਾਨਾਂ ਨੇ ਕ੍ਰੇਨ &amp;#39;ਤੇ ਟੰਗ...</td>\n      <td>UCztSIZEGBfWfC3Mq63QXnsA</td>\n      <td>Prime Asia TV Canada</td>\n      <td>2021-05-26T13:52:16Z</td>\n    </tr>\n    <tr>\n      <th>37</th>\n      <td>od3Y5XNdyMc</td>\n      <td>6 months of Farmers protest: 26 may के लिए किस...</td>\n      <td>UCx8Z14PpntdaxCt2hakbQLQ</td>\n      <td>The Lallantop</td>\n      <td>2021-05-24T18:30:26Z</td>\n    </tr>\n    <tr>\n      <th>38</th>\n      <td>hZMjkLgHTCc</td>\n      <td>Farmers Protest: Hisar में प्रदर्शन, किसान यून...</td>\n      <td>UC9CYT9gSNLevX5ey2_6CK0Q</td>\n      <td>NDTV India</td>\n      <td>2021-05-24T08:20:41Z</td>\n    </tr>\n    <tr>\n      <th>39</th>\n      <td>0Nw2gjTN3uc</td>\n      <td>Corona की Second Wave के बीच तेज हुआ Farmer Pr...</td>\n      <td>UCOutOIcn_oho8pyVN3Ng-Pg</td>\n      <td>TV9 Bharatvarsh</td>\n      <td>2021-05-25T15:30:01Z</td>\n    </tr>\n    <tr>\n      <th>40</th>\n      <td>Jo4rAd3BWeg</td>\n      <td>Farmer Song : The Folkman Latest Punjabi Songs...</td>\n      <td>UC199ZXg1tqVCRwnBxMVj-mQ</td>\n      <td>Nimar Records</td>\n      <td>2020-11-30T04:14:46Z</td>\n    </tr>\n    <tr>\n      <th>41</th>\n      <td>iAjATdoi5PI</td>\n      <td>Farmers Continue To Protest At Singhu Border A...</td>\n      <td>UCwqusr8YDwM-3mEYTDeJHzw</td>\n      <td>Republic World</td>\n      <td>2021-04-20T13:18:25Z</td>\n    </tr>\n    <tr>\n      <th>42</th>\n      <td>_hKwY9Sxo_s</td>\n      <td>Clashes Erupt at India Farmer Protest</td>\n      <td>UCVSNOxehfALut52NbkfRBaA</td>\n      <td>VOA News</td>\n      <td>2021-01-29T17:23:51Z</td>\n    </tr>\n    <tr>\n      <th>43</th>\n      <td>Mist4zw3e3I</td>\n      <td>Farm bill 2020 Explained | Why are Farmers Pro...</td>\n      <td>UCYCVm1aN33HYdLs66DHw_ow</td>\n      <td>Amit Sengupta</td>\n      <td>2020-10-02T12:44:16Z</td>\n    </tr>\n    <tr>\n      <th>44</th>\n      <td>Kk0krThJWgI</td>\n      <td>Balbir Singh Rajewal Today Speech Delhi singhu...</td>\n      <td>UCWs1iht2UHjN5XODx4CdSzw</td>\n      <td>Rozana Spokesman</td>\n      <td>2021-05-26T09:00:46Z</td>\n    </tr>\n    <tr>\n      <th>45</th>\n      <td>aY90dcETcDw</td>\n      <td>Hundreds of farmers march towards Hisar town f...</td>\n      <td>UCc8J8UvzwMZHnO0MX1NTmSw</td>\n      <td>The Tribune</td>\n      <td>2021-05-24T07:49:49Z</td>\n    </tr>\n    <tr>\n      <th>46</th>\n      <td>yOH7BDvOzxY</td>\n      <td>Bella Ciao - Punjabi | Farm Laws Wapas Jao | #...</td>\n      <td>UC_3SlX7Dvzmlrwb3ITck5kQ</td>\n      <td>Poojan Sahil</td>\n      <td>2020-12-17T12:15:41Z</td>\n    </tr>\n    <tr>\n      <th>47</th>\n      <td>knMUaiBiw4U</td>\n      <td>The Women Behind the Indian Farmers Protest</td>\n      <td>UCZaT_X_mc0BI-djXOlfhqWQ</td>\n      <td>VICE News</td>\n      <td>2021-02-08T15:35:35Z</td>\n    </tr>\n    <tr>\n      <th>48</th>\n      <td>u_s503VKnI8</td>\n      <td>Farmers Protest | Farmers Have Right To Protes...</td>\n      <td>UCZFMm1mMw0F81Z37aaEzTUA</td>\n      <td>NDTV</td>\n      <td>2020-12-17T09:25:06Z</td>\n    </tr>\n    <tr>\n      <th>49</th>\n      <td>IIgmt0cCEf4</td>\n      <td>Drone footage shows scale of massive farmer pr...</td>\n      <td>UChLtXXpo4Ge1ReTEboVvTDg</td>\n      <td>Global News</td>\n      <td>2021-02-21T16:22:16Z</td>\n    </tr>\n  </tbody>\n</table>\n</div>"
     },
     "metadata": {}
    }
   ],
   "source": [
    "# display the dataset\n",
    "output = pd.read_csv(\"dataset/searchResults.csv\")\n",
    "display(output)"
   ]
  },
  {
   "cell_type": "code",
   "execution_count": null,
   "metadata": {},
   "outputs": [],
   "source": []
  }
 ],
 "metadata": {
  "kernelspec": {
   "name": "python382jvsc74a57bd03a7f661466d1f70fa0f4700468fb38259aa610ba11628af4a02b5f7638c3105d",
   "display_name": "Python 3.8.2 32-bit"
  },
  "language_info": {
   "codemirror_mode": {
    "name": "ipython",
    "version": 3
   },
   "file_extension": ".py",
   "mimetype": "text/x-python",
   "name": "python",
   "nbconvert_exporter": "python",
   "pygments_lexer": "ipython3",
   "version": "3.8.2"
  },
  "metadata": {
   "interpreter": {
    "hash": "3a7f661466d1f70fa0f4700468fb38259aa610ba11628af4a02b5f7638c3105d"
   }
  }
 },
 "nbformat": 4,
 "nbformat_minor": 4
}