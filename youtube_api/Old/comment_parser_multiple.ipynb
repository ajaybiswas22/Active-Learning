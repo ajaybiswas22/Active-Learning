{
 "cells": [
  {
   "cell_type": "code",
   "execution_count": 1,
   "metadata": {},
   "outputs": [],
   "source": [
    "from http.client import responses\n",
    "import os\n",
    "import googleapiclient.discovery\n",
    "from lib.keys import api_key as DEVELOPER_KEY\n",
    "import numpy as np\n",
    "import pandas as pd\n",
    "import json\n",
    "import csv"
   ]
  },
  {
   "cell_type": "code",
   "execution_count": 2,
   "metadata": {},
   "outputs": [],
   "source": [
    "# API CALL\n",
    "api_service_name = \"youtube\"\n",
    "api_version = \"v3\"\n",
    "\n",
    "youtube = googleapiclient.discovery.build(\n",
    "    api_service_name, api_version, developerKey = DEVELOPER_KEY)"
   ]
  },
  {
   "cell_type": "code",
   "execution_count": 3,
   "metadata": {},
   "outputs": [],
   "source": [
    "search_results = pd.read_csv(\"dataset/searchResults.csv\")\n"
   ]
  },
  {
   "cell_type": "code",
   "execution_count": 4,
   "metadata": {},
   "outputs": [],
   "source": [
    "# lists\n",
    "user_name = []\n",
    "user_comment = []\n",
    "user_likes_count = []\n",
    "video_id = []"
   ]
  },
  {
   "cell_type": "code",
   "execution_count": 5,
   "metadata": {},
   "outputs": [
    {
     "output_type": "stream",
     "name": "stdout",
     "text": [
      "Comment disabled for  BYA2049gCq4\n"
     ]
    }
   ],
   "source": [
    "for i in range(len(search_results)):\n",
    "    try:\n",
    "        videoID = (search_results['videoId'][i])\n",
    "\n",
    "        request = youtube.commentThreads().list(\n",
    "        part=\"snippet,replies\",\n",
    "        maxResults=100,\n",
    "        videoId=videoID)\n",
    "        response = request.execute()\n",
    "\n",
    "        comments_total = len(response['items'])\n",
    "\n",
    "        for j in range(comments_total):\n",
    "            video_id.append(videoID)\n",
    "            user_comment.append(response['items'][j]['snippet']['topLevelComment']['snippet']['textOriginal'])\n",
    "            user_name.append(response['items'][j]['snippet']['topLevelComment']['snippet']['authorDisplayName'])\n",
    "            user_likes_count.append(response['items'][j]['snippet']['topLevelComment']['snippet']['likeCount'])\n",
    "    except:\n",
    "        print('Comment disabled for ',search_results['videoId'][i])"
   ]
  },
  {
   "cell_type": "code",
   "execution_count": 6,
   "metadata": {},
   "outputs": [],
   "source": [
    "# save into csv\n",
    "pd.DataFrame({'Username': user_name, 'Comment': user_comment, 'Likes': user_likes_count, 'Video ID': video_id}).to_csv('dataset/videos.csv', index=False)"
   ]
  },
  {
   "cell_type": "code",
   "execution_count": 7,
   "metadata": {},
   "outputs": [
    {
     "output_type": "display_data",
     "data": {
      "text/plain": "              Username                                            Comment  \\\n0        Nirbhal Singh  Rajewal jee is a great leader & he's right. Bj...   \n1         Ashok taneja       Rajewal ji salute ( Jai Jawan  Jai kisan)🙏🙏🙏   \n2         Surjeet Kaur                                                I'm   \n3          sunil Kumar                     Kisan Majdoor Ekta Zindabad 🙏🏻   \n4          Nasib Singh                                       Great leader   \n...                ...                                                ...   \n3358               S P  My appeal to all those who are anti corporate ...   \n3359             D MCL                   Now that’s a lot of farmers. Wow   \n3360  Gurwinder Ghuman                  Thanks for to show farmer protest   \n3361        ANUJ YADAV                                    Good I like it.   \n3362      Jesse Savage                    Covid-19 doesn't exist in india   \n\n      Likes     Video ID  \n0         0  qZoK_fF4SOg  \n1         0  qZoK_fF4SOg  \n2         0  qZoK_fF4SOg  \n3         0  qZoK_fF4SOg  \n4         0  qZoK_fF4SOg  \n...     ...          ...  \n3358      1  IIgmt0cCEf4  \n3359      1  IIgmt0cCEf4  \n3360      0  IIgmt0cCEf4  \n3361      0  IIgmt0cCEf4  \n3362      0  IIgmt0cCEf4  \n\n[3363 rows x 4 columns]",
      "text/html": "<div>\n<style scoped>\n    .dataframe tbody tr th:only-of-type {\n        vertical-align: middle;\n    }\n\n    .dataframe tbody tr th {\n        vertical-align: top;\n    }\n\n    .dataframe thead th {\n        text-align: right;\n    }\n</style>\n<table border=\"1\" class=\"dataframe\">\n  <thead>\n    <tr style=\"text-align: right;\">\n      <th></th>\n      <th>Username</th>\n      <th>Comment</th>\n      <th>Likes</th>\n      <th>Video ID</th>\n    </tr>\n  </thead>\n  <tbody>\n    <tr>\n      <th>0</th>\n      <td>Nirbhal Singh</td>\n      <td>Rajewal jee is a great leader &amp; he's right. Bj...</td>\n      <td>0</td>\n      <td>qZoK_fF4SOg</td>\n    </tr>\n    <tr>\n      <th>1</th>\n      <td>Ashok taneja</td>\n      <td>Rajewal ji salute ( Jai Jawan  Jai kisan)🙏🙏🙏</td>\n      <td>0</td>\n      <td>qZoK_fF4SOg</td>\n    </tr>\n    <tr>\n      <th>2</th>\n      <td>Surjeet Kaur</td>\n      <td>I'm</td>\n      <td>0</td>\n      <td>qZoK_fF4SOg</td>\n    </tr>\n    <tr>\n      <th>3</th>\n      <td>sunil Kumar</td>\n      <td>Kisan Majdoor Ekta Zindabad 🙏🏻</td>\n      <td>0</td>\n      <td>qZoK_fF4SOg</td>\n    </tr>\n    <tr>\n      <th>4</th>\n      <td>Nasib Singh</td>\n      <td>Great leader</td>\n      <td>0</td>\n      <td>qZoK_fF4SOg</td>\n    </tr>\n    <tr>\n      <th>...</th>\n      <td>...</td>\n      <td>...</td>\n      <td>...</td>\n      <td>...</td>\n    </tr>\n    <tr>\n      <th>3358</th>\n      <td>S P</td>\n      <td>My appeal to all those who are anti corporate ...</td>\n      <td>1</td>\n      <td>IIgmt0cCEf4</td>\n    </tr>\n    <tr>\n      <th>3359</th>\n      <td>D MCL</td>\n      <td>Now that’s a lot of farmers. Wow</td>\n      <td>1</td>\n      <td>IIgmt0cCEf4</td>\n    </tr>\n    <tr>\n      <th>3360</th>\n      <td>Gurwinder Ghuman</td>\n      <td>Thanks for to show farmer protest</td>\n      <td>0</td>\n      <td>IIgmt0cCEf4</td>\n    </tr>\n    <tr>\n      <th>3361</th>\n      <td>ANUJ YADAV</td>\n      <td>Good I like it.</td>\n      <td>0</td>\n      <td>IIgmt0cCEf4</td>\n    </tr>\n    <tr>\n      <th>3362</th>\n      <td>Jesse Savage</td>\n      <td>Covid-19 doesn't exist in india</td>\n      <td>0</td>\n      <td>IIgmt0cCEf4</td>\n    </tr>\n  </tbody>\n</table>\n<p>3363 rows × 4 columns</p>\n</div>"
     },
     "metadata": {}
    }
   ],
   "source": [
    "# display the dataset\n",
    "output = pd.read_csv(\"dataset/videos.csv\")\n",
    "display(output)"
   ]
  },
  {
   "cell_type": "code",
   "execution_count": null,
   "metadata": {},
   "outputs": [],
   "source": []
  }
 ],
 "metadata": {
  "kernelspec": {
   "name": "python382jvsc74a57bd03a7f661466d1f70fa0f4700468fb38259aa610ba11628af4a02b5f7638c3105d",
   "display_name": "Python 3.8.2 32-bit"
  },
  "language_info": {
   "codemirror_mode": {
    "name": "ipython",
    "version": 3
   },
   "file_extension": ".py",
   "mimetype": "text/x-python",
   "name": "python",
   "nbconvert_exporter": "python",
   "pygments_lexer": "ipython3",
   "version": "3.8.2"
  },
  "metadata": {
   "interpreter": {
    "hash": "3a7f661466d1f70fa0f4700468fb38259aa610ba11628af4a02b5f7638c3105d"
   }
  }
 },
 "nbformat": 4,
 "nbformat_minor": 4
}