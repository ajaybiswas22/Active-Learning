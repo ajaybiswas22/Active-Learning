{
 "cells": [
  {
   "cell_type": "code",
   "execution_count": 6,
   "source": [
    "import os\r\n",
    "import googleapiclient.discovery\r\n",
    "from lib.keys import api_key as DEVELOPER_KEY\r\n",
    "import numpy as np\r\n",
    "import pandas as pd\r\n",
    "import json\r\n",
    "import csv\r\n",
    "\r\n",
    "# API CALL\r\n",
    "api_service_name = \"youtube\"\r\n",
    "api_version = \"v3\"\r\n",
    "\r\n",
    "youtube = googleapiclient.discovery.build(\r\n",
    "api_service_name, api_version, developerKey = DEVELOPER_KEY)\r\n",
    "\r\n",
    "queries = [\"farmer protest\",\"kisan andolan\",\"farmer bill\", \r\n",
    "           \"agriculture reform bill 2020\",\"kisan morcha\",\"rakesh tikait\",\r\n",
    "           \"राकेश टिकैत\",\"kisan mahapanchayat\",\"farmers march\",\"Farmer Protest LatestNews\",\r\n",
    "           \"Doubling farmers income\",\"krishi mandi\",\"farmlaws\",\"Krishi Bill 2020\",\r\n",
    "           \"Haryana farmers Protest\",\"farmer protest delhi border\",\"A Day at the Tikri Border\",\r\n",
    "           \"farmers protest in Tohana\",\"tractor rally delhi\",\"kisan vs police\",\"kisan riot\",\r\n",
    "           \"kisan taliban\"]\r\n",
    "\r\n",
    "# lists\r\n",
    "video_Id = []\r\n",
    "video_Title = []\r\n",
    "channel_Id = []\r\n",
    "channel_name = []\r\n",
    "video_Date = []\r\n",
    "\r\n",
    "# take multiple search results\r\n",
    "for i in range(len(queries)):\r\n",
    "    request = youtube.search().list(\r\n",
    "        part=\"snippet\",\r\n",
    "        maxResults=50,\r\n",
    "        q=queries[i]\r\n",
    "    )\r\n",
    "    response = request.execute()\r\n",
    "    videos_total = len(response['items'])\r\n",
    "\r\n",
    "    # all parsed videos\r\n",
    "    for i in range(videos_total):\r\n",
    "        # insert if unique video id\r\n",
    "\r\n",
    "        try:\r\n",
    "            if response['items'][i]['id']['videoId'] not in video_Id:\r\n",
    "                video_Id.append(response['items'][i]['id']['videoId'])\r\n",
    "                video_Title.append(response['items'][i]['snippet']['title'])\r\n",
    "                channel_Id.append(response['items'][i]['snippet']['channelId'])\r\n",
    "                channel_name.append(response['items'][i]['snippet']['channelTitle'])\r\n",
    "                video_Date.append(response['items'][i]['snippet']['publishedAt'])\r\n",
    "        except:\r\n",
    "            print('VideoId miss')\r\n",
    "\r\n",
    "# save into csv\r\n",
    "pd.DataFrame({'videoId': video_Id, \r\n",
    "            'title': video_Title, \r\n",
    "            'channelId': channel_Id,\r\n",
    "            'channelName': channel_name,\r\n",
    "            'date': video_Date}).to_csv('dataset/multipleSearchResults.csv', index=False)\r\n"
   ],
   "outputs": [
    {
     "output_type": "stream",
     "name": "stdout",
     "text": [
      "VideoId miss\n",
      "VideoId miss\n"
     ]
    }
   ],
   "metadata": {}
  },
  {
   "cell_type": "code",
   "execution_count": null,
   "source": [],
   "outputs": [],
   "metadata": {}
  },
  {
   "cell_type": "code",
   "execution_count": 5,
   "source": [
    "# display the dataset\r\n",
    "output = pd.read_csv(\"dataset/multipleSearchResults.csv\")\r\n",
    "#display(output)"
   ],
   "outputs": [],
   "metadata": {}
  },
  {
   "cell_type": "code",
   "execution_count": null,
   "source": [],
   "outputs": [],
   "metadata": {}
  }
 ],
 "metadata": {
  "kernelspec": {
   "name": "python3",
   "display_name": "Python 3.8.8 64-bit ('base': conda)"
  },
  "language_info": {
   "codemirror_mode": {
    "name": "ipython",
    "version": 3
   },
   "file_extension": ".py",
   "mimetype": "text/x-python",
   "name": "python",
   "nbconvert_exporter": "python",
   "pygments_lexer": "ipython3",
   "version": "3.8.8"
  },
  "metadata": {
   "interpreter": {
    "hash": "3a7f661466d1f70fa0f4700468fb38259aa610ba11628af4a02b5f7638c3105d"
   }
  },
  "interpreter": {
   "hash": "2e918aaa81d99c652401bdd1a0c185581595fb477ac919641bd65261b5d7782a"
  }
 },
 "nbformat": 4,
 "nbformat_minor": 4
}