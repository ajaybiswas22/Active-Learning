{
 "cells": [
  {
   "cell_type": "code",
   "execution_count": 1,
   "source": [
    "from http.client import responses\r\n",
    "import os\r\n",
    "import googleapiclient.discovery\r\n",
    "from lib.keys import api_key as DEVELOPER_KEY\r\n",
    "import numpy as np\r\n",
    "import pandas as pd\r\n",
    "import json\r\n",
    "import csv"
   ],
   "outputs": [],
   "metadata": {}
  },
  {
   "cell_type": "code",
   "execution_count": 2,
   "source": [
    "# API CALL\r\n",
    "api_service_name = \"youtube\"\r\n",
    "api_version = \"v3\"\r\n",
    "\r\n",
    "youtube = googleapiclient.discovery.build(\r\n",
    "    api_service_name, api_version, developerKey = DEVELOPER_KEY)"
   ],
   "outputs": [],
   "metadata": {}
  },
  {
   "cell_type": "code",
   "execution_count": 3,
   "source": [
    "search_results = pd.read_csv(\"dataset/multipleSearchResults.csv\")\r\n"
   ],
   "outputs": [],
   "metadata": {}
  },
  {
   "cell_type": "code",
   "execution_count": 4,
   "source": [
    "# lists\r\n",
    "user_name = []\r\n",
    "user_comment = []\r\n",
    "user_likes_count = []\r\n",
    "video_id = []"
   ],
   "outputs": [],
   "metadata": {}
  },
  {
   "cell_type": "code",
   "execution_count": 5,
   "source": [
    "for i in range(len(search_results)):\r\n",
    "    try:\r\n",
    "        videoID = (search_results['videoId'][i])\r\n",
    "\r\n",
    "        request = youtube.commentThreads().list(\r\n",
    "        part=\"snippet,replies\",\r\n",
    "        maxResults=100,\r\n",
    "        videoId=videoID)\r\n",
    "        response = request.execute()\r\n",
    "\r\n",
    "        comments_total = len(response['items'])\r\n",
    "\r\n",
    "        for j in range(comments_total):\r\n",
    "            video_id.append(videoID)\r\n",
    "            user_comment.append(response['items'][j]['snippet']['topLevelComment']['snippet']['textOriginal'])\r\n",
    "            user_name.append(response['items'][j]['snippet']['topLevelComment']['snippet']['authorDisplayName'])\r\n",
    "            user_likes_count.append(response['items'][j]['snippet']['topLevelComment']['snippet']['likeCount'])\r\n",
    "    except:\r\n",
    "        print('Comment disabled for ',search_results['videoId'][i])"
   ],
   "outputs": [
    {
     "output_type": "stream",
     "name": "stdout",
     "text": [
      "Comment disabled for  BYA2049gCq4\n",
      "Comment disabled for  4ynox_5EL1k\n",
      "Comment disabled for  aMp60O_DKJI\n",
      "Comment disabled for  3DbTy_GeYdA\n",
      "Comment disabled for  l106CudDGZc\n",
      "Comment disabled for  yv_oMl2VZlE\n",
      "Comment disabled for  sNvFJr5vmmc\n",
      "Comment disabled for  W6lv5HJnJBA\n"
     ]
    }
   ],
   "metadata": {}
  },
  {
   "cell_type": "code",
   "execution_count": null,
   "source": [],
   "outputs": [],
   "metadata": {}
  },
  {
   "cell_type": "code",
   "execution_count": 6,
   "source": [
    "# save into csv\r\n",
    "pd.DataFrame({'Username': user_name, 'Comment': user_comment, 'Likes': user_likes_count, 'Video ID': video_id}).to_csv('dataset/multipleComments.csv', index=False)"
   ],
   "outputs": [],
   "metadata": {}
  },
  {
   "cell_type": "code",
   "execution_count": 7,
   "source": [
    "# display the dataset\r\n",
    "output = pd.read_csv(\"dataset/multipleComments.csv\")\r\n",
    "display(output)"
   ],
   "outputs": [
    {
     "output_type": "display_data",
     "data": {
      "text/html": [
       "<div>\n",
       "<style scoped>\n",
       "    .dataframe tbody tr th:only-of-type {\n",
       "        vertical-align: middle;\n",
       "    }\n",
       "\n",
       "    .dataframe tbody tr th {\n",
       "        vertical-align: top;\n",
       "    }\n",
       "\n",
       "    .dataframe thead th {\n",
       "        text-align: right;\n",
       "    }\n",
       "</style>\n",
       "<table border=\"1\" class=\"dataframe\">\n",
       "  <thead>\n",
       "    <tr style=\"text-align: right;\">\n",
       "      <th></th>\n",
       "      <th>Username</th>\n",
       "      <th>Comment</th>\n",
       "      <th>Likes</th>\n",
       "      <th>Video ID</th>\n",
       "    </tr>\n",
       "  </thead>\n",
       "  <tbody>\n",
       "    <tr>\n",
       "      <th>0</th>\n",
       "      <td>Aryavarti kisan Bhagat</td>\n",
       "      <td>किसान मजदूर एकता  जिन्दाबाद</td>\n",
       "      <td>0</td>\n",
       "      <td>0lrE3zoaCqI</td>\n",
       "    </tr>\n",
       "    <tr>\n",
       "      <th>1</th>\n",
       "      <td>Pardeep Sandhu</td>\n",
       "      <td>Mam actually ek kisan ki death ho gyi hai usko...</td>\n",
       "      <td>0</td>\n",
       "      <td>0lrE3zoaCqI</td>\n",
       "    </tr>\n",
       "    <tr>\n",
       "      <th>2</th>\n",
       "      <td>Sahab Singh</td>\n",
       "      <td>Ko bi</td>\n",
       "      <td>0</td>\n",
       "      <td>0lrE3zoaCqI</td>\n",
       "    </tr>\n",
       "    <tr>\n",
       "      <th>3</th>\n",
       "      <td>Hoshiar singh</td>\n",
       "      <td>किसान भाईयों यदि पुलिस वाले लाठी चलाने की कोशि...</td>\n",
       "      <td>0</td>\n",
       "      <td>0lrE3zoaCqI</td>\n",
       "    </tr>\n",
       "    <tr>\n",
       "      <th>4</th>\n",
       "      <td>Gurlal singh</td>\n",
       "      <td>Very bad BJP cm jjp</td>\n",
       "      <td>0</td>\n",
       "      <td>0lrE3zoaCqI</td>\n",
       "    </tr>\n",
       "    <tr>\n",
       "      <th>...</th>\n",
       "      <td>...</td>\n",
       "      <td>...</td>\n",
       "      <td>...</td>\n",
       "      <td>...</td>\n",
       "    </tr>\n",
       "    <tr>\n",
       "      <th>45370</th>\n",
       "      <td>Rahul Kushwaha</td>\n",
       "      <td>Ese dekh MEWAR ki yaad aa rhi</td>\n",
       "      <td>0</td>\n",
       "      <td>jTrlAzXZJ5M</td>\n",
       "    </tr>\n",
       "    <tr>\n",
       "      <th>45371</th>\n",
       "      <td>Shreya Raj</td>\n",
       "      <td>May the moral of Panjshir warriors stay high 🙏...</td>\n",
       "      <td>3</td>\n",
       "      <td>jTrlAzXZJ5M</td>\n",
       "    </tr>\n",
       "    <tr>\n",
       "      <th>45372</th>\n",
       "      <td>Monindra Mahato</td>\n",
       "      <td>INDIA ko vi Saran nahi dena hay</td>\n",
       "      <td>0</td>\n",
       "      <td>jTrlAzXZJ5M</td>\n",
       "    </tr>\n",
       "    <tr>\n",
       "      <th>45373</th>\n",
       "      <td>Akash Isadkar</td>\n",
       "      <td>Ha aur taliban ke 300 ladko Maar dala ye bhi b...</td>\n",
       "      <td>0</td>\n",
       "      <td>jTrlAzXZJ5M</td>\n",
       "    </tr>\n",
       "    <tr>\n",
       "      <th>45374</th>\n",
       "      <td>Lakhan Kushwaha</td>\n",
       "      <td>Maro ya maaro,ye Afghanistan kisi ke baap ka t...</td>\n",
       "      <td>0</td>\n",
       "      <td>jTrlAzXZJ5M</td>\n",
       "    </tr>\n",
       "  </tbody>\n",
       "</table>\n",
       "<p>45375 rows × 4 columns</p>\n",
       "</div>"
      ],
      "text/plain": [
       "                     Username  \\\n",
       "0      Aryavarti kisan Bhagat   \n",
       "1              Pardeep Sandhu   \n",
       "2                 Sahab Singh   \n",
       "3               Hoshiar singh   \n",
       "4                Gurlal singh   \n",
       "...                       ...   \n",
       "45370          Rahul Kushwaha   \n",
       "45371              Shreya Raj   \n",
       "45372         Monindra Mahato   \n",
       "45373           Akash Isadkar   \n",
       "45374         Lakhan Kushwaha   \n",
       "\n",
       "                                                 Comment  Likes     Video ID  \n",
       "0                            किसान मजदूर एकता  जिन्दाबाद      0  0lrE3zoaCqI  \n",
       "1      Mam actually ek kisan ki death ho gyi hai usko...      0  0lrE3zoaCqI  \n",
       "2                                                  Ko bi      0  0lrE3zoaCqI  \n",
       "3      किसान भाईयों यदि पुलिस वाले लाठी चलाने की कोशि...      0  0lrE3zoaCqI  \n",
       "4                                    Very bad BJP cm jjp      0  0lrE3zoaCqI  \n",
       "...                                                  ...    ...          ...  \n",
       "45370                      Ese dekh MEWAR ki yaad aa rhi      0  jTrlAzXZJ5M  \n",
       "45371  May the moral of Panjshir warriors stay high 🙏...      3  jTrlAzXZJ5M  \n",
       "45372                    INDIA ko vi Saran nahi dena hay      0  jTrlAzXZJ5M  \n",
       "45373  Ha aur taliban ke 300 ladko Maar dala ye bhi b...      0  jTrlAzXZJ5M  \n",
       "45374  Maro ya maaro,ye Afghanistan kisi ke baap ka t...      0  jTrlAzXZJ5M  \n",
       "\n",
       "[45375 rows x 4 columns]"
      ]
     },
     "metadata": {}
    }
   ],
   "metadata": {}
  },
  {
   "cell_type": "code",
   "execution_count": null,
   "source": [],
   "outputs": [],
   "metadata": {}
  }
 ],
 "metadata": {
  "kernelspec": {
   "name": "python3",
   "display_name": "Python 3.8.8 64-bit ('base': conda)"
  },
  "language_info": {
   "codemirror_mode": {
    "name": "ipython",
    "version": 3
   },
   "file_extension": ".py",
   "mimetype": "text/x-python",
   "name": "python",
   "nbconvert_exporter": "python",
   "pygments_lexer": "ipython3",
   "version": "3.8.8"
  },
  "metadata": {
   "interpreter": {
    "hash": "3a7f661466d1f70fa0f4700468fb38259aa610ba11628af4a02b5f7638c3105d"
   }
  },
  "interpreter": {
   "hash": "2e918aaa81d99c652401bdd1a0c185581595fb477ac919641bd65261b5d7782a"
  }
 },
 "nbformat": 4,
 "nbformat_minor": 4
}