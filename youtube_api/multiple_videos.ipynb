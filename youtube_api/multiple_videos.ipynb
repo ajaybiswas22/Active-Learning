{
 "cells": [
  {
   "cell_type": "code",
   "execution_count": 1,
   "metadata": {},
   "outputs": [],
   "source": [
    "from http.client import responses\n",
    "import os\n",
    "import googleapiclient.discovery\n",
    "from lib.keys import api_key as DEVELOPER_KEY\n",
    "import numpy as np\n",
    "import pandas as pd\n",
    "import json\n",
    "import csv"
   ]
  },
  {
   "cell_type": "code",
   "execution_count": 2,
   "metadata": {},
   "outputs": [],
   "source": [
    "# API CALL\n",
    "api_service_name = \"youtube\"\n",
    "api_version = \"v3\"\n",
    "\n",
    "youtube = googleapiclient.discovery.build(\n",
    "    api_service_name, api_version, developerKey = DEVELOPER_KEY)"
   ]
  },
  {
   "cell_type": "code",
   "execution_count": 3,
   "metadata": {},
   "outputs": [],
   "source": [
    "search_results = pd.read_csv(\"dataset/searchResults.csv\")\n"
   ]
  },
  {
   "cell_type": "code",
   "execution_count": 4,
   "metadata": {},
   "outputs": [],
   "source": [
    "# lists\n",
    "user_name = []\n",
    "user_comment = []\n",
    "user_likes_count = []"
   ]
  },
  {
   "cell_type": "code",
   "execution_count": 13,
   "metadata": {},
   "outputs": [],
   "source": [
    "for i in range(0,5):\n",
    "    videoID = (search_results['videoId'][i])\n",
    "    \n",
    "    request = youtube.commentThreads().list(\n",
    "    part=\"snippet,replies\",\n",
    "    maxResults=100,\n",
    "    videoId=videoID)\n",
    "    response = request.execute()\n",
    "    \n",
    "    comments_total = len(response['items'])\n",
    "\n",
    "    for j in range(comments_total):\n",
    "        user_comment.append(response['items'][j]['snippet']['topLevelComment']['snippet']['textOriginal'])\n",
    "        user_name.append(response['items'][j]['snippet']['topLevelComment']['snippet']['authorDisplayName'])\n",
    "        user_likes_count.append(response['items'][j]['snippet']['topLevelComment']['snippet']['likeCount'])"
   ]
  },
  {
   "cell_type": "code",
   "execution_count": 14,
   "metadata": {},
   "outputs": [],
   "source": [
    "# save into csv\n",
    "pd.DataFrame({'Username': user_name, 'Comment': user_comment, 'Likes': user_likes_count}).to_csv('dataset/videos.csv', index=False)"
   ]
  },
  {
   "cell_type": "code",
   "execution_count": 15,
   "metadata": {},
   "outputs": [
    {
     "data": {
      "text/html": [
       "<div>\n",
       "<style scoped>\n",
       "    .dataframe tbody tr th:only-of-type {\n",
       "        vertical-align: middle;\n",
       "    }\n",
       "\n",
       "    .dataframe tbody tr th {\n",
       "        vertical-align: top;\n",
       "    }\n",
       "\n",
       "    .dataframe thead th {\n",
       "        text-align: right;\n",
       "    }\n",
       "</style>\n",
       "<table border=\"1\" class=\"dataframe\">\n",
       "  <thead>\n",
       "    <tr style=\"text-align: right;\">\n",
       "      <th></th>\n",
       "      <th>Username</th>\n",
       "      <th>Comment</th>\n",
       "      <th>Likes</th>\n",
       "    </tr>\n",
       "  </thead>\n",
       "  <tbody>\n",
       "    <tr>\n",
       "      <th>0</th>\n",
       "      <td>Centralist man</td>\n",
       "      <td>Kumbh mela, bengal rallies are super spreader\\...</td>\n",
       "      <td>0</td>\n",
       "    </tr>\n",
       "    <tr>\n",
       "      <th>1</th>\n",
       "      <td>Man</td>\n",
       "      <td>🏴🏴</td>\n",
       "      <td>0</td>\n",
       "    </tr>\n",
       "    <tr>\n",
       "      <th>2</th>\n",
       "      <td>Varun 12</td>\n",
       "      <td>This farmers will harvest new novel strains of...</td>\n",
       "      <td>0</td>\n",
       "    </tr>\n",
       "    <tr>\n",
       "      <th>3</th>\n",
       "      <td>Akash</td>\n",
       "      <td>India is fully against these farmers</td>\n",
       "      <td>0</td>\n",
       "    </tr>\n",
       "    <tr>\n",
       "      <th>4</th>\n",
       "      <td>Shakti Narwal</td>\n",
       "      <td>Hisar in Turkish means Fortress. So yeah</td>\n",
       "      <td>0</td>\n",
       "    </tr>\n",
       "    <tr>\n",
       "      <th>...</th>\n",
       "      <td>...</td>\n",
       "      <td>...</td>\n",
       "      <td>...</td>\n",
       "    </tr>\n",
       "    <tr>\n",
       "      <th>2351</th>\n",
       "      <td>Mohit Sachdeva</td>\n",
       "      <td>Tum jitna bhi kar lo Lallantop, Farm laws wapi...</td>\n",
       "      <td>6</td>\n",
       "    </tr>\n",
       "    <tr>\n",
       "      <th>2352</th>\n",
       "      <td>Deep Talukdar</td>\n",
       "      <td>Aaj the lallantop show aur duniadari abhi tak ...</td>\n",
       "      <td>1</td>\n",
       "    </tr>\n",
       "    <tr>\n",
       "      <th>2353</th>\n",
       "      <td>Life Show PS Just truth</td>\n",
       "      <td>Jai kishan....Jai javan</td>\n",
       "      <td>2</td>\n",
       "    </tr>\n",
       "    <tr>\n",
       "      <th>2354</th>\n",
       "      <td>EXTREME MEMER ✔</td>\n",
       "      <td>KISAAN MAZDOOR EKTA ZINDAABAD</td>\n",
       "      <td>2</td>\n",
       "    </tr>\n",
       "    <tr>\n",
       "      <th>2355</th>\n",
       "      <td>Md Sarfraz</td>\n",
       "      <td>where is lallantop show??\\nsocial list and dun...</td>\n",
       "      <td>2</td>\n",
       "    </tr>\n",
       "  </tbody>\n",
       "</table>\n",
       "<p>2356 rows × 3 columns</p>\n",
       "</div>"
      ],
      "text/plain": [
       "                     Username  \\\n",
       "0              Centralist man   \n",
       "1                         Man   \n",
       "2                    Varun 12   \n",
       "3                       Akash   \n",
       "4               Shakti Narwal   \n",
       "...                       ...   \n",
       "2351           Mohit Sachdeva   \n",
       "2352            Deep Talukdar   \n",
       "2353  Life Show PS Just truth   \n",
       "2354          EXTREME MEMER ✔   \n",
       "2355               Md Sarfraz   \n",
       "\n",
       "                                                Comment  Likes  \n",
       "0     Kumbh mela, bengal rallies are super spreader\\...      0  \n",
       "1                                                    🏴🏴      0  \n",
       "2     This farmers will harvest new novel strains of...      0  \n",
       "3                  India is fully against these farmers      0  \n",
       "4              Hisar in Turkish means Fortress. So yeah      0  \n",
       "...                                                 ...    ...  \n",
       "2351  Tum jitna bhi kar lo Lallantop, Farm laws wapi...      6  \n",
       "2352  Aaj the lallantop show aur duniadari abhi tak ...      1  \n",
       "2353                            Jai kishan....Jai javan      2  \n",
       "2354                      KISAAN MAZDOOR EKTA ZINDAABAD      2  \n",
       "2355  where is lallantop show??\\nsocial list and dun...      2  \n",
       "\n",
       "[2356 rows x 3 columns]"
      ]
     },
     "metadata": {},
     "output_type": "display_data"
    }
   ],
   "source": [
    "# display the dataset\n",
    "output = pd.read_csv(\"dataset/videos.csv\")\n",
    "display(output)"
   ]
  }
 ],
 "metadata": {
  "kernelspec": {
   "display_name": "Python 3",
   "language": "python",
   "name": "python3"
  },
  "language_info": {
   "codemirror_mode": {
    "name": "ipython",
    "version": 3
   },
   "file_extension": ".py",
   "mimetype": "text/x-python",
   "name": "python",
   "nbconvert_exporter": "python",
   "pygments_lexer": "ipython3",
   "version": "3.8.5"
  }
 },
 "nbformat": 4,
 "nbformat_minor": 4
}
