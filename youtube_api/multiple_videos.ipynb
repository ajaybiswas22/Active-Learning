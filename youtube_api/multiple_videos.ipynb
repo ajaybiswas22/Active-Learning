{
 "cells": [
  {
   "cell_type": "code",
   "execution_count": 1,
   "metadata": {},
   "outputs": [],
   "source": [
    "from http.client import responses\n",
    "import os\n",
    "import googleapiclient.discovery\n",
    "from lib.keys import api_key as DEVELOPER_KEY\n",
    "import numpy as np\n",
    "import pandas as pd\n",
    "import json\n",
    "import csv"
   ]
  },
  {
   "cell_type": "code",
   "execution_count": 2,
   "metadata": {},
   "outputs": [],
   "source": [
    "# API CALL\n",
    "api_service_name = \"youtube\"\n",
    "api_version = \"v3\"\n",
    "\n",
    "youtube = googleapiclient.discovery.build(\n",
    "    api_service_name, api_version, developerKey = DEVELOPER_KEY)"
   ]
  },
  {
   "cell_type": "code",
   "execution_count": 3,
   "metadata": {},
   "outputs": [],
   "source": [
    "search_results = pd.read_csv(\"dataset/searchResults.csv\")\n"
   ]
  },
  {
   "cell_type": "code",
   "execution_count": 4,
   "metadata": {},
   "outputs": [],
   "source": [
    "# lists\n",
    "user_name = []\n",
    "user_comment = []\n",
    "user_likes_count = []\n",
    "video_id = []"
   ]
  },
  {
   "cell_type": "code",
   "execution_count": 5,
   "metadata": {},
   "outputs": [
    {
     "name": "stdout",
     "output_type": "stream",
     "text": [
      "Comment disabled for  BYA2049gCq4\n",
      "Comment disabled for  _W5UfJQDv2Q\n"
     ]
    }
   ],
   "source": [
    "for i in range(len(search_results)):\n",
    "    try:\n",
    "        videoID = (search_results['videoId'][i])\n",
    "\n",
    "        request = youtube.commentThreads().list(\n",
    "        part=\"snippet,replies\",\n",
    "        maxResults=100,\n",
    "        videoId=videoID)\n",
    "        response = request.execute()\n",
    "\n",
    "        comments_total = len(response['items'])\n",
    "\n",
    "        for j in range(comments_total):\n",
    "            video_id.append(videoID)\n",
    "            user_comment.append(response['items'][j]['snippet']['topLevelComment']['snippet']['textOriginal'])\n",
    "            user_name.append(response['items'][j]['snippet']['topLevelComment']['snippet']['authorDisplayName'])\n",
    "            user_likes_count.append(response['items'][j]['snippet']['topLevelComment']['snippet']['likeCount'])\n",
    "    except:\n",
    "        print('Comment disabled for ',search_results['videoId'][i])"
   ]
  },
  {
   "cell_type": "code",
   "execution_count": 6,
   "metadata": {},
   "outputs": [],
   "source": [
    "# save into csv\n",
    "pd.DataFrame({'Username': user_name, 'Comment': user_comment, 'Likes': user_likes_count, 'Video ID': video_id}).to_csv('dataset/videos.csv', index=False)"
   ]
  },
  {
   "cell_type": "code",
   "execution_count": 7,
   "metadata": {},
   "outputs": [
    {
     "data": {
      "text/html": [
       "<div>\n",
       "<style scoped>\n",
       "    .dataframe tbody tr th:only-of-type {\n",
       "        vertical-align: middle;\n",
       "    }\n",
       "\n",
       "    .dataframe tbody tr th {\n",
       "        vertical-align: top;\n",
       "    }\n",
       "\n",
       "    .dataframe thead th {\n",
       "        text-align: right;\n",
       "    }\n",
       "</style>\n",
       "<table border=\"1\" class=\"dataframe\">\n",
       "  <thead>\n",
       "    <tr style=\"text-align: right;\">\n",
       "      <th></th>\n",
       "      <th>Username</th>\n",
       "      <th>Comment</th>\n",
       "      <th>Likes</th>\n",
       "      <th>Video ID</th>\n",
       "    </tr>\n",
       "  </thead>\n",
       "  <tbody>\n",
       "    <tr>\n",
       "      <th>0</th>\n",
       "      <td>GodBAINS Yt . 6.1M views</td>\n",
       "      <td>Kisaan majdoor ekta zindabad</td>\n",
       "      <td>0</td>\n",
       "      <td>qZoK_fF4SOg</td>\n",
       "    </tr>\n",
       "    <tr>\n",
       "      <th>1</th>\n",
       "      <td>Education JSA</td>\n",
       "      <td>Rajewal ji hit the nail on the head when he sa...</td>\n",
       "      <td>0</td>\n",
       "      <td>qZoK_fF4SOg</td>\n",
       "    </tr>\n",
       "    <tr>\n",
       "      <th>2</th>\n",
       "      <td>ram kumar tomar</td>\n",
       "      <td>Thanks BBC</td>\n",
       "      <td>0</td>\n",
       "      <td>qZoK_fF4SOg</td>\n",
       "    </tr>\n",
       "    <tr>\n",
       "      <th>3</th>\n",
       "      <td>ram kumar tomar</td>\n",
       "      <td>I support Farmers.</td>\n",
       "      <td>0</td>\n",
       "      <td>qZoK_fF4SOg</td>\n",
       "    </tr>\n",
       "    <tr>\n",
       "      <th>4</th>\n",
       "      <td>Abde God</td>\n",
       "      <td>अफसाना का सामान अच्छा है किसान जिंदबाद</td>\n",
       "      <td>0</td>\n",
       "      <td>qZoK_fF4SOg</td>\n",
       "    </tr>\n",
       "    <tr>\n",
       "      <th>...</th>\n",
       "      <td>...</td>\n",
       "      <td>...</td>\n",
       "      <td>...</td>\n",
       "      <td>...</td>\n",
       "    </tr>\n",
       "    <tr>\n",
       "      <th>3118</th>\n",
       "      <td>Mossad</td>\n",
       "      <td>Fuck farmer protection</td>\n",
       "      <td>2</td>\n",
       "      <td>yOH7BDvOzxY</td>\n",
       "    </tr>\n",
       "    <tr>\n",
       "      <th>3119</th>\n",
       "      <td>Harshit Vansh</td>\n",
       "      <td>Bella ciao 💙 KisaanEktaZindabad 🇮🇳</td>\n",
       "      <td>1</td>\n",
       "      <td>yOH7BDvOzxY</td>\n",
       "    </tr>\n",
       "    <tr>\n",
       "      <th>3120</th>\n",
       "      <td>Sandeep Chaudhary</td>\n",
       "      <td>That is the real purpose of any anthem ,to uni...</td>\n",
       "      <td>0</td>\n",
       "      <td>yOH7BDvOzxY</td>\n",
       "    </tr>\n",
       "    <tr>\n",
       "      <th>3121</th>\n",
       "      <td>Ravinder Singh</td>\n",
       "      <td>Love you bro</td>\n",
       "      <td>0</td>\n",
       "      <td>yOH7BDvOzxY</td>\n",
       "    </tr>\n",
       "    <tr>\n",
       "      <th>3122</th>\n",
       "      <td>Mohammad Khan</td>\n",
       "      <td>Brilliant</td>\n",
       "      <td>0</td>\n",
       "      <td>yOH7BDvOzxY</td>\n",
       "    </tr>\n",
       "  </tbody>\n",
       "</table>\n",
       "<p>3123 rows × 4 columns</p>\n",
       "</div>"
      ],
      "text/plain": [
       "                      Username  \\\n",
       "0     GodBAINS Yt . 6.1M views   \n",
       "1                Education JSA   \n",
       "2              ram kumar tomar   \n",
       "3              ram kumar tomar   \n",
       "4                     Abde God   \n",
       "...                        ...   \n",
       "3118                    Mossad   \n",
       "3119             Harshit Vansh   \n",
       "3120         Sandeep Chaudhary   \n",
       "3121            Ravinder Singh   \n",
       "3122             Mohammad Khan   \n",
       "\n",
       "                                                Comment  Likes     Video ID  \n",
       "0                          Kisaan majdoor ekta zindabad      0  qZoK_fF4SOg  \n",
       "1     Rajewal ji hit the nail on the head when he sa...      0  qZoK_fF4SOg  \n",
       "2                                            Thanks BBC      0  qZoK_fF4SOg  \n",
       "3                                    I support Farmers.      0  qZoK_fF4SOg  \n",
       "4                अफसाना का सामान अच्छा है किसान जिंदबाद      0  qZoK_fF4SOg  \n",
       "...                                                 ...    ...          ...  \n",
       "3118                             Fuck farmer protection      2  yOH7BDvOzxY  \n",
       "3119                 Bella ciao 💙 KisaanEktaZindabad 🇮🇳      1  yOH7BDvOzxY  \n",
       "3120  That is the real purpose of any anthem ,to uni...      0  yOH7BDvOzxY  \n",
       "3121                                       Love you bro      0  yOH7BDvOzxY  \n",
       "3122                                          Brilliant      0  yOH7BDvOzxY  \n",
       "\n",
       "[3123 rows x 4 columns]"
      ]
     },
     "metadata": {},
     "output_type": "display_data"
    }
   ],
   "source": [
    "# display the dataset\n",
    "output = pd.read_csv(\"dataset/videos.csv\")\n",
    "display(output)"
   ]
  },
  {
   "cell_type": "code",
   "execution_count": null,
   "metadata": {},
   "outputs": [],
   "source": []
  }
 ],
 "metadata": {
  "kernelspec": {
   "display_name": "Python 3",
   "language": "python",
   "name": "python3"
  },
  "language_info": {
   "codemirror_mode": {
    "name": "ipython",
    "version": 3
   },
   "file_extension": ".py",
   "mimetype": "text/x-python",
   "name": "python",
   "nbconvert_exporter": "python",
   "pygments_lexer": "ipython3",
   "version": "3.8.5"
  }
 },
 "nbformat": 4,
 "nbformat_minor": 4
}
