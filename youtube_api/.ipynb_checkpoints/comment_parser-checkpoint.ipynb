{
 "cells": [
  {
   "cell_type": "code",
   "execution_count": 1,
   "metadata": {},
   "outputs": [],
   "source": [
    "\"\"\"\n",
    "@Author Ajay Biswas\n",
    "\"\"\"\n",
    "\n",
    "from http.client import responses\n",
    "import os\n",
    "import googleapiclient.discovery\n",
    "from lib.keys import api_key as DEVELOPER_KEY\n",
    "import numpy as np\n",
    "import pandas as pd\n",
    "import json\n",
    "import csv\n"
   ]
  },
  {
   "cell_type": "code",
   "execution_count": 2,
   "metadata": {},
   "outputs": [],
   "source": [
    "# API CALL\n",
    "api_service_name = \"youtube\"\n",
    "api_version = \"v3\"\n",
    "\n",
    "youtube = googleapiclient.discovery.build(\n",
    "    api_service_name, api_version, developerKey = DEVELOPER_KEY)\n",
    "\n",
    "request = youtube.commentThreads().list(\n",
    "    part=\"snippet,replies\",\n",
    "    #maxResults=100,\n",
    "    videoId=\"p6-cB1AGPO8\"\n",
    ")\n",
    "response = request.execute()"
   ]
  },
  {
   "cell_type": "code",
   "execution_count": 4,
   "metadata": {},
   "outputs": [
    {
     "name": "stdout",
     "output_type": "stream",
     "text": [
      "nan\n",
      "nan\n",
      "nan\n",
      "nan\n",
      "nan\n",
      "nan\n",
      "nan\n",
      "nan\n",
      "nan\n",
      "nan\n",
      "{'comments': [{'kind': 'youtube#comment', 'etag': 'SK19VCQ5aw_3_G_7StoPLP0U1Mo', 'id': 'UgzSKfwIQ46QK8GIXCx4AaABAg.9NmRd6qOl2J9NmUSiMEEGT', 'snippet': {'videoId': 'p6-cB1AGPO8', 'textDisplay': 'when lego teaches you about engineering', 'textOriginal': 'when lego teaches you about engineering', 'parentId': 'UgzSKfwIQ46QK8GIXCx4AaABAg', 'authorDisplayName': 'Pifilix XIV', 'authorProfileImageUrl': 'https://yt3.ggpht.com/ytc/AAUvwnhipaURh7S9nG-AReO61EzhKNctepxX11phxsdw=s48-c-k-c0x00ffffff-no-rj', 'authorChannelUrl': 'http://www.youtube.com/channel/UCwt7ihJ5z3128sSYrHfxEXQ', 'authorChannelId': {'value': 'UCwt7ihJ5z3128sSYrHfxEXQ'}, 'canRate': True, 'viewerRating': 'none', 'likeCount': 0, 'publishedAt': '2021-05-25T22:08:52Z', 'updatedAt': '2021-05-25T22:08:52Z'}}]}\n",
      "nan\n",
      "nan\n",
      "nan\n",
      "nan\n",
      "nan\n",
      "nan\n",
      "nan\n",
      "nan\n",
      "nan\n"
     ]
    },
    {
     "ename": "PermissionError",
     "evalue": "[Errno 13] Permission denied: 'video1.csv'",
     "output_type": "error",
     "traceback": [
      "\u001b[1;31m---------------------------------------------------------------------------\u001b[0m",
      "\u001b[1;31mPermissionError\u001b[0m                           Traceback (most recent call last)",
      "\u001b[1;32m<ipython-input-4-85290e71f400>\u001b[0m in \u001b[0;36m<module>\u001b[1;34m\u001b[0m\n\u001b[0;32m     36\u001b[0m \u001b[0mrows\u001b[0m \u001b[1;33m=\u001b[0m \u001b[1;33m[\u001b[0m\u001b[0muser_name\u001b[0m\u001b[1;33m,\u001b[0m\u001b[0muser_comment\u001b[0m\u001b[1;33m]\u001b[0m\u001b[1;33m\u001b[0m\u001b[1;33m\u001b[0m\u001b[0m\n\u001b[0;32m     37\u001b[0m \u001b[1;33m\u001b[0m\u001b[0m\n\u001b[1;32m---> 38\u001b[1;33m \u001b[1;32mwith\u001b[0m \u001b[0mopen\u001b[0m\u001b[1;33m(\u001b[0m\u001b[1;34m'video1.csv'\u001b[0m\u001b[1;33m,\u001b[0m \u001b[1;34m'w'\u001b[0m\u001b[1;33m,\u001b[0m \u001b[0mencoding\u001b[0m\u001b[1;33m=\u001b[0m\u001b[1;34m'utf-8'\u001b[0m\u001b[1;33m)\u001b[0m \u001b[1;32mas\u001b[0m \u001b[0mf\u001b[0m\u001b[1;33m:\u001b[0m\u001b[1;33m\u001b[0m\u001b[1;33m\u001b[0m\u001b[0m\n\u001b[0m\u001b[0;32m     39\u001b[0m     \u001b[1;31m# using csv.writer method from CSV package\u001b[0m\u001b[1;33m\u001b[0m\u001b[1;33m\u001b[0m\u001b[1;33m\u001b[0m\u001b[0m\n\u001b[0;32m     40\u001b[0m     \u001b[0mwrite\u001b[0m \u001b[1;33m=\u001b[0m \u001b[0mcsv\u001b[0m\u001b[1;33m.\u001b[0m\u001b[0mwriter\u001b[0m\u001b[1;33m(\u001b[0m\u001b[0mf\u001b[0m\u001b[1;33m)\u001b[0m\u001b[1;33m\u001b[0m\u001b[1;33m\u001b[0m\u001b[0m\n",
      "\u001b[1;31mPermissionError\u001b[0m: [Errno 13] Permission denied: 'video1.csv'"
     ]
    }
   ],
   "source": [
    "#print(response)        # dictionary\n",
    "#print(response['kind'])\n",
    "#print(response['etag'])\n",
    "#print(response['nextPageToken'])\n",
    "#print(response['pageInfo'])\n",
    "#print(response['items'])\n",
    "\n",
    "items = response['items']\n",
    "\n",
    "# Writing JSON\n",
    "with open('items.json', 'w') as outfile:\n",
    "    json.dump(items, outfile)\n",
    "\n",
    "# JSON to Dataframe\n",
    "df = pd.read_json (r'items.json')\n",
    "\n",
    "# no. of comments\n",
    "comments_total = len(df.loc[:,\"replies\"])\n",
    "\n",
    "\n",
    "# save comments to csv\n",
    "fields = ['Username', 'Comment'] \n",
    "\n",
    "# lists\n",
    "user_name = []\n",
    "user_comment = []\n",
    "\n",
    "for i in range(comments_total):\n",
    "    fetch = df.loc[:,\"replies\"][i]\n",
    "    print(fetch)\n",
    "    if(pd.notna(fetch)):\n",
    "        user = df.loc[:,\"replies\"][i]['comments'][0]['snippet']\n",
    "        user_name.append(user['authorDisplayName'])\n",
    "        user_comment.append(user['textOriginal'])\n",
    "\n",
    "rows = [user_name,user_comment]\n",
    "\n",
    "with open('video1.csv', 'w', encoding='utf-8') as f:   \n",
    "    # using csv.writer method from CSV package\n",
    "    write = csv.writer(f)\n",
    "    write.writerow(fields)\n",
    "    write.writerows(rows)\n"
   ]
  },
  {
   "cell_type": "code",
   "execution_count": null,
   "metadata": {},
   "outputs": [],
   "source": []
  }
 ],
 "metadata": {
  "kernelspec": {
   "display_name": "Python 3",
   "language": "python",
   "name": "python3"
  },
  "language_info": {
   "codemirror_mode": {
    "name": "ipython",
    "version": 3
   },
   "file_extension": ".py",
   "mimetype": "text/x-python",
   "name": "python",
   "nbconvert_exporter": "python",
   "pygments_lexer": "ipython3",
   "version": "3.8.5"
  }
 },
 "nbformat": 4,
 "nbformat_minor": 4
}
