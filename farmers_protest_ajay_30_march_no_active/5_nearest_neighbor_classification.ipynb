{
 "cells": [
  {
   "cell_type": "code",
   "execution_count": 19,
   "metadata": {},
   "outputs": [],
   "source": [
    "import numpy as np\n",
    "from sklearn.pipeline import make_pipeline\n",
    "from sklearn.linear_model import LogisticRegression\n",
    "from sklearn.svm import SVC\n",
    "from sklearn.base import BaseEstimator, TransformerMixin\n",
    "import fasttext\n",
    "import pandas as pd\n",
    "from scipy import spatial\n",
    "from scipy.spatial import distance\n",
    "from resources.basicIO import InputOutput as IO\n",
    "from resources.tokTT import CommentTokenizer\n",
    "from sklearn import svm\n",
    "from sklearn import metrics\n",
    "from sklearn.linear_model import SGDClassifier\n",
    "#from sklearn.linear_model import LassoLars     \n",
    "from sklearn.discriminant_analysis import LinearDiscriminantAnalysis\n",
    "from sklearn.tree import DecisionTreeClassifier\n",
    "from sklearn.naive_bayes import GaussianNB\n",
    "from sklearn.ensemble import RandomForestClassifier\n",
    "from sklearn.ensemble import VotingClassifier\n",
    "from sklearn.feature_extraction.text import CountVectorizer\n",
    "from sklearn.preprocessing import StandardScaler\n",
    "from sklearn.preprocessing import MinMaxScaler\n",
    "from sklearn.feature_extraction.text import TfidfTransformer\n"
   ]
  },
  {
   "cell_type": "code",
   "execution_count": 20,
   "metadata": {},
   "outputs": [],
   "source": [
    "class FastTextTransformer(BaseEstimator, TransformerMixin):\n",
    "    \"\"\" Convert texts into their mean fastText vectors \"\"\"\n",
    "\n",
    "    def __init__(self, model):\n",
    "        self.model = model\n",
    "\n",
    "    def fit(self, X, y=None):\n",
    "        return self\n",
    "\n",
    "    def transform(self, X):\n",
    "        return np.stack([np.mean([self.model[w] for w in text.split()], 0) for text in X])"
   ]
  },
  {
   "cell_type": "code",
   "execution_count": 21,
   "metadata": {},
   "outputs": [],
   "source": [
    "def classify(small_model,predictor,lines,Y):\n",
    "    classifier = make_pipeline(\n",
    "        FastTextTransformer(model=small_model),\n",
    "        predictor\n",
    "    ).fit(\n",
    "        lines,\n",
    "        Y\n",
    "    )\n",
    "    return classifier\n"
   ]
  },
  {
   "cell_type": "markdown",
   "metadata": {},
   "source": [
    "### Load Models"
   ]
  },
  {
   "cell_type": "code",
   "execution_count": 22,
   "metadata": {},
   "outputs": [
    {
     "name": "stderr",
     "output_type": "stream",
     "text": [
      "Warning : `load_model` does not return WordVectorModel or SupervisedModel any more, but a `FastText` object which is very similar.\n"
     ]
    }
   ],
   "source": [
    "# load models\n",
    "model_N_2 = fasttext.load_model('models/ft_unsupervised_N_2.bin')"
   ]
  },
  {
   "cell_type": "code",
   "execution_count": 23,
   "metadata": {},
   "outputs": [],
   "source": [
    "# Load seed set and tokenize\n",
    "seed_set = CommentTokenizer.cleaned(\"datasets/seed_set.txt\")\n",
    "# Load seed Labels\n",
    "Y = IO.load_nums(\"datasets/seed_set_labels.txt\")\n",
    "\n",
    "# Load expanded seed set\n",
    "seed_set_expanded_N_2 = CommentTokenizer.cleaned(\"datasets_post/batch_N_2.txt\")\n",
    "Y_N_2 = IO.load_nums(\"datasets_post/batch_labels_N_2.txt\")\n"
   ]
  },
  {
   "cell_type": "code",
   "execution_count": 24,
   "metadata": {},
   "outputs": [],
   "source": [
    "# Load testing set\n",
    "testing_text = IO.load_csv_col('datasets/random_sample.csv', 'comment')\n",
    "testing_text = testing_text[350:700]\n",
    "testing_text = [CommentTokenizer.tokenize(x) for x in testing_text]\n",
    "\n",
    "testing_text_labels = IO.load_csv_col('datasets/random_sample.csv', 'label')\n",
    "testing_text_labels = list(map(int, testing_text_labels[350:700]))\n",
    "\n",
    "training_text = IO.load_csv_col('datasets/random_sample.csv', 'comment')\n",
    "training_text = training_text[0:350]\n",
    "training_text = [CommentTokenizer.tokenize(x) for x in training_text]\n",
    "\n",
    "training_text_labels = IO.load_csv_col('datasets/random_sample.csv', 'label')\n",
    "training_text_labels = list(map(int, training_text_labels[0:350]))\n"
   ]
  },
  {
   "cell_type": "code",
   "execution_count": 25,
   "metadata": {},
   "outputs": [],
   "source": [
    "from sklearn.pipeline import Pipeline\n",
    "pipeline = Pipeline(\n",
    "    [\n",
    "        (\"vect\", CountVectorizer()),\n",
    "        (\"tfidf\", TfidfTransformer()),\n",
    "        (\"clf\", LogisticRegression()),\n",
    "    ]\n",
    ")\n",
    "\n",
    "model = pipeline.fit(training_text, training_text_labels)\n"
   ]
  },
  {
   "cell_type": "code",
   "execution_count": 26,
   "metadata": {},
   "outputs": [
    {
     "name": "stdout",
     "output_type": "stream",
     "text": [
      "0.6857142857142857\n"
     ]
    }
   ],
   "source": [
    "y_pred = model.predict(testing_text)\n",
    "accuracy = metrics.accuracy_score(testing_text_labels, y_pred)\n",
    "print(accuracy)"
   ]
  },
  {
   "cell_type": "code",
   "execution_count": 27,
   "metadata": {},
   "outputs": [
    {
     "data": {
      "text/plain": [
       "array([[ 0.26113525,  0.04918763,  0.01847435, -0.20160277,  0.07977112,\n",
       "         0.54330593, -0.1013101 ,  0.11043589,  0.14657088,  0.72111475,\n",
       "         0.06386383,  0.31313893, -0.7443851 , -0.04762344, -0.107664  ,\n",
       "         0.26124305,  0.3631335 , -0.06800381,  0.23122048, -0.0240441 ,\n",
       "         0.06630781, -0.07395054,  0.03761048, -0.13507582, -0.18287705,\n",
       "         0.12068001,  0.22809502, -0.05310457,  0.02926822,  0.04191326,\n",
       "         0.28621927,  0.10182662,  0.00289312, -0.15193664,  0.47005123,\n",
       "         0.16636842,  0.5011269 , -0.38512352, -0.54478955,  0.32894796,\n",
       "        -0.5748296 ,  0.05187561, -0.02580795,  0.00782517,  0.05645113,\n",
       "        -0.39001477,  0.13602103,  0.23150386,  0.2136382 ,  0.02123973,\n",
       "        -0.4922437 , -0.11598277,  0.09155013,  0.18206777,  0.00719333,\n",
       "        -0.16943865, -0.5857889 ,  0.24411495, -0.19438696,  0.5449885 ,\n",
       "        -0.16829127, -0.07384431,  0.08972307, -0.2555257 , -0.18613236,\n",
       "         0.12384824, -0.2101133 ,  0.09150001, -0.23424369, -0.04024979,\n",
       "        -0.445673  , -0.15603456,  0.09173027, -0.04360323, -0.00272006,\n",
       "         0.16971935,  0.27106512, -0.20626757,  0.00594181, -0.30008286,\n",
       "         0.16963018,  0.19280355,  0.48257795,  0.29209083,  0.22534937,\n",
       "        -0.03899029,  0.22949287,  0.30856305, -0.34869397,  0.03311151,\n",
       "         0.01135227,  0.16166176,  0.44420096, -0.08550933,  0.13650227,\n",
       "        -0.4810445 , -0.3033156 , -0.10947161, -0.21806706, -0.4441068 ]],\n",
       "      dtype=float32)"
      ]
     },
     "execution_count": 27,
     "metadata": {},
     "output_type": "execute_result"
    }
   ],
   "source": [
    "def transform(model, X):\n",
    "    return np.stack([np.mean([model[w] for w in text.split()], 0) for text in X])\n",
    "\n",
    "X = [\"I am in support of modiji he is right\"]\n",
    "transform(model_N_2,X)"
   ]
  },
  {
   "cell_type": "markdown",
   "metadata": {},
   "source": [
    "## Models"
   ]
  },
  {
   "cell_type": "markdown",
   "metadata": {},
   "source": [
    "### LR"
   ]
  },
  {
   "cell_type": "code",
   "execution_count": 28,
   "metadata": {},
   "outputs": [],
   "source": [
    "# classification\n",
    "LR_ss_N_2 = classify(model_N_2, LogisticRegression(\n",
    "    random_state=1), seed_set, Y)\n",
    "LR_es_N_2 = classify(model_N_2, LogisticRegression(\n",
    "    random_state=1), seed_set_expanded_N_2, Y_N_2)\n"
   ]
  },
  {
   "cell_type": "markdown",
   "metadata": {},
   "source": [
    "### SVM"
   ]
  },
  {
   "cell_type": "code",
   "execution_count": 29,
   "metadata": {},
   "outputs": [],
   "source": [
    "SVM_ss_N_2 = classify(model_N_2, svm.SVC(), seed_set, Y)\n",
    "SVM_es_N_2 = classify(model_N_2, svm.SVC(), seed_set_expanded_N_2, Y_N_2)\n"
   ]
  },
  {
   "cell_type": "markdown",
   "metadata": {},
   "source": [
    "### SGD"
   ]
  },
  {
   "cell_type": "code",
   "execution_count": 30,
   "metadata": {},
   "outputs": [],
   "source": [
    "SGD_ss_N_2 = classify(model_N_2, SGDClassifier(\n",
    "    loss=\"hinge\", penalty=\"l1\"), seed_set, Y)\n",
    "SGD_es_N_2 = classify(model_N_2, SGDClassifier(\n",
    "    loss=\"hinge\", penalty=\"l1\"), seed_set_expanded_N_2, Y_N_2)\n"
   ]
  },
  {
   "cell_type": "markdown",
   "metadata": {},
   "source": [
    "### LDA"
   ]
  },
  {
   "cell_type": "code",
   "execution_count": 31,
   "metadata": {},
   "outputs": [],
   "source": [
    "LDA_ss_N_2 = classify(model_N_2, LinearDiscriminantAnalysis(), seed_set, Y)\n",
    "LDA_es_N_2 = classify(model_N_2, LinearDiscriminantAnalysis(),seed_set_expanded_N_2, Y_N_2)"
   ]
  },
  {
   "cell_type": "markdown",
   "metadata": {},
   "source": [
    "### Decision Tree"
   ]
  },
  {
   "cell_type": "code",
   "execution_count": 32,
   "metadata": {},
   "outputs": [],
   "source": [
    "DT_ss_N_2 = classify(model_N_2, DecisionTreeClassifier(), seed_set, Y)\n",
    "DT_es_N_2 = classify(model_N_2, DecisionTreeClassifier(),\n",
    "                      seed_set_expanded_N_2, Y_N_2)"
   ]
  },
  {
   "cell_type": "markdown",
   "metadata": {},
   "source": [
    "### Gaussian NB"
   ]
  },
  {
   "cell_type": "code",
   "execution_count": 33,
   "metadata": {},
   "outputs": [],
   "source": [
    "GNB_ss_N_2 = classify(model_N_2, GaussianNB(), seed_set, Y)\n",
    "GNB_es_N_2 = classify(model_N_2, GaussianNB(),\n",
    "                      seed_set_expanded_N_2, Y_N_2)"
   ]
  },
  {
   "cell_type": "markdown",
   "metadata": {},
   "source": [
    "### Random Forest"
   ]
  },
  {
   "cell_type": "code",
   "execution_count": 34,
   "metadata": {},
   "outputs": [],
   "source": [
    "RF_ss_N_2 = classify(model_N_2, RandomForestClassifier(\n",
    "    n_estimators=50, random_state=1), seed_set, Y)\n",
    "RF_es_N_2 = classify(model_N_2, RandomForestClassifier(\n",
    "    n_estimators=50, random_state=1),seed_set_expanded_N_2, Y_N_2)\n"
   ]
  },
  {
   "cell_type": "markdown",
   "metadata": {},
   "source": [
    "### Utility for all models"
   ]
  },
  {
   "cell_type": "code",
   "execution_count": 35,
   "metadata": {},
   "outputs": [],
   "source": [
    "models = []\n",
    "models.append(('Gaussian NB Seed Set N=2', GNB_ss_N_2))\n",
    "models.append(('Gaussian NB Expanded Set N=2', GNB_es_N_2))\n",
    "models.append(('LR Expanded Set N=2', LR_es_N_2))\n",
    "models.append(('SVM Expanded Set N=2', SVM_es_N_2))\n",
    "models.append(('SGD Expanded Set N=2', SGD_es_N_2))\n",
    "models.append(('LDA Expanded Set N=2', LDA_es_N_2))\n",
    "models.append(('Decision Trees Expanded Set N=2', DT_es_N_2))\n",
    "models.append(('Random Forest Expanded Set N=2', RF_es_N_2))\n"
   ]
  },
  {
   "cell_type": "markdown",
   "metadata": {},
   "source": [
    "### Print output to file"
   ]
  },
  {
   "cell_type": "code",
   "execution_count": 36,
   "metadata": {},
   "outputs": [
    {
     "name": "stdout",
     "output_type": "stream",
     "text": [
      "Gaussian NB Seed Set N=2\n",
      "Gaussian NB Expanded Set N=2\n",
      "LR Expanded Set N=2\n",
      "SVM Expanded Set N=2\n",
      "SGD Expanded Set N=2\n",
      "LDA Expanded Set N=2\n",
      "Decision Trees Expanded Set N=2\n",
      "Random Forest Expanded Set N=2\n"
     ]
    }
   ],
   "source": [
    "file = open('results/output.txt', 'w+')\n",
    "file.close()\n",
    "\n",
    "outfile = open(\"results/output.txt\", \"a\")\n",
    "for i, v in models:\n",
    "    print(i)\n",
    "    accuracy = metrics.accuracy_score(testing_text_labels, v.predict(testing_text))\n",
    "    confusion_matrix = metrics.confusion_matrix(testing_text_labels, v.predict(testing_text))\n",
    "    print('========= {} Model Test Results ==========='.format(i), file=outfile) \n",
    "    print(' ',file=outfile)\n",
    "    print(\"Model Accuracy:\" \"\\n\", accuracy, file=outfile)\n",
    "    print(' ', file=outfile)\n",
    "    print(\"Confusion matrix:\" \"\\n\", confusion_matrix, file=outfile)\n",
    "    print(' ', file=outfile)\n",
    "outfile.close()\n"
   ]
  }
 ],
 "metadata": {
  "interpreter": {
   "hash": "ee5cc6fef2d70a7e71ee3826687cbd150f18158e0b1eef11d4f4f92bb920e304"
  },
  "kernelspec": {
   "display_name": "Python 3.9.6 64-bit",
   "language": "python",
   "name": "python3"
  },
  "language_info": {
   "codemirror_mode": {
    "name": "ipython",
    "version": 3
   },
   "file_extension": ".py",
   "mimetype": "text/x-python",
   "name": "python",
   "nbconvert_exporter": "python",
   "pygments_lexer": "ipython3",
   "version": "3.9.6"
  },
  "orig_nbformat": 4
 },
 "nbformat": 4,
 "nbformat_minor": 2
}
