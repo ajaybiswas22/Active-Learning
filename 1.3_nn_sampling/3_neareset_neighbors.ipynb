{
 "cells": [
  {
   "cell_type": "code",
   "execution_count": 15,
   "metadata": {},
   "outputs": [],
   "source": [
    "import fasttext\n",
    "import re\n",
    "import numpy as np\n",
    "import pandas as pd\n",
    "import os\n",
    "from nltk import TweetTokenizer\n",
    "from nltk.tokenize.stanford import StanfordTokenizer\n"
   ]
  },
  {
   "cell_type": "markdown",
   "metadata": {},
   "source": [
    "## Tokenization"
   ]
  },
  {
   "cell_type": "code",
   "execution_count": 16,
   "metadata": {},
   "outputs": [],
   "source": [
    "def tokenize(tknzr, sentence, to_lower=True):\n",
    "    \"\"\"Arguments:\n",
    "        - tknzr: a tokenizer implementing the NLTK tokenizer interface\n",
    "        - sentence: a string to be tokenized\n",
    "        - to_lower: lowercasing or not\n",
    "    \"\"\"\n",
    "    sentence = sentence.strip()\n",
    "    sentence = ' '.join([format_token(x) for x in tknzr.tokenize(sentence)])\n",
    "    if to_lower:\n",
    "        sentence = sentence.lower()\n",
    "    sentence = re.sub('((www\\.[^\\s]+)|(https?://[^\\s]+)|(http?://[^\\s]+))','<url>',sentence) #replace urls by <url>\n",
    "    sentence = re.sub('(\\@[^\\s]+)','<user>',sentence) #replace @user268 by <user>\n",
    "    filter(lambda word: ' ' not in word, sentence)\n",
    "    return sentence\n",
    "\n",
    "def format_token(token):\n",
    "    \"\"\"\"\"\"\n",
    "    if token == '-LRB-':\n",
    "        token = '('\n",
    "    elif token == '-RRB-':\n",
    "        token = ')'\n",
    "    elif token == '-RSB-':\n",
    "        token = ']'\n",
    "    elif token == '-LSB-':\n",
    "        token = '['\n",
    "    elif token == '-LCB-':\n",
    "        token = '{'\n",
    "    elif token == '-RCB-':\n",
    "        token = '}'\n",
    "    return token"
   ]
  },
  {
   "cell_type": "markdown",
   "metadata": {},
   "source": [
    "## Nearest neighbor"
   ]
  },
  {
   "cell_type": "code",
   "execution_count": 17,
   "metadata": {},
   "outputs": [],
   "source": [
    "def NN(model,line,K):\n",
    "    return model.get_nearest_neighbors(line, k=K)\n"
   ]
  },
  {
   "cell_type": "markdown",
   "metadata": {},
   "source": [
    "## Main"
   ]
  },
  {
   "cell_type": "code",
   "execution_count": 18,
   "metadata": {},
   "outputs": [
    {
     "name": "stderr",
     "output_type": "stream",
     "text": [
      "Warning : `load_model` does not return WordVectorModel or SupervisedModel any more, but a `FastText` object which is very similar.\n"
     ]
    }
   ],
   "source": [
    "# load model\n",
    "model = fasttext.load_model('fp_bigrams.bin')"
   ]
  },
  {
   "cell_type": "code",
   "execution_count": 19,
   "metadata": {},
   "outputs": [],
   "source": [
    "# Load seed set\n",
    "text_file = open(\"seed_set.txt\", \"r\")\n",
    "no_str = text_file.read()\n",
    "text_file.close()\n",
    "# make a list\n",
    "seed_set = no_str.split(\"\\n\")\n"
   ]
  },
  {
   "cell_type": "code",
   "execution_count": 20,
   "metadata": {},
   "outputs": [],
   "source": [
    "# Load corpus\n",
    "text_file2 = open(\"corpus.txt\", \"r\")\n",
    "no_str2 = text_file2.read()\n",
    "text_file2.close()\n",
    "# make a list\n",
    "corpus = no_str2.split(\"\\n\")"
   ]
  },
  {
   "cell_type": "code",
   "execution_count": 21,
   "metadata": {},
   "outputs": [],
   "source": [
    "# nearest neigbors for seed set, setting k = 20\n",
    "NN_seed_set = []\n",
    "for comment in seed_set:\n",
    "    tok_comment = tokenize(TweetTokenizer(),comment)\n",
    "    NN_seed_set.append(NN(model,tok_comment,20))"
   ]
  },
  {
   "cell_type": "code",
   "execution_count": 22,
   "metadata": {},
   "outputs": [],
   "source": [
    "# nearest neigbors for unlabeled corpus, setting k = 20\n",
    "NN_corpus = []\n",
    "for comment in corpus:\n",
    "    tok_comment = tokenize(TweetTokenizer(), comment)\n",
    "    NN_corpus.append(NN(model,tok_comment,20))"
   ]
  },
  {
   "cell_type": "code",
   "execution_count": 23,
   "metadata": {},
   "outputs": [
    {
     "name": "stdout",
     "output_type": "stream",
     "text": [
      "[[(0.9046760201454163, 'protest'), (0.8575693964958191, 'farmer'), (0.8199014663696289, 'bill'), (0.8011854290962219, 'Modi'), (0.7877769470214844, 'farmers'), (0.7787935137748718, 'Support'), (0.7725008726119995, 'protests'), (0.7656182050704956, 'protesting'), (0.7496612668037415, 'never'), (0.7412481307983398, 'mandi'), (0.7395045161247253, 'support'), (0.7342778444290161, 'indian'), (0.7317741513252258, 'supporting'), (0.7236142754554749, 'anti'), (0.7225158214569092, 'problem'), (0.7213343977928162, 'Farmers'), (0.704829752445221, 'rich'), (0.7038158774375916, 'leaders'), (0.6987590789794922, 'shameless'), (0.6975761651992798, 'money')], [(0.9263677000999451, 'please'), (0.8951196670532227, 'india'), (0.863299548625946, 'People'), (0.818062961101532, 'stop'), (0.8104921579360962, 's'), (0.8056684732437134, 'r'), (0.7964104413986206, 'country'), (0.7696121335029602, 'terrorists'), (0.7683792114257812, 'u'), (0.7500729560852051, 'democracy'), (0.7497097253799438, 'people'), (0.7437437772750854, 'channel'), (0.7389256358146667, 'Shame'), (0.7230741381645203, 'Farmers'), (0.7034357786178589, 'freedom'), (0.7002442479133606, 'indian'), (0.6945947408676147, 'media'), (0.6690407991409302, 'even'), (0.6675809025764465, 'propaganda'), (0.6630328893661499, 'protesting')], [(0.9818353652954102, 'government'), (0.9253795742988586, 'Government'), (0.8796296119689941, 'hard'), (0.8470466136932373, 'hahaha'), (0.8365045785903931, 'rest'), (0.8306804895401001, 'repeal'), (0.808612585067749, 'trying'), (0.8021113872528076, 'Media'), (0.8011296987533569, 'home'), (0.7906579375267029, 'fault'), (0.7895430326461792, 'Godi'), (0.7894284129142761, 'farmers'), (0.7830503582954407, 'win'), (0.7319914102554321, 'defame'), (0.7083800435066223, 'name'), (0.7048153877258301, 'middle'), (0.6953412890434265, 'go'), (0.6678412556648254, '</s>'), (0.632908821105957, 'Covid'), (0.6098262071609497, 'still')], [(0.8560454249382019, 'farmers'), (0.8350077867507935, 'Support'), (0.8018239140510559, 'farmer'), (0.7755724787712097, '</s>'), (0.7641707062721252, 'Congress'), (0.7609849572181702, 'man'), (0.7366403937339783, 'make'), (0.7180618643760681, 'Ravish'), (0.7150200605392456, 'congress'), (0.7130317091941833, 'support'), (0.7129765748977661, 'done'), (0.7052896618843079, 'mandi'), (0.7006198763847351, 'give'), (0.699093222618103, 'paid'), (0.6977973580360413, 'many'), (0.6955686807632446, 'Modi'), (0.6923337578773499, 'food'), (0.687781810760498, 'well'), (0.6822711229324341, 'live'), (0.6795084476470947, 'without')], [(0.9699612259864807, 'farmers'), (0.7890155911445618, 'name'), (0.7707918286323547, 'government'), (0.7699927091598511, 'farmer'), (0.7439133524894714, 'Farmers'), (0.7052672505378723, 'Government'), (0.7018195986747742, 'middle'), (0.6801554560661316, '</s>'), (0.6761767268180847, 'hard'), (0.6697654724121094, 'mandi'), (0.6679471135139465, 'rest'), (0.6619760394096375, 'hahaha'), (0.650140106678009, 'Godi'), (0.6471946239471436, 'show'), (0.6330323815345764, 'repeal'), (0.6247550249099731, 'home'), (0.6208164691925049, 'Media'), (0.6190561652183533, 'shameless'), (0.6144316792488098, 'win'), (0.6004514694213867, 'never')], [(0.9477450847625732, 'protesting'), (0.8965074419975281, 'supporting'), (0.825499951839447, 'idiots'), (0.8198097348213196, 'still'), (0.8081506490707397, 'never'), (0.7844599485397339, 'bill'), (0.7815340757369995, 'protest'), (0.764863908290863, 'Modi'), (0.7624571323394775, 'Farmers'), (0.7576968669891357, 'months'), (0.756916344165802, 'way'), (0.7534721493721008, 'indian'), (0.7453358769416809, 'dont'), (0.7329954504966736, 'farmers'), (0.7301543951034546, 'shameless'), (0.7234543561935425, 'farmer'), (0.7223004698753357, 'support'), (0.7157284021377563, 'name'), (0.7129731178283691, 'Support'), (0.709557831287384, 'middle')], [(0.9277034997940063, 'farmers'), (0.8826149702072144, 'farmer'), (0.8598511219024658, 'Support'), (0.7990409135818481, 'support'), (0.7889673113822937, 'mandi'), (0.7656930685043335, '</s>'), (0.7427942156791687, 'without'), (0.7332448363304138, 'Modi'), (0.7297168970108032, 'bill'), (0.7239148616790771, 'never'), (0.7152754664421082, 'supporting'), (0.708512544631958, 'protest'), (0.6982811093330383, 'name'), (0.6956694722175598, 'man'), (0.6938088536262512, 'money'), (0.6917490363121033, 'middle'), (0.6880788803100586, 'congress'), (0.685931384563446, 'would'), (0.6718242168426514, 'many'), (0.6697332262992859, 'Farmers')], [(0.9797120094299316, 'protesting'), (0.8930559754371643, 'supporting'), (0.8430163860321045, 'idiots'), (0.8129187226295471, 'way'), (0.80681973695755, 'still'), (0.8042203187942505, 'dont'), (0.8006575107574463, 'months'), (0.7930068373680115, 'never'), (0.7683465480804443, 'bill'), (0.7606056928634644, 'indian'), (0.753612756729126, 'protest'), (0.7481059432029724, 'shameless'), (0.7380917072296143, 'Modi'), (0.7371978163719177, 'problem'), (0.7245256304740906, 'know'), (0.7093231081962585, 'shame'), (0.7052404284477234, 'another'), (0.6865647435188293, 'think'), (0.6863164305686951, 'support'), (0.6833199858665466, 'going')], [(0.8566678762435913, 'terrorists'), (0.834595263004303, 'farmers'), (0.7787244915962219, 'media'), (0.7611191868782043, 'ca'), (0.7406147122383118, '</s>'), (0.7363094091415405, 'name'), (0.7265797853469849, 's'), (0.7121530175209045, 'Godi'), (0.7070946097373962, 'stop'), (0.7065196633338928, 'r'), (0.7029680013656616, 'india'), (0.6985085010528564, 'new'), (0.6872605085372925, 'Shame'), (0.6869289875030518, 'please'), (0.6867456436157227, 'democracy'), (0.6847492456436157, 'shameless'), (0.6847396492958069, 'home'), (0.6828581094741821, 'show'), (0.6777266263961792, 'Modi'), (0.6751917600631714, 'supporting')], [(0.9417346119880676, 'political'), (0.8730100989341736, 'politics'), (0.811621367931366, 'time'), (0.8010249733924866, 'people'), (0.7831023931503296, 'lost'), (0.7746891975402832, 'need'), (0.7726647257804871, 'nothing'), (0.7701358199119568, 'party'), (0.7652422189712524, 'protest'), (0.7473768591880798, 'leaders'), (0.735607922077179, 'big'), (0.7110798954963684, 'personal'), (0.698374330997467, 'bjp'), (0.6784233450889587, 'talk'), (0.676990270614624, 'price'), (0.6633217334747314, '</s>'), (0.6613160371780396, 'issues'), (0.652550995349884, 'anti'), (0.6455062031745911, 'problem'), (0.6388219594955444, 'great')]]\n"
     ]
    }
   ],
   "source": [
    "print(NN_seed_set)\n"
   ]
  }
 ],
 "metadata": {
  "interpreter": {
   "hash": "ee5cc6fef2d70a7e71ee3826687cbd150f18158e0b1eef11d4f4f92bb920e304"
  },
  "kernelspec": {
   "display_name": "Python 3.9.6 64-bit",
   "language": "python",
   "name": "python3"
  },
  "language_info": {
   "codemirror_mode": {
    "name": "ipython",
    "version": 3
   },
   "file_extension": ".py",
   "mimetype": "text/x-python",
   "name": "python",
   "nbconvert_exporter": "python",
   "pygments_lexer": "ipython3",
   "version": "3.9.6"
  },
  "orig_nbformat": 4
 },
 "nbformat": 4,
 "nbformat_minor": 2
}
