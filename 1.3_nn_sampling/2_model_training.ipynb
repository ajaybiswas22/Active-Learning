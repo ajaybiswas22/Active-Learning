{
 "cells": [
  {
   "cell_type": "code",
   "execution_count": 5,
   "metadata": {},
   "outputs": [],
   "source": [
    "import fasttext"
   ]
  },
  {
   "cell_type": "code",
   "execution_count": 6,
   "metadata": {},
   "outputs": [],
   "source": [
    "# bigram model :\n",
    "model_2 = fasttext.train_unsupervised(\n",
    "    input=\"corpus.txt\", lr=0.2, epoch=30, wordNgrams=2)\n",
    "\n",
    "model_3 = fasttext.train_unsupervised(\n",
    "    input=\"corpus.txt\", lr=0.2, epoch=30, wordNgrams=3)\n"
   ]
  },
  {
   "cell_type": "code",
   "execution_count": 7,
   "metadata": {},
   "outputs": [],
   "source": [
    "# supervised\n",
    "#model_supervised = fasttext.train_supervised(\n",
    "#    input=\"model_supervised.txt\", lr=0.2, epoch=25, wordNgrams=2)\n"
   ]
  },
  {
   "cell_type": "code",
   "execution_count": 8,
   "metadata": {},
   "outputs": [],
   "source": [
    "model_2.save_model(\"fp_bigrams_unsupervised_N_2.bin\")\n",
    "model_3.save_model(\"fp_bigrams_unsupervised_N_3.bin\")\n",
    "#model_supervised.save_model(\"fp_bigrams_supervised.bin\")"
   ]
  }
 ],
 "metadata": {
  "interpreter": {
   "hash": "2e918aaa81d99c652401bdd1a0c185581595fb477ac919641bd65261b5d7782a"
  },
  "kernelspec": {
   "display_name": "Python 3.8.8 64-bit ('base': conda)",
   "name": "python3"
  },
  "language_info": {
   "codemirror_mode": {
    "name": "ipython",
    "version": 3
   },
   "file_extension": ".py",
   "mimetype": "text/x-python",
   "name": "python",
   "nbconvert_exporter": "python",
   "pygments_lexer": "ipython3",
   "version": "3.9.6"
  },
  "orig_nbformat": 4
 },
 "nbformat": 4,
 "nbformat_minor": 2
}
