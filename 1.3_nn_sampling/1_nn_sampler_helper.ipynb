{
 "cells": [
  {
   "cell_type": "code",
   "execution_count": 25,
   "metadata": {},
   "outputs": [
    {
     "name": "stderr",
     "output_type": "stream",
     "text": [
      "[nltk_data] Downloading package punkt to C:\\Users\\AJAY\n",
      "[nltk_data]     BISWAS\\AppData\\Roaming\\nltk_data...\n",
      "[nltk_data]   Package punkt is already up-to-date!\n",
      "[nltk_data] Downloading package stopwords to C:\\Users\\AJAY\n",
      "[nltk_data]     BISWAS\\AppData\\Roaming\\nltk_data...\n",
      "[nltk_data]   Package stopwords is already up-to-date!\n"
     ]
    },
    {
     "data": {
      "text/plain": [
       "True"
      ]
     },
     "execution_count": 25,
     "metadata": {},
     "output_type": "execute_result"
    }
   ],
   "source": [
    "import random\n",
    "import re\n",
    "import numpy as np\n",
    "import pandas as pd\n",
    "import nltk\n",
    "import os\n",
    "import nltk.corpus\n",
    "from nltk.tokenize import word_tokenize\n",
    "from nltk.util import bigrams, trigrams, ngrams\n",
    "from nltk.corpus import stopwords\n",
    "nltk.download('punkt')\n",
    "nltk.download('stopwords')\n",
    "#from langdetect import detect\n",
    "#import sent2vec"
   ]
  },
  {
   "cell_type": "code",
   "execution_count": 26,
   "metadata": {},
   "outputs": [],
   "source": [
    "# text filtration\n",
    "def filteredTokens(line):\n",
    "\n",
    "    # remove stop words\n",
    "    stop_words = set(stopwords.words('english'))\n",
    "    word_tokens = word_tokenize(line)\n",
    "    filtered_sentence = [w for w in word_tokens if not w.lower() in stop_words]\n",
    "\n",
    "    punctuations = re.compile(\n",
    "        r'[-,\\[\\]*%#&\"\\'`:+.?!;()|0-9]')    # remove punctuations\n",
    "    post_punctuations = []\n",
    "    for words in filtered_sentence:\n",
    "        word = punctuations.sub(\"\", words)\n",
    "        if len(word) > 0:\n",
    "            post_punctuations.append(word)\n",
    "\n",
    "    return post_punctuations\n"
   ]
  },
  {
   "cell_type": "code",
   "execution_count": 27,
   "metadata": {},
   "outputs": [],
   "source": [
    "def filteredString(line):\n",
    "    return \" \".join(filteredTokens(line))"
   ]
  },
  {
   "cell_type": "code",
   "execution_count": 28,
   "metadata": {},
   "outputs": [],
   "source": [
    "# read comments into lines\n",
    "df_seed = pd.read_csv(\"seed_set.csv\")\n",
    "df_corpus = pd.read_csv(\"unlabeled_corpus.csv\")\n",
    "\n",
    "lines_seed = df_seed[\"comment\"]\n",
    "lines_un = df_corpus[\"Comment\"]"
   ]
  },
  {
   "cell_type": "code",
   "execution_count": 29,
   "metadata": {},
   "outputs": [],
   "source": [
    "# Remove punctuations and stopwords by applying filteredString to each line\n",
    "lines_seed_clean = list(map(filteredString, lines_seed))\n",
    "lines_un_clean = list(map(filteredString, lines_un))"
   ]
  },
  {
   "cell_type": "code",
   "execution_count": 35,
   "metadata": {},
   "outputs": [
    {
     "name": "stdout",
     "output_type": "stream",
     "text": [
      "376 , 376\n",
      "14519 , 14519\n"
     ]
    }
   ],
   "source": [
    "# check if number of lines in txt files matches with csv files\n",
    "no_model = sum(1 for line in open('model.txt'))\n",
    "no_corpus = sum(1 for line in open('corpus.txt'))\n",
    "print(no_model,\",\",len(lines_seed))\n",
    "print(no_corpus,\",\",len(lines_un))"
   ]
  },
  {
   "cell_type": "code",
   "execution_count": 31,
   "metadata": {},
   "outputs": [],
   "source": [
    "# save as txt\n",
    "with open('model.txt', mode='wt', encoding='utf-8') as myfile:\n",
    "    myfile.write('\\n'.join(lines_seed_clean))\n",
    "\n",
    "with open('corpus.txt', mode='wt', encoding='utf-8') as myfile:\n",
    "    myfile.write('\\n'.join(lines_un_clean))\n"
   ]
  }
 ],
 "metadata": {
  "interpreter": {
   "hash": "2e918aaa81d99c652401bdd1a0c185581595fb477ac919641bd65261b5d7782a"
  },
  "kernelspec": {
   "display_name": "Python 3.8.8 64-bit ('base': conda)",
   "name": "python3"
  },
  "language_info": {
   "codemirror_mode": {
    "name": "ipython",
    "version": 3
   },
   "file_extension": ".py",
   "mimetype": "text/x-python",
   "name": "python",
   "nbconvert_exporter": "python",
   "pygments_lexer": "ipython3",
   "version": "3.8.8"
  },
  "orig_nbformat": 4
 },
 "nbformat": 4,
 "nbformat_minor": 2
}
