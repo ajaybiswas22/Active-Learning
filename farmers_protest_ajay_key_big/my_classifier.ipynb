{
 "cells": [
  {
   "cell_type": "code",
   "execution_count": 26,
   "metadata": {},
   "outputs": [],
   "source": [
    "from resources.basicIO import InputOutput as IO"
   ]
  },
  {
   "cell_type": "code",
   "execution_count": 27,
   "metadata": {},
   "outputs": [],
   "source": [
    "def accuracy_rate(X, Y):\n",
    "    count = 0\n",
    "    for i in range(len(X)):\n",
    "        if(X[i] == Y[i]):\n",
    "            count = count + 1\n",
    "    return (count/len(X))*100\n"
   ]
  },
  {
   "cell_type": "code",
   "execution_count": 28,
   "metadata": {},
   "outputs": [],
   "source": [
    "testing_text = IO.load_csv_col('datasets/random_sample.csv', 'comment')\n",
    "testing_text = testing_text[100:200]\n",
    "testing_text_labels = IO.load_csv_col('datasets/random_sample.csv', 'label')\n",
    "tY = list(map(int, testing_text_labels[100:200]))"
   ]
  },
  {
   "cell_type": "code",
   "execution_count": 29,
   "metadata": {},
   "outputs": [],
   "source": [
    "# Load expanded seed set\n",
    "seed_set_expanded = IO.load_text(\"datasets_post/seed_set_expanded_N_3.txt\")\n",
    "Y = IO.load_nums(\"datasets_post/seed_set_expanded_labels_N_3.txt\")"
   ]
  },
  {
   "cell_type": "code",
   "execution_count": 30,
   "metadata": {},
   "outputs": [
    {
     "name": "stdout",
     "output_type": "stream",
     "text": [
      "39.0\n"
     ]
    }
   ],
   "source": [
    "yTest = []\n",
    "for i in range(len(testing_text)):\n",
    "    idx = seed_set_expanded.index(testing_text[i])\n",
    "    yTest.append(Y[idx])\n",
    "\n",
    "print(accuracy_rate(yTest,tY))"
   ]
  }
 ],
 "metadata": {
  "interpreter": {
   "hash": "ee5cc6fef2d70a7e71ee3826687cbd150f18158e0b1eef11d4f4f92bb920e304"
  },
  "kernelspec": {
   "display_name": "Python 3.9.6 64-bit",
   "language": "python",
   "name": "python3"
  },
  "language_info": {
   "codemirror_mode": {
    "name": "ipython",
    "version": 3
   },
   "file_extension": ".py",
   "mimetype": "text/x-python",
   "name": "python",
   "nbconvert_exporter": "python",
   "pygments_lexer": "ipython3",
   "version": "3.9.6"
  },
  "orig_nbformat": 4
 },
 "nbformat": 4,
 "nbformat_minor": 2
}
