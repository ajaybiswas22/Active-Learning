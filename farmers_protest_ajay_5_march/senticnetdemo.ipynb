{
 "cells": [
  {
   "cell_type": "code",
   "execution_count": 22,
   "metadata": {},
   "outputs": [],
   "source": [
    "from resources.basicIO import InputOutput as IO\n",
    "from resources.senticnet import senticnet"
   ]
  },
  {
   "cell_type": "code",
   "execution_count": 23,
   "metadata": {},
   "outputs": [],
   "source": [
    "from resources.tokTT import CommentTokenizer as CT"
   ]
  },
  {
   "cell_type": "code",
   "execution_count": 24,
   "metadata": {},
   "outputs": [],
   "source": [
    "def sentiment(X):\n",
    "\n",
    "    sentiments = []\n",
    "    for i in X.split(' '):\n",
    "        try:\n",
    "            sentiments.append(senticnet.senticnet[i])\n",
    "        except:\n",
    "            sentiments.append([])\n",
    "    return sentiments"
   ]
  },
  {
   "cell_type": "code",
   "execution_count": 25,
   "metadata": {},
   "outputs": [],
   "source": [
    "corpus = CT.cleaned('datasets/corpus.txt')"
   ]
  },
  {
   "cell_type": "code",
   "execution_count": 26,
   "metadata": {},
   "outputs": [
    {
     "data": {
      "text/plain": [
       "'pray for farmers unity rakesh ji is very smart and ajit is very good in interviewing'"
      ]
     },
     "execution_count": 26,
     "metadata": {},
     "output_type": "execute_result"
    }
   ],
   "source": [
    "corpus[0]"
   ]
  },
  {
   "cell_type": "code",
   "execution_count": 27,
   "metadata": {},
   "outputs": [
    {
     "name": "stdout",
     "output_type": "stream",
     "text": [
      "[[0.833, 0, 0.672, 0, '#ecstasy', '#delight', 'positive', 0.752, 'smile', 'eager', 'happy', 'proactive', 'joy'], [], [], [0.918, 0, 0.669, 0, '#ecstasy', '#delight', 'positive', 0.794, 'completeness', 'integrity', 'wholeness', 'comprehensiveness', 'fullness'], [], [], [], [], [0.906, 0, 0.787, 0, '#ecstasy', '#delight', 'positive', 0.847, 'acquire_knowledge', 'think_out_of_box', 'accumulate_knowledge', 'increase_knowledge', 'comprehend'], [], [], [], [], [0, 0.66, 0.052, 0, '#calmness', '#acceptance', 'positive', 0.356, 'inclusion', 'significance', 'fair', 'significant', 'importance'], [], [0.875, 0, 0.694, 0, '#ecstasy', '#delight', 'positive', 0.784, 'proactive', 'smile', 'happy', 'eager', 'joy']]\n"
     ]
    }
   ],
   "source": [
    "model = sentiment(corpus[0])\n",
    "print(model)"
   ]
  }
 ],
 "metadata": {
  "interpreter": {
   "hash": "ee5cc6fef2d70a7e71ee3826687cbd150f18158e0b1eef11d4f4f92bb920e304"
  },
  "kernelspec": {
   "display_name": "Python 3.9.6 64-bit",
   "language": "python",
   "name": "python3"
  },
  "language_info": {
   "codemirror_mode": {
    "name": "ipython",
    "version": 3
   },
   "file_extension": ".py",
   "mimetype": "text/x-python",
   "name": "python",
   "nbconvert_exporter": "python",
   "pygments_lexer": "ipython3",
   "version": "3.9.6"
  },
  "orig_nbformat": 4
 },
 "nbformat": 4,
 "nbformat_minor": 2
}
