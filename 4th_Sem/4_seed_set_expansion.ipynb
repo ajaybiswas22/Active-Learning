{
 "cells": [
  {
   "cell_type": "code",
   "execution_count": 137,
   "metadata": {},
   "outputs": [],
   "source": [
    "import fasttext\n",
    "import numpy as np\n",
    "import pandas as pd\n",
    "import os\n",
    "from scipy import spatial\n",
    "from scipy.spatial import distance\n",
    "from resources.basicIO import InputOutput as IO\n",
    "from resources.filterLang import FilterLanguage as FL\n",
    "from resources.tokTT import CommentTokenizer as CT\n",
    "import copy"
   ]
  },
  {
   "cell_type": "code",
   "execution_count": 138,
   "metadata": {},
   "outputs": [],
   "source": [
    "def NN(model, line, K):\n",
    "    return model.get_nearest_neighbors(line, k=K)"
   ]
  },
  {
   "cell_type": "code",
   "execution_count": 139,
   "metadata": {},
   "outputs": [],
   "source": [
    "# Takes 2 vectors a, b and returns the cosine similarity according \n",
    "# to the definition of the dot product\n",
    "def cos_sim(a, b):\n",
    "\tdot_product = np.dot(a, b)\n",
    "\tnorm_a = np.linalg.norm(a)\n",
    "\tnorm_b = np.linalg.norm(b)\n",
    "\treturn dot_product / (norm_a * norm_b)"
   ]
  },
  {
   "cell_type": "code",
   "execution_count": 140,
   "metadata": {},
   "outputs": [],
   "source": [
    "# finds similarity score between two lists\n",
    "def intersection_score(words, lst1, lst2, score_type):\n",
    "    # words contains all the words in the corpus\n",
    "    v1 = []\n",
    "    v2 = []\n",
    "\n",
    "    l1 = [x[1] for x in lst1]\n",
    "    l2 = [x[1] for x in lst2]\n",
    "\n",
    "    l10 = [x[0] for x in lst1]\n",
    "    l20 = [x[0] for x in lst2]\n",
    "\n",
    "    for i in range(len(words)):\n",
    "        try:\n",
    "            v1.append(l10[l1.index(words[i])])\n",
    "        except:\n",
    "            v1.append(0)\n",
    "\n",
    "    for i in range(len(words)):\n",
    "        try:\n",
    "            v2.append(l20[l2.index(words[i])])\n",
    "        except:\n",
    "            v2.append(0)\n",
    "\n",
    "    if(score_type == 'cosine_sim'):\n",
    "        return cos_sim(np.array(v1), np.array(v2))\n",
    "    else:\n",
    "        return None"
   ]
  },
  {
   "cell_type": "markdown",
   "metadata": {},
   "source": [
    "### Load Models"
   ]
  },
  {
   "cell_type": "code",
   "execution_count": 141,
   "metadata": {},
   "outputs": [
    {
     "name": "stderr",
     "output_type": "stream",
     "text": [
      "Warning : `load_model` does not return WordVectorModel or SupervisedModel any more, but a `FastText` object which is very similar.\n",
      "Warning : `load_model` does not return WordVectorModel or SupervisedModel any more, but a `FastText` object which is very similar.\n"
     ]
    }
   ],
   "source": [
    "# load models\n",
    "model_N_2 = fasttext.load_model('models/ft_unsupervised_N_2.bin')\n",
    "model_N_3 = fasttext.load_model('models/ft_unsupervised_N_3.bin')"
   ]
  },
  {
   "cell_type": "markdown",
   "metadata": {},
   "source": [
    "### Load Expansion Text"
   ]
  },
  {
   "cell_type": "code",
   "execution_count": 142,
   "metadata": {},
   "outputs": [],
   "source": [
    "expansion_text = IO.load_csv_col('datasets/random_sample.csv','comment')\n",
    "# loading from 100th comment\n",
    "expansion_text = expansion_text[200:500]"
   ]
  },
  {
   "cell_type": "markdown",
   "metadata": {},
   "source": [
    "### Tokenize Expansion text"
   ]
  },
  {
   "cell_type": "code",
   "execution_count": 143,
   "metadata": {},
   "outputs": [],
   "source": [
    "expansion_TK = [CT.tokenize(x) for x in expansion_text]"
   ]
  },
  {
   "cell_type": "markdown",
   "metadata": {},
   "source": [
    "### Load Seed Set"
   ]
  },
  {
   "cell_type": "code",
   "execution_count": 144,
   "metadata": {},
   "outputs": [],
   "source": [
    "seed_set_text = IO.load_text('datasets/seed_set.txt')\n",
    "seed_set_labels = IO.load_text('datasets/seed_set_labels.txt')"
   ]
  },
  {
   "cell_type": "markdown",
   "metadata": {},
   "source": [
    "### Tokenize Seed Set"
   ]
  },
  {
   "cell_type": "code",
   "execution_count": 145,
   "metadata": {},
   "outputs": [],
   "source": [
    "seed_set_TK = CT.cleaned('datasets/seed_set.txt')"
   ]
  },
  {
   "cell_type": "markdown",
   "metadata": {},
   "source": [
    "### Expand Seed Set"
   ]
  },
  {
   "cell_type": "code",
   "execution_count": 146,
   "metadata": {},
   "outputs": [],
   "source": [
    "# words: model.words, d1: NN_seed_set, l2: NN_exp_corpus_line, seed_set: seed_set, corpus_comment: exp_line, Y: labels\n",
    "def expand(words, d1, l2, g_seed_set, g_corpus_comment, Y, score_type):\n",
    "\n",
    "    scores = [intersection_score(words, i, l2, score_type) for i in d1]\n",
    "    maxpos = scores.index(max(scores))\n",
    "\n",
    "    try:\n",
    "        if(Y[maxpos] == '0'):\n",
    "            Y.insert(0, '0')\n",
    "            d1.insert(0, l2)\n",
    "            g_seed_set.insert(0, g_corpus_comment)\n",
    "        elif(Y[maxpos] == '2'):\n",
    "            Y.append('2')\n",
    "            d1.append(l2)\n",
    "            g_seed_set.append(g_corpus_comment)\n",
    "        elif(Y[maxpos] == '1'):\n",
    "            d1.insert(Y.index('1'), l2)\n",
    "            g_seed_set.insert(Y.index('1'), g_corpus_comment)\n",
    "            Y.insert(Y.index('1'), '1')\n",
    "    except:\n",
    "        pass\n"
   ]
  },
  {
   "cell_type": "code",
   "execution_count": 147,
   "metadata": {},
   "outputs": [],
   "source": [
    "def expand_seed_set(model,\n",
    "                    seed_set_text,\n",
    "                    seed_set_labels,\n",
    "                    seed_set_TK,\n",
    "                    expansion_text,\n",
    "                    expansion_TK, \n",
    "                    neighbors=20,\n",
    "                    expand_limit=10,\n",
    "                    score_type='cosine_sim'):\n",
    "    \n",
    "    # nearest neighbors of seed set\n",
    "    NN_seed_set = []\n",
    "    for comment in seed_set_TK:\n",
    "        NN_seed_set.append(NN(model,comment,neighbors))\n",
    "\n",
    "    # nearest neigbors for unlabeled corpus from random sample\n",
    "    NN_exp_corpus = []\n",
    "    for comment in expansion_TK:\n",
    "        NN_exp_corpus.append(NN(model,comment,neighbors))\n",
    "\n",
    "    # seed set to be expanded\n",
    "    seed_text_expanded = copy.deepcopy(seed_set_text)\n",
    "    Y_expanded = copy.deepcopy(seed_set_labels)\n",
    "    NN_seed_set_expanded = copy.deepcopy(NN_seed_set)\n",
    "\n",
    "    # expand by expand_limit\n",
    "    for i in range(expand_limit):\n",
    "        expand(model.words,\n",
    "               NN_seed_set_expanded,\n",
    "               NN_exp_corpus[i],\n",
    "               seed_text_expanded,\n",
    "               expansion_text[i],\n",
    "               Y_expanded,\n",
    "               score_type)\n",
    "\n",
    "    return seed_text_expanded, Y_expanded     "
   ]
  },
  {
   "cell_type": "markdown",
   "metadata": {},
   "source": [
    "### N=2"
   ]
  },
  {
   "cell_type": "code",
   "execution_count": 148,
   "metadata": {},
   "outputs": [],
   "source": [
    "seed_text_expanded_N_2,Y_expanded_N_2 = expand_seed_set(model_N_2,\n",
    "                                         seed_set_text,\n",
    "                                         seed_set_labels,\n",
    "                                         seed_set_TK,\n",
    "                                         expansion_text,\n",
    "                                         expansion_TK)"
   ]
  },
  {
   "cell_type": "markdown",
   "metadata": {},
   "source": [
    "### N=3"
   ]
  },
  {
   "cell_type": "code",
   "execution_count": 149,
   "metadata": {},
   "outputs": [],
   "source": [
    "seed_text_expanded_N_3,Y_expanded_N_3 = expand_seed_set(model_N_3,\n",
    "                                         seed_set_text,\n",
    "                                         seed_set_labels,\n",
    "                                         seed_set_TK,\n",
    "                                         expansion_text,\n",
    "                                         expansion_TK)\n"
   ]
  },
  {
   "cell_type": "markdown",
   "metadata": {},
   "source": [
    "### Save the expanded seed set and labels"
   ]
  },
  {
   "cell_type": "code",
   "execution_count": 150,
   "metadata": {},
   "outputs": [],
   "source": [
    "IO.save_text('datasets_post/seed_set_expanded_N_2.txt', seed_text_expanded_N_2)\n",
    "IO.save_text('datasets_post/seed_set_expanded_labels_N_2.txt',\n",
    "             map(str, Y_expanded_N_2))\n",
    "\n",
    "IO.save_text('datasets_post/seed_set_expanded_N_3.txt', seed_text_expanded_N_3)\n",
    "IO.save_text('datasets_post/seed_set_expanded_labels_N_3.txt',\n",
    "             map(str, Y_expanded_N_3))\n"
   ]
  }
 ],
 "metadata": {
  "interpreter": {
   "hash": "ee5cc6fef2d70a7e71ee3826687cbd150f18158e0b1eef11d4f4f92bb920e304"
  },
  "kernelspec": {
   "display_name": "Python 3.9.6 64-bit",
   "language": "python",
   "name": "python3"
  },
  "language_info": {
   "codemirror_mode": {
    "name": "ipython",
    "version": 3
   },
   "file_extension": ".py",
   "mimetype": "text/x-python",
   "name": "python",
   "nbconvert_exporter": "python",
   "pygments_lexer": "ipython3",
   "version": "3.9.6"
  },
  "orig_nbformat": 4
 },
 "nbformat": 4,
 "nbformat_minor": 2
}
