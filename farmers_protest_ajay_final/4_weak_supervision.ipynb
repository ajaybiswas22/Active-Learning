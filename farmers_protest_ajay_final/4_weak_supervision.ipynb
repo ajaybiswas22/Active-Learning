{
 "cells": [
  {
   "cell_type": "code",
   "execution_count": 1,
   "metadata": {},
   "outputs": [],
   "source": [
    "import numpy as np\n",
    "import pandas as pd\n",
    "import fasttext\n",
    "from collections import Counter\n",
    "from tqdm import tqdm\n",
    "from scipy.sparse import csr_matrix\n",
    "import math\n",
    "import operator\n",
    "from sklearn.preprocessing import normalize\n",
    "import matplotlib.pyplot as plt\n",
    "from sklearn.model_selection import train_test_split\n",
    "from sklearn.pipeline import make_pipeline\n",
    "from sklearn.pipeline import Pipeline\n",
    "from sklearn.linear_model import LogisticRegression\n",
    "from sklearn.svm import SVC\n",
    "from sklearn.base import BaseEstimator, TransformerMixin\n",
    "import fasttext\n",
    "from sklearn.metrics import precision_recall_fscore_support\n",
    "from sklearn import metrics\n"
   ]
  },
  {
   "cell_type": "code",
   "execution_count": 2,
   "metadata": {},
   "outputs": [],
   "source": [
    "df_sample = pd.read_csv('datasets/random_sample_data.csv')"
   ]
  },
  {
   "cell_type": "code",
   "execution_count": 3,
   "metadata": {},
   "outputs": [
    {
     "data": {
      "text/html": [
       "<div>\n",
       "<style scoped>\n",
       "    .dataframe tbody tr th:only-of-type {\n",
       "        vertical-align: middle;\n",
       "    }\n",
       "\n",
       "    .dataframe tbody tr th {\n",
       "        vertical-align: top;\n",
       "    }\n",
       "\n",
       "    .dataframe thead th {\n",
       "        text-align: right;\n",
       "    }\n",
       "</style>\n",
       "<table border=\"1\" class=\"dataframe\">\n",
       "  <thead>\n",
       "    <tr style=\"text-align: right;\">\n",
       "      <th></th>\n",
       "      <th>raw_comment</th>\n",
       "      <th>tokenized_comment</th>\n",
       "      <th>label</th>\n",
       "    </tr>\n",
       "  </thead>\n",
       "  <tbody>\n",
       "    <tr>\n",
       "      <th>4477</th>\n",
       "      <td>all the flags are sikh religious flags. they d...</td>\n",
       "      <td>all the flag be sikh religious flag they do no...</td>\n",
       "      <td>1</td>\n",
       "    </tr>\n",
       "    <tr>\n",
       "      <th>4478</th>\n",
       "      <td>Salute the farmers</td>\n",
       "      <td>salute the farmer</td>\n",
       "      <td>0</td>\n",
       "    </tr>\n",
       "    <tr>\n",
       "      <th>4479</th>\n",
       "      <td>Let's also remember how many farmers lost thei...</td>\n",
       "      <td>let be also remember how many farmer lose thei...</td>\n",
       "      <td>0</td>\n",
       "    </tr>\n",
       "    <tr>\n",
       "      <th>4480</th>\n",
       "      <td>ABP news you guys dont have heart 8 farmers go...</td>\n",
       "      <td>abp news you guy dont have heart 8 farmer get ...</td>\n",
       "      <td>0</td>\n",
       "    </tr>\n",
       "    <tr>\n",
       "      <th>4481</th>\n",
       "      <td>These new laws actually give the power to the ...</td>\n",
       "      <td>these new law actually give the power to the f...</td>\n",
       "      <td>1</td>\n",
       "    </tr>\n",
       "  </tbody>\n",
       "</table>\n",
       "</div>"
      ],
      "text/plain": [
       "                                            raw_comment  \\\n",
       "4477  all the flags are sikh religious flags. they d...   \n",
       "4478                                 Salute the farmers   \n",
       "4479  Let's also remember how many farmers lost thei...   \n",
       "4480  ABP news you guys dont have heart 8 farmers go...   \n",
       "4481  These new laws actually give the power to the ...   \n",
       "\n",
       "                                      tokenized_comment  label  \n",
       "4477  all the flag be sikh religious flag they do no...      1  \n",
       "4478                                  salute the farmer      0  \n",
       "4479  let be also remember how many farmer lose thei...      0  \n",
       "4480  abp news you guy dont have heart 8 farmer get ...      0  \n",
       "4481  these new law actually give the power to the f...      1  "
      ]
     },
     "execution_count": 3,
     "metadata": {},
     "output_type": "execute_result"
    }
   ],
   "source": [
    "# remove unnecessary comments\n",
    "df_sample = df_sample.drop([x for x in range(len(df_sample)) if int(\n",
    "    df_sample['label'][x]) != 0 and int(df_sample['label'][x]) != 1])\n",
    "\n",
    "df_sample.tail()"
   ]
  },
  {
   "cell_type": "code",
   "execution_count": 4,
   "metadata": {},
   "outputs": [],
   "source": [
    "comments = df_sample['tokenized_comment']\n",
    "labels = df_sample['label']"
   ]
  },
  {
   "cell_type": "markdown",
   "metadata": {},
   "source": [
    "### Weak Supervision"
   ]
  },
  {
   "cell_type": "code",
   "execution_count": 5,
   "metadata": {},
   "outputs": [],
   "source": [
    "def n_gram_count(sentence: str, n_gram_phrase: str):\n",
    "    return sentence.count(n_gram_phrase)"
   ]
  },
  {
   "cell_type": "markdown",
   "metadata": {},
   "source": [
    "### Modified TF-IDF"
   ]
  },
  {
   "cell_type": "code",
   "execution_count": 6,
   "metadata": {},
   "outputs": [],
   "source": [
    "\n",
    "def IDF(corpus, unique_words):\n",
    "   idf_dict = {}\n",
    "   N = len(corpus)\n",
    "   for i in unique_words:\n",
    "     count = 0\n",
    "     for sen in corpus:\n",
    "       if n_gram_count(sen,i) != 0:\n",
    "         count = count+1\n",
    "       idf_dict[i] = (math.log((1+N)/(count+1)))+1\n",
    "   return idf_dict\n",
    "\n",
    "\n",
    "def TF(sentence, n_gram_phrase, unique_words):\n",
    "    \"\"\"count of t in d / number of words in d\n",
    "\n",
    "       each phrase in unique_words is considered as a word\n",
    "    \"\"\"\n",
    "    freq = n_gram_count(sentence, n_gram_phrase)\n",
    "    total_words = len(sentence.split())\n",
    "    remove = 0\n",
    "    for word in unique_words:\n",
    "      freq_word = n_gram_count(sentence, word)\n",
    "      word_count = freq_word * len(word.split())\n",
    "      freq_word = word_count - freq_word\n",
    "      remove += freq_word\n",
    "    total_words -= remove\n",
    "    return freq/total_words\n",
    "\n",
    "def corpus_unique(corpus, n_gram_words):\n",
    "  \"\"\" returns the total unique words in corpus \"\"\"\n",
    "  all_sentences = (' '.join(corpus))\n",
    "  all_words = list(set(all_sentences.split()))\n",
    "  all_words.extend(n_gram_words)\n",
    "  \n",
    "  return list(set(all_words))\n"
   ]
  },
  {
   "cell_type": "code",
   "execution_count": 91,
   "metadata": {},
   "outputs": [],
   "source": [
    "n_gram_words = ['victory', 'loss']\n",
    "corpus_words = corpus_unique(list(comments), n_gram_words)"
   ]
  },
  {
   "cell_type": "code",
   "execution_count": 92,
   "metadata": {},
   "outputs": [
    {
     "name": "stdout",
     "output_type": "stream",
     "text": [
      "2\n"
     ]
    }
   ],
   "source": [
    "print(len(n_gram_words))"
   ]
  },
  {
   "cell_type": "markdown",
   "metadata": {},
   "source": [
    "### Make Feature Vector"
   ]
  },
  {
   "cell_type": "code",
   "execution_count": 93,
   "metadata": {},
   "outputs": [],
   "source": [
    "X = np.zeros((len(df_sample), len(n_gram_words)+1))\n",
    "\n",
    "comments_list = list(comments)\n",
    "\n",
    "labels_str = list(labels)\n",
    "labels_int = [int(i) for i in labels_str]\n",
    "\n",
    "IDF_dict = IDF(comments_list,n_gram_words)\n",
    "\n",
    "for i in range(len(comments_list)):\n",
    "    for j in range(len(n_gram_words)):\n",
    "        tf_idf_ij = TF(comments_list[i], n_gram_words[j],\n",
    "                       corpus_words)*IDF_dict[n_gram_words[j]]\n",
    "        X[i][j] = tf_idf_ij\n",
    "\n",
    "X[:,-1] = labels_int"
   ]
  },
  {
   "cell_type": "code",
   "execution_count": 94,
   "metadata": {},
   "outputs": [],
   "source": [
    "X_clean = []\n",
    "for i in range(len(X)):\n",
    "    if(X[i][0] != 0 or X[i][1] != 0):\n",
    "        X_clean.append(list(X[i,:]))\n",
    "\n",
    "X_clean = np.array(X_clean)"
   ]
  },
  {
   "cell_type": "code",
   "execution_count": 95,
   "metadata": {},
   "outputs": [
    {
     "name": "stdout",
     "output_type": "stream",
     "text": [
      "78\n"
     ]
    }
   ],
   "source": [
    "print(len(X_clean))"
   ]
  },
  {
   "cell_type": "code",
   "execution_count": 96,
   "metadata": {},
   "outputs": [],
   "source": [
    "mask = (X_clean[:, -1] == 0)\n",
    "X_f1 = X_clean[mask, :]\n",
    "\n",
    "mask = (X_clean[:, -1] == 1)\n",
    "X_f2 = X_clean[mask, :]\n"
   ]
  },
  {
   "cell_type": "code",
   "execution_count": 97,
   "metadata": {},
   "outputs": [
    {
     "name": "stdout",
     "output_type": "stream",
     "text": [
      "51 27\n"
     ]
    }
   ],
   "source": [
    "print(len(X_f1), len(X_f2))"
   ]
  },
  {
   "cell_type": "code",
   "execution_count": 98,
   "metadata": {},
   "outputs": [
    {
     "data": {
      "image/png": "[encoded data removed]",
      "text/plain": [
       "<Figure size 432x288 with 1 Axes>"
      ]
     },
     "metadata": {
      "needs_background": "light"
     },
     "output_type": "display_data"
    }
   ],
   "source": [
    "plot_1 = plt.scatter(X_f1[:, 0], X_f1[:, 1], color='red')\n",
    "plot_2 = plt.scatter(X_f2[:, 0], X_f2[:, 1], color='blue')\n",
    "l1 = 'Negative Comment (count: ' + str(len(X_f1)) + ')'\n",
    "l2 = 'Positive Comment (count: ' + str(len(X_f2)) + ')'\n",
    "plt.legend((plot_1,plot_2), (l1,l2), numpoints=1, loc='upper right', ncol=1, fontsize=8)\n",
    "#plt.title(\"Stance of Comments based on TF_IDF scores of phrases\")\n",
    "plt.xlabel(n_gram_words[0])\n",
    "plt.ylabel(n_gram_words[1])\n",
    "plt.savefig('outputs/figures/' +\n",
    "            n_gram_words[0]+'_'+n_gram_words[1], dpi=300, bbox_inches='tight')\n",
    "plt.show()\n",
    "\n"
   ]
  },
  {
   "cell_type": "markdown",
   "metadata": {},
   "source": [
    "### Classification"
   ]
  },
  {
   "cell_type": "code",
   "execution_count": 99,
   "metadata": {},
   "outputs": [],
   "source": [
    "X_train, X_test, y_train, y_test = train_test_split(X[:,0:1],\n",
    "                                                    X[:,-1], test_size=0.2,\n",
    "                                                    random_state=4,\n",
    "                                                    stratify=X[:, -1])\n"
   ]
  },
  {
   "cell_type": "code",
   "execution_count": 100,
   "metadata": {},
   "outputs": [
    {
     "name": "stdout",
     "output_type": "stream",
     "text": [
      "(2603, 1)\n",
      "(3254, 3)\n"
     ]
    }
   ],
   "source": [
    "print(X_train.shape)\n",
    "print(X.shape)\n"
   ]
  },
  {
   "cell_type": "code",
   "execution_count": 101,
   "metadata": {},
   "outputs": [],
   "source": [
    "clf = LogisticRegression(random_state=0).fit(X_train, y_train)\n",
    "accuracy = metrics.accuracy_score(y_test, clf.predict(X_test))\n",
    "confusion_matrix = metrics.confusion_matrix(y_test, clf.predict(X_test))"
   ]
  },
  {
   "cell_type": "code",
   "execution_count": 102,
   "metadata": {},
   "outputs": [
    {
     "name": "stdout",
     "output_type": "stream",
     "text": [
      "0.5683563748079877\n",
      "[[370   0]\n",
      " [281   0]]\n"
     ]
    }
   ],
   "source": [
    "print(accuracy)\n",
    "print(confusion_matrix)"
   ]
  }
 ],
 "metadata": {
  "interpreter": {
   "hash": "25034407fed5d681614dac11a1c0537e8cb49e3a8883c071303eea01322943d9"
  },
  "kernelspec": {
   "display_name": "Python 3.9.6 64-bit",
   "language": "python",
   "name": "python3"
  },
  "language_info": {
   "codemirror_mode": {
    "name": "ipython",
    "version": 3
   },
   "file_extension": ".py",
   "mimetype": "text/x-python",
   "name": "python",
   "nbconvert_exporter": "python",
   "pygments_lexer": "ipython3",
   "version": "3.9.6"
  },
  "orig_nbformat": 4
 },
 "nbformat": 4,
 "nbformat_minor": 2
}
