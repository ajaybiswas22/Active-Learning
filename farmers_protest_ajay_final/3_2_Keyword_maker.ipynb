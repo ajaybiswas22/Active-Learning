{
 "cells": [
  {
   "cell_type": "code",
   "execution_count": 1,
   "metadata": {},
   "outputs": [
    {
     "name": "stderr",
     "output_type": "stream",
     "text": [
      "[nltk_data] Downloading package wordnet to C:\\Users\\AJAY\n",
      "[nltk_data]     BISWAS\\AppData\\Roaming\\nltk_data...\n",
      "[nltk_data]   Package wordnet is already up-to-date!\n"
     ]
    }
   ],
   "source": [
    "import numpy as np\n",
    "import fasttext\n",
    "from resources.basicIO import InputOutput as IO\n",
    "from resources.filterLang import FilterLanguage as FL\n"
   ]
  },
  {
   "cell_type": "code",
   "execution_count": 2,
   "metadata": {},
   "outputs": [
    {
     "name": "stderr",
     "output_type": "stream",
     "text": [
      "Warning : `load_model` does not return WordVectorModel or SupervisedModel any more, but a `FastText` object which is very similar.\n"
     ]
    }
   ],
   "source": [
    "model = fasttext.load_model('models/ft_unsupervised_N_2.bin')"
   ]
  },
  {
   "cell_type": "code",
   "execution_count": 3,
   "metadata": {},
   "outputs": [],
   "source": [
    "keywords = IO.load_text('datasets/keywords.txt')"
   ]
  },
  {
   "cell_type": "code",
   "execution_count": 23,
   "metadata": {},
   "outputs": [],
   "source": [
    "k = 12"
   ]
  },
  {
   "cell_type": "code",
   "execution_count": 24,
   "metadata": {},
   "outputs": [],
   "source": [
    "X = []\n",
    "for keyword in keywords:\n",
    "    a = model.get_nearest_neighbors(keyword,k)\n",
    "    new_keywords = [x[1] for x in a]\n",
    "    X.extend(new_keywords)\n"
   ]
  },
  {
   "cell_type": "code",
   "execution_count": 27,
   "metadata": {},
   "outputs": [
    {
     "name": "stdout",
     "output_type": "stream",
     "text": [
      "['collection', 'modify', 'demolish', 'khatam', 'ji', 'modiji', 'ill', 'gundas', 'kashmir', 'former', 'farmars', 'repeatedly', 'carry', 'mandies', 'tikket', 'zindabaad', 'masterstroke', 'align', 'history', 'attack', 'dissolve', 'mr', 'christian', 'literally', 'suppress', 'correction', 'shamelessly', 'kisaan', 'lgta', 'bewakoof', 'sum', 'announcement', 'mumbai', 'restrict', 'dc', 'analyze', 'hypocrisy', 'apology', 'jharkhand', 'withdraw', 'revoke', 'msps', 'valid', 'actor', 'evm', 'new', 'apprehension', 'mataram', 'satisfied', 'ampc', 'famer', 'modis', 'attach', 'dalals', 'fixed', 'rahul', 'country', 'congress', 'mh', 'ajay', 'kangna', 'shah', 'dacoit', 'law', 'apologise', 'guaranteed', 'lalantop', 'supportfarmers', 'hatao', 'goosebump', 'tn', 'bahadur', 'shaheed', 'puppet', 'medias', 'sword', 'fascist', 'section', 'jindabad', 'rakesh', 'nautanki', 'godimedia', 'outside', 'connection', 'karne', 'nakli', 'fully', 'prize', 'bbc', 'generally', 'sikh', '27', 'drastically', 'clarify', 'twice', 'sane', 'mandatory', 'trp', 'famers', 'diljit', 'deshbhakt', 'tarah', 'kisan', 'equally', 'haryana', 'sardar', 'punjabi', 'arvind', 'fight', 'khilaf', 'pepsico', 'aajtak', 'brainwash', 'jahil', 'adityanath', 'maoist', 'withdrawal', 'farmerprotest', 'muslim', 'assure', 'comedian', 'krishi', 'kishano', 'agitator', 'majdur', 'memory', 'khalsa', 'prediction', 'mandate', 'spineless', 'pak', 'conclusion', 'january', 'bhagat', 'elected', 'assam', 'ekta', 'fare', 'ticket', 'sport', 'rajasthan', '94', 'hypocrite', 'tukde', 'mishra', 'journalism', 'again', 'farmes', 'farming', 'glorify', 'terror', 'kisans', '</s>', 'indias', 'framer', 'ulla', '1984', 'zee', 'bunch', 'dwara', 'turban', 'unrest', 'bhaiya', 'pelt', 'khalistani', 'logically', 'umbrella', 'baar', 'minimum', 'bolo', 'kissans', 'hm', 'harayana', 'anchor', 'jaye', 'bhakts', 'elect', 'appeal', 'pakistan', 'crux', 'refuse', 'yogiji', 'mediator', 'rumor', 'wala', 'vehicle', 'naam', 'sanghi', 'ohh', 'gun', 'tikait', 'mata', 'ammendments', 'kumar', 'repeat', 'sri', 'alert', 'aaya', 'outsider', 'separatist', 'pdf', 'farm', 'tyranny', 'fascism', 'omg', 'opposite', 'apologize', 'demerit', 'sabji', 'parallel', 'samdish', 'strict', 'historic', 'draft', 'punjabis', 'selling', 'muh', 'shameless', 'feku', 'highway', 'indeed', 'unjust', 'chhattisgarh', 'pseudo', 'kissan', 'bhaiyo', 'tomorrow', 'ally', 'aapke', 'supporter', 'farmersinu', 'idiot', 'sale', 'yadav', 'takait', 'assembly', 'pricing', 'mla', 'kissano', 'farmar', 'narrow', 'southern', 'panjab', 'clothes', 'track', 'tikat', 'kisaano', 'medium', 'citizenship', 'shiva', 'shri', 'bsnl', 'pakistani', 'movie', 'repel', 'murderer', 'tweet', 'isupportfarmers', 'redressal', 'abolish', 'narendra', 'wb', 'reaction', 'choke', 'jayanti', 'democracy', 'aapki', 'fix', 'kishan', 'uttarakhand', 'jaan', 'barricade', 'action', 'sarkar', 'ironically', 'ranaut', 'premium', 'indian', 'jawan', 'aap', 'tiket', 'lallantop', 'arrogant', 'akhilesh', 'agril', 'morally', 'await', 'sarkari', 'victim', 'far', 'garb', 'rakha', 'das', 'tk', 'traffic', 'jawaan', 'sarkaar', 'kis', 'jaldi', 'tmc', 'indulge', 'ordinance', 'jitna', 'pick', 'cm', 'hero', 'andhbhakt', 'vande', 'kaam', 'lynch', 'locally', 'apmcs', 'mainly', 'shirt', 'yha', 'parade', 'sanjay', 'ajj', 'akash', 'indonesia', 'aapko', 'mazdoor', 'indigo', 'supportive', 'sick', 'rectify', 'joy', 'akali', 'terrorist', 'dakait', 'korea', 'seal', 'instigate', 'indians', 'punjab', 'sudhir', 'haryanvi', 'aane', 'standwithfarmers', 'countryman', 'bheem', 'javan', 'kheri', 'bol', 'repealing', 'rice', 'hoist', 'dictatorship', 'farmland', 'tarnish', 'da', 'chinese', 'california', 'mandi', 'farners', 'zindabad', 'uttar', 'yaar', 'yogi', 'hariyana', 'yogendra', 'khalistan', 'modi', 'brutally', 'asap', 'mandir', 'merchant', 'suppose', 'jee', 'supporting', 'replace', '43', 'pm', 'china', 'thnx', 'amend', 'news', 'fluctuate', 'jumla', 'sb', 'banerjee', 'nihang', 'bjps', 'khalistanis', 'andhbhakts', 'fraction', 'label', 'mandis', 'nehru', 'sahib', 'farmer', 'accept', 'draconian', 'dalal', 'abp', 'gud', 'party', 'speech', 'quiet', 'historical', 'tikayat', 'kejriwal', 'mc', 'priyanka', 'majdoor', 'bully', 'murder', 'guarantee', 'direction', 'terrorists', '1976', 'remedy', 'morcha', 'apmc', 'pvt', 'bjp', 'aaye', 'demonetization', 'authoritarian', 'liar', 'maximum', 'panchayat', 'three', 'dictator', 'aandolan', 'assured', 'dw', 'jindabaad', 'madhya', 'ndtv', 'port', 'tv', 'mrp', 'godi', 'hindustan', 'isi', 'jaruri', 'baba', '23']\n"
     ]
    }
   ],
   "source": [
    "keywords2 = list(set(X))\n",
    "print(keywords2)"
   ]
  },
  {
   "cell_type": "code",
   "execution_count": 26,
   "metadata": {},
   "outputs": [],
   "source": [
    "IO.save_text('datasets/gen_keywords.txt',keywords2)"
   ]
  }
 ],
 "metadata": {
  "interpreter": {
   "hash": "ee5cc6fef2d70a7e71ee3826687cbd150f18158e0b1eef11d4f4f92bb920e304"
  },
  "kernelspec": {
   "display_name": "Python 3.9.6 64-bit",
   "language": "python",
   "name": "python3"
  },
  "language_info": {
   "codemirror_mode": {
    "name": "ipython",
    "version": 3
   },
   "file_extension": ".py",
   "mimetype": "text/x-python",
   "name": "python",
   "nbconvert_exporter": "python",
   "pygments_lexer": "ipython3",
   "version": "3.9.6"
  },
  "orig_nbformat": 4
 },
 "nbformat": 4,
 "nbformat_minor": 2
}
