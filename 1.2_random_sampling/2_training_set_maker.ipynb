{
 "cells": [
  {
   "cell_type": "code",
   "execution_count": 5,
   "metadata": {},
   "outputs": [],
   "source": [
    "import numpy as np\n",
    "import pandas as pd\n",
    "import os"
   ]
  },
  {
   "cell_type": "code",
   "execution_count": 3,
   "metadata": {},
   "outputs": [],
   "source": [
    "df = pd.read_csv(\"random_sample_labeled.csv\")"
   ]
  },
  {
   "cell_type": "code",
   "execution_count": 4,
   "metadata": {},
   "outputs": [
    {
     "name": "stdout",
     "output_type": "stream",
     "text": [
      "                                               comment  label number\n",
      "0    Kisan andolan propagation is not necessary.  T...      0   1624\n",
      "1    Now no one is talking about covid and these su...      0  11446\n",
      "2    Tikait graduated with anM.A.degree fromMeerut ...      0   7025\n",
      "3    They are not farmers, only farmers of Punjab a...      0   9525\n",
      "4    Farmer's FAKE Protest : \\n\\n  , \\n  .\\n  ,\\n  ...      0   4766\n",
      "..                                                 ...    ...    ...\n",
      "371  Jai Jawn Jai Kisan...... Long live Rakesh Tika...      1    627\n",
      "372     Please support for farmers for Indian gourmand      1  10025\n",
      "373  India is the largest democracy in the world, I...      1   9193\n",
      "374  Nor BJP and JDU has anything to say that is wh...      1  11195\n",
      "375  Shame on what this channel is bringing to publ...      1   9118\n",
      "\n",
      "[376 rows x 3 columns]\n"
     ]
    }
   ],
   "source": [
    "# reads the text file containing originl index of comment\n",
    "text_file = open(\"random_sample_no.txt\", \"r\")\n",
    "no_str = text_file.read()\n",
    "text_file.close()\n",
    "# make a list of index numbers\n",
    "nos = no_str.replace(\" \", \"\").split(\",\")\n",
    "\n",
    "# add a new column\n",
    "df['number'] = nos\n",
    "# remove unwanted label\n",
    "df_filtered = df[df['label'] <= 1]\n",
    "# sort acc. to labels\n",
    "df_filtered = df_filtered.sort_values(by=['label'])\n",
    "# reset index\n",
    "df_filtered = df_filtered.reset_index(drop=True)\n",
    "\n",
    "print(df_filtered)\n",
    "# make train set\n",
    "df_filtered.to_csv('train_set.csv', index=False)\n"
   ]
  }
 ],
 "metadata": {
  "interpreter": {
   "hash": "ee5cc6fef2d70a7e71ee3826687cbd150f18158e0b1eef11d4f4f92bb920e304"
  },
  "kernelspec": {
   "display_name": "Python 3.9.6 64-bit",
   "language": "python",
   "name": "python3"
  },
  "language_info": {
   "codemirror_mode": {
    "name": "ipython",
    "version": 3
   },
   "file_extension": ".py",
   "mimetype": "text/x-python",
   "name": "python",
   "nbconvert_exporter": "python",
   "pygments_lexer": "ipython3",
   "version": "3.9.6"
  },
  "orig_nbformat": 4
 },
 "nbformat": 4,
 "nbformat_minor": 2
}
