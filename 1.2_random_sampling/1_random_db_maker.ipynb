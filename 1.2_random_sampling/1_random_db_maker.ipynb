{
 "cells": [
  {
   "cell_type": "code",
   "execution_count": 13,
   "metadata": {},
   "outputs": [
    {
     "name": "stderr",
     "output_type": "stream",
     "text": [
      "[nltk_data] Downloading package punkt to /home/ajay/nltk_data...\n",
      "[nltk_data]   Package punkt is already up-to-date!\n",
      "[nltk_data] Downloading package stopwords to /home/ajay/nltk_data...\n",
      "[nltk_data]   Package stopwords is already up-to-date!\n"
     ]
    }
   ],
   "source": [
    "import re\n",
    "import numpy as np\n",
    "import pandas as pd\n",
    "import nltk\n",
    "import os\n",
    "import nltk.corpus\n",
    "from nltk.tokenize import word_tokenize\n",
    "from nltk.util import bigrams, trigrams, ngrams\n",
    "from nltk.corpus import stopwords\n",
    "nltk.download('punkt')\n",
    "nltk.download('stopwords')\n",
    "import random"
   ]
  },
  {
   "cell_type": "code",
   "execution_count": 14,
   "metadata": {},
   "outputs": [],
   "source": [
    "# text filtration\n",
    "def filteredTokens(line):\n",
    "\n",
    "    # remove stop words\n",
    "    stop_words = set(stopwords.words('english'))\n",
    "    word_tokens = word_tokenize(line)\n",
    "    filtered_sentence = [w for w in word_tokens if not w.lower() in stop_words]\n",
    "\n",
    "    punctuations = re.compile(\n",
    "        r'[-,*%#&\"\\'`:+.?!;()|0-9]')    # remove punctuations\n",
    "    post_punctuations = []\n",
    "    for words in filtered_sentence:\n",
    "        word = punctuations.sub(\"\", words)\n",
    "        if len(word) > 0:\n",
    "            post_punctuations.append(word)\n",
    "\n",
    "    return post_punctuations"
   ]
  },
  {
   "cell_type": "code",
   "execution_count": 15,
   "metadata": {},
   "outputs": [
    {
     "name": "stdout",
     "output_type": "stream",
     "text": [
      "[7529, 6854, 9829, 10557, 76, 3953, 11338, 14887, 5208, 9287, 11986, 13480, 2452, 4554, 12736, 6159, 12261, 14044, 12783, 4676, 4544, 2284, 2264, 11459, 475, 8215, 2898, 1962, 7224, 10058, 1022, 14905, 8074, 14963, 6571, 7889, 14106, 13364, 5128, 797, 7915, 12358, 12420, 531, 4422, 6356, 13768, 1431, 696, 5757, 13249, 3680, 3168, 6417, 6468, 5852, 1244, 217, 2200, 14164, 1782, 3546, 1210, 14421, 12327, 3860, 3585, 5796, 2576, 7220, 12304, 739, 5405, 2094, 2567, 11024, 6036, 4395, 13786, 8272, 1471, 12118, 9793, 270, 3079, 1717, 1756, 12989, 10228, 5868, 11462, 8236, 5668, 10983, 14822, 4390, 8357, 11351, 14079, 8582, 5540, 8216, 7058, 1749, 1169, 10638, 7425, 13704, 15031, 2262, 8012, 14987, 14077, 10548, 1642, 4779, 15098, 12239, 7893, 10624, 8972, 6363, 5936, 5029, 13516, 14909, 7364, 6268, 5842, 1643, 5864, 12416, 15063, 6140, 8380, 13912, 3262, 1679, 354, 10096, 10875, 6057, 7969, 10231, 8229, 14035, 12021, 14186, 11497, 4969, 835, 14494, 4076, 13990, 6853, 8549, 11637, 10930, 3972, 14515, 4236, 13174, 3309, 13831, 7576, 14269, 9846, 7072, 4197, 14747, 11577, 2207, 2653, 4876, 1765, 1049, 7800, 12377, 3966, 12379, 13472, 13585, 1803, 14665, 10718, 13603, 9059, 1938, 8689, 12153, 11493, 12296, 4912, 745, 7306, 7494, 14380, 11626, 4274, 9191, 10063, 14847, 4988, 13957, 4031, 11690, 1145, 4651, 402, 13010, 12771, 10706, 6679, 12014, 14585, 12336, 14800, 3064, 8449, 9153, 9715, 1697, 4097, 6556, 3821, 12034, 4060, 6446, 2930, 6885, 3871, 9998, 11458, 8126, 5312, 10650, 4345, 1201, 10452, 5175, 6462, 11064, 12058, 9531, 14507, 5455, 13838, 9974, 2477, 14293, 9635, 3366, 7574, 6302, 14435, 13639, 11524, 1600, 11822, 14059, 14940, 12704, 3703, 282, 7316, 7964, 1260, 4083, 2807, 6119, 15004, 4859, 3436, 4871, 4315, 12446, 474, 1311, 11650, 5407, 1504, 12492, 14898, 1264, 10637, 5523, 1029, 13631, 11940, 8967, 6399, 8988, 906, 9751, 9543, 10910, 8987, 8259, 5163, 3411, 1542, 12208, 13597, 12164, 4153, 14297, 10365, 7887, 8785, 13259, 2753, 5358, 7322, 8730, 12685, 5830, 786, 7971, 4371, 1236, 5738, 4311, 10419, 607, 9892, 2383, 2269, 1673, 7794, 10076, 10544, 11777, 13911, 1536, 5948, 9831, 13808, 8749, 14845, 2510, 6317, 3533, 2723, 14140, 5479, 9053, 13374, 8199, 8097, 6095, 10612, 8783, 690, 4880, 6032, 9625, 1395, 14748, 2394, 7340, 14490, 2526, 13785, 5712, 12796, 14347, 11392, 3843, 9999, 6988, 10943, 5357, 7153, 5939, 3749, 13135, 7737, 6084, 7155, 13749, 12812, 2751, 13729, 1175, 5050, 1409, 12254, 2473, 2823, 12291, 11418, 14331, 12936, 1176, 10799, 10333, 2462, 14097, 3000, 7331]\n"
     ]
    }
   ],
   "source": [
    "df = pd.read_csv(\"englishComments.csv\")\n",
    "\n",
    "rlist = random.sample(range(0, len(df)), 400)\n",
    "print(rlist)\n",
    "\n",
    "comments = []\n",
    "\n",
    "for i in range(len(rlist)):\n",
    "    line = df.Comment[i]\n",
    "    line = str(line)\n",
    "    # remove unnecessary words & punc.\n",
    "    #tokens = filteredTokens(line.lower())\n",
    "    comments.append(line)\n",
    "\n",
    "pd.DataFrame({'comment': comments}).to_csv('random_sample.csv', index=False)\n"
   ]
  }
 ],
 "metadata": {
  "interpreter": {
   "hash": "ee5cc6fef2d70a7e71ee3826687cbd150f18158e0b1eef11d4f4f92bb920e304"
  },
  "kernelspec": {
   "display_name": "Python 3.9.6 64-bit",
   "language": "python",
   "name": "python3"
  },
  "language_info": {
   "codemirror_mode": {
    "name": "ipython",
    "version": 3
   },
   "file_extension": ".py",
   "mimetype": "text/x-python",
   "name": "python",
   "nbconvert_exporter": "python",
   "pygments_lexer": "ipython3",
   "version": "3.8.10"
  },
  "orig_nbformat": 4
 },
 "nbformat": 4,
 "nbformat_minor": 2
}
