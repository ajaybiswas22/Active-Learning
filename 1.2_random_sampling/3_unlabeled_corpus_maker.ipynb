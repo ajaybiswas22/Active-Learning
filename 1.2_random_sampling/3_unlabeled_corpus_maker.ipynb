{
 "cells": [
  {
   "cell_type": "code",
   "execution_count": 4,
   "metadata": {},
   "outputs": [],
   "source": [
    "import numpy as np\n",
    "import pandas as pd\n",
    "import os\n",
    "import random"
   ]
  },
  {
   "cell_type": "code",
   "execution_count": 10,
   "metadata": {},
   "outputs": [
    {
     "name": "stdout",
     "output_type": "stream",
     "text": [
      "                      Username  \\\n",
      "600                 Sampad Roy   \n",
      "601                 Munna Rana   \n",
      "602    Kavita meena..Rajasthan   \n",
      "603              Nitin Shekhar   \n",
      "604     Nasreen Khanum Nasreen   \n",
      "...                        ...   \n",
      "15114            Nikki Kumawat   \n",
      "15115             Error X Tech   \n",
      "15116              Ayush Aryan   \n",
      "15117               ANIL INDIA   \n",
      "15118               Shreya Raj   \n",
      "\n",
      "                                                 Comment  \n",
      "600     Choukidar chor  jasoos \\n2024 choukidar chor GOL  \n",
      "601    Just full fill the demand of farmers otherwise...  \n",
      "602                    Next year u.p. ..election BJP out  \n",
      "603    What I love about this whole thing is sheer mu...  \n",
      "604                        Salute  you my sikh brother's  \n",
      "...                                                  ...  \n",
      "15114              Indian army please support , panjshir  \n",
      "15115     TOYOTA Zindabad... Helicopter is ready to Flee  \n",
      "15116          We support the Brave People of Panjshir.   \n",
      "15117                                PROUD TO BE INDIAN   \n",
      "15118  May the moral of Panjshir warriors stay high ....  \n",
      "\n",
      "[14519 rows x 2 columns]\n"
     ]
    }
   ],
   "source": [
    "# remove first n rows (Didn't chose randomly. Chosen linearly)\n",
    "# make a unlabeled corpus\n",
    "# take number column of seed set and remove rows of unlabeled corpus\n",
    "seed_df = pd.read_csv(\"seed_set.csv\")\n",
    "numbers = seed_df['number']\n",
    "unlabeled_df = pd.read_csv(\"englishComments.csv\")\n",
    "unlabeled_df = unlabeled_df.iloc[600:]\n",
    "print(unlabeled_df)\n",
    "unlabeled_df.to_csv('unlabeled_corpus.csv', index=False)\n"
   ]
  },
  {
   "cell_type": "code",
   "execution_count": null,
   "metadata": {},
   "outputs": [],
   "source": []
  }
 ],
 "metadata": {
  "interpreter": {
   "hash": "ee5cc6fef2d70a7e71ee3826687cbd150f18158e0b1eef11d4f4f92bb920e304"
  },
  "kernelspec": {
   "display_name": "Python 3.9.6 64-bit",
   "language": "python",
   "name": "python3"
  },
  "language_info": {
   "codemirror_mode": {
    "name": "ipython",
    "version": 3
   },
   "file_extension": ".py",
   "mimetype": "text/x-python",
   "name": "python",
   "nbconvert_exporter": "python",
   "pygments_lexer": "ipython3",
   "version": "3.9.6"
  },
  "orig_nbformat": 4
 },
 "nbformat": 4,
 "nbformat_minor": 2
}
