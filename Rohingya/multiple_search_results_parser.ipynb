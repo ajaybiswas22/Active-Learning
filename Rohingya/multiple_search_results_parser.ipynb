{
 "cells": [
  {
   "cell_type": "code",
   "execution_count": 1,
   "metadata": {},
   "outputs": [
    {
     "name": "stdout",
     "output_type": "stream",
     "text": [
      "VideoId miss\n"
     ]
    }
   ],
   "source": [
    "import os\n",
    "import googleapiclient.discovery\n",
    "from lib.keys import api_key as DEVELOPER_KEY\n",
    "import numpy as np\n",
    "import pandas as pd\n",
    "import json\n",
    "import csv\n",
    "\n",
    "# API CALL\n",
    "api_service_name = \"youtube\"\n",
    "api_version = \"v3\"\n",
    "\n",
    "youtube = googleapiclient.discovery.build(\n",
    "api_service_name, api_version, developerKey = DEVELOPER_KEY)\n",
    "\n",
    "'''\n",
    "queries = [\"\"]\n",
    "'''\n",
    "\n",
    "queries = ['the rohingya crisis',\n",
    "           'where is rohingya',\n",
    "           'rohingya map',\n",
    "           'rohingya crisis',\n",
    "           'rohingya charity',\n",
    "           'rohingya genocide',\n",
    "           'myanmar rohingya',\n",
    "           'muslim genocide',\n",
    "           'are rohingya terrorist',\n",
    "           'who are rohingya',\n",
    "           'deport rohingya',\n",
    "           'kill rohingya']\n",
    "\n",
    "\n",
    "# lists\n",
    "video_Id = []\n",
    "video_Title = []\n",
    "channel_Id = []\n",
    "channel_name = []\n",
    "video_Date = []\n",
    "\n",
    "# take multiple search results\n",
    "for i in range(len(queries)):\n",
    "    request = youtube.search().list(\n",
    "        part=\"snippet\",\n",
    "        maxResults=50,\n",
    "        q=queries[i]\n",
    "    )\n",
    "    response = request.execute()\n",
    "    videos_total = len(response['items'])\n",
    "\n",
    "    # all parsed videos\n",
    "    for i in range(videos_total):\n",
    "        # insert if unique video id\n",
    "\n",
    "        try:\n",
    "            if response['items'][i]['id']['videoId'] not in video_Id:\n",
    "                video_Id.append(response['items'][i]['id']['videoId'])\n",
    "                video_Title.append(response['items'][i]['snippet']['title'])\n",
    "                channel_Id.append(response['items'][i]['snippet']['channelId'])\n",
    "                channel_name.append(response['items'][i]['snippet']['channelTitle'])\n",
    "                video_Date.append(response['items'][i]['snippet']['publishedAt'])\n",
    "        except:\n",
    "            print('VideoId miss')\n",
    "\n",
    "# save into csv\n",
    "pd.DataFrame({'videoId': video_Id, \n",
    "            'title': video_Title, \n",
    "            'channelId': channel_Id,\n",
    "            'channelName': channel_name,\n",
    "            'date': video_Date}).to_csv('dataset/multipleSearchResults.csv', index=False)\n"
   ]
  },
  {
   "cell_type": "code",
   "execution_count": null,
   "metadata": {},
   "outputs": [],
   "source": []
  },
  {
   "cell_type": "code",
   "execution_count": 2,
   "metadata": {},
   "outputs": [],
   "source": [
    "# display the dataset\n",
    "output = pd.read_csv(\"dataset/multipleSearchResults.csv\")\n",
    "#display(output)"
   ]
  },
  {
   "cell_type": "code",
   "execution_count": null,
   "metadata": {},
   "outputs": [],
   "source": []
  }
 ],
 "metadata": {
  "interpreter": {
   "hash": "ee5cc6fef2d70a7e71ee3826687cbd150f18158e0b1eef11d4f4f92bb920e304"
  },
  "kernelspec": {
   "display_name": "Python 3.9.6 64-bit",
   "name": "python3"
  },
  "language_info": {
   "codemirror_mode": {
    "name": "ipython",
    "version": 3
   },
   "file_extension": ".py",
   "mimetype": "text/x-python",
   "name": "python",
   "nbconvert_exporter": "python",
   "pygments_lexer": "ipython3",
   "version": "3.9.6"
  },
  "metadata": {
   "interpreter": {
    "hash": "3a7f661466d1f70fa0f4700468fb38259aa610ba11628af4a02b5f7638c3105d"
   }
  }
 },
 "nbformat": 4,
 "nbformat_minor": 4
}
