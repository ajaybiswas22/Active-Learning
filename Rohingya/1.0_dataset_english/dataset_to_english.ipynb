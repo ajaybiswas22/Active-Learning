{
 "cells": [
  {
   "cell_type": "code",
   "execution_count": 58,
   "metadata": {},
   "outputs": [],
   "source": [
    "import numpy as np\n",
    "import pandas as pd\n",
    "import os\n",
    "from langdetect import detect"
   ]
  },
  {
   "cell_type": "code",
   "execution_count": 59,
   "metadata": {},
   "outputs": [],
   "source": [
    "df = pd.read_csv(\"multipleComments.csv\")"
   ]
  },
  {
   "cell_type": "code",
   "execution_count": 60,
   "metadata": {},
   "outputs": [],
   "source": [
    "def detect_language(line):\n",
    "    return detect(line)\n",
    "\n",
    "\n",
    "def to_ascii(string_with_nonASCII):\n",
    "    \n",
    "    encoded_string = string_with_nonASCII.encode(\"ascii\", \"ignore\")\n",
    "    decode_string = encoded_string.decode()\n",
    "    return decode_string\n"
   ]
  },
  {
   "cell_type": "code",
   "execution_count": 61,
   "metadata": {},
   "outputs": [],
   "source": [
    "# remove hindi rows\n",
    "username = []\n",
    "comments = []\n",
    "\n",
    "for i in range(0,len(df)):\n",
    "    line2 = df.Comment[i]\n",
    "    line = to_ascii(line2)\n",
    "    try:\n",
    "        if(len(line) > 0 and detect_language(line) == 'en'):\n",
    "            username.append(df.Username[i])\n",
    "            comments.append(line)\n",
    "    except:\n",
    "        pass\n",
    "\n",
    "# save into csv\n",
    "pd.DataFrame({'Username': username, 'Comment': comments}).to_csv('englishComments.csv', index=False)\n"
   ]
  }
 ],
 "metadata": {
  "interpreter": {
   "hash": "2e918aaa81d99c652401bdd1a0c185581595fb477ac919641bd65261b5d7782a"
  },
  "kernelspec": {
   "display_name": "Python 3.8.8 64-bit ('base': conda)",
   "name": "python3"
  },
  "language_info": {
   "codemirror_mode": {
    "name": "ipython",
    "version": 3
   },
   "file_extension": ".py",
   "mimetype": "text/x-python",
   "name": "python",
   "nbconvert_exporter": "python",
   "pygments_lexer": "ipython3",
   "version": "3.9.6"
  },
  "orig_nbformat": 4
 },
 "nbformat": 4,
 "nbformat_minor": 2
}
