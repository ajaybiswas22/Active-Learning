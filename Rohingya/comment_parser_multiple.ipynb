{
 "cells": [
  {
   "cell_type": "code",
   "execution_count": 1,
   "metadata": {},
   "outputs": [],
   "source": [
    "from http.client import responses\n",
    "import os\n",
    "import googleapiclient.discovery\n",
    "from lib.keys import api_key as DEVELOPER_KEY\n",
    "import numpy as np\n",
    "import pandas as pd\n",
    "import json\n",
    "import csv"
   ]
  },
  {
   "cell_type": "code",
   "execution_count": 2,
   "metadata": {},
   "outputs": [],
   "source": [
    "# API CALL\n",
    "api_service_name = \"youtube\"\n",
    "api_version = \"v3\"\n",
    "\n",
    "youtube = googleapiclient.discovery.build(\n",
    "    api_service_name, api_version, developerKey = DEVELOPER_KEY)"
   ]
  },
  {
   "cell_type": "code",
   "execution_count": 3,
   "metadata": {},
   "outputs": [],
   "source": [
    "search_results = pd.read_csv(\"dataset/multipleSearchResults.csv\")\n"
   ]
  },
  {
   "cell_type": "code",
   "execution_count": 4,
   "metadata": {},
   "outputs": [],
   "source": [
    "# lists\n",
    "user_name = []\n",
    "user_comment = []\n",
    "user_likes_count = []\n",
    "video_id = []"
   ]
  },
  {
   "cell_type": "code",
   "execution_count": 5,
   "metadata": {},
   "outputs": [
    {
     "name": "stdout",
     "output_type": "stream",
     "text": [
      "Comment disabled for  311_7q24I6I\n",
      "Comment disabled for  HRp0o0fzB2I\n",
      "Comment disabled for  rPUZn8yCWHE\n",
      "Comment disabled for  1ALEshTvtAw\n",
      "Comment disabled for  Gmw3k3wvltk\n",
      "Comment disabled for  861ytEA4fnM\n",
      "Comment disabled for  m-OxJ12ygew\n",
      "Comment disabled for  tHhugqhMP50\n",
      "Comment disabled for  sCiVF9UmETc\n",
      "Comment disabled for  Era_JHmXwMw\n",
      "Comment disabled for  YoxT7vs7jAs\n",
      "Comment disabled for  LZBi9w-EAB8\n",
      "Comment disabled for  pebrk29ZJW8\n",
      "Comment disabled for  8iwyQNcyVOc\n",
      "Comment disabled for  gNYFbcFH6fA\n",
      "Comment disabled for  uEiYA_F3z1M\n",
      "Comment disabled for  aoEyOBdoxyA\n",
      "Comment disabled for  EojGgy9zh9Y\n",
      "Comment disabled for  yWUScKBg4Zs\n",
      "Comment disabled for  A0U5AZFsBrc\n",
      "Comment disabled for  9dl1GjknZIU\n",
      "Comment disabled for  SwChX2Ih91c\n",
      "Comment disabled for  ZEw19fhdIRM\n",
      "Comment disabled for  GTRUfxZTa40\n",
      "Comment disabled for  J4l7E_n2YVI\n",
      "Comment disabled for  0THp494cTqQ\n",
      "Comment disabled for  b36zu02aN4g\n",
      "Comment disabled for  JsYEKFdhnh4\n"
     ]
    }
   ],
   "source": [
    "for i in range(len(search_results)):\n",
    "    try:\n",
    "        videoID = (search_results['videoId'][i])\n",
    "\n",
    "        request = youtube.commentThreads().list(\n",
    "        part=\"snippet,replies\",\n",
    "        maxResults=100,\n",
    "        videoId=videoID)\n",
    "        response = request.execute()\n",
    "\n",
    "        comments_total = len(response['items'])\n",
    "\n",
    "        for j in range(comments_total):\n",
    "            video_id.append(videoID)\n",
    "            user_comment.append(response['items'][j]['snippet']['topLevelComment']['snippet']['textOriginal'])\n",
    "            user_name.append(response['items'][j]['snippet']['topLevelComment']['snippet']['authorDisplayName'])\n",
    "            user_likes_count.append(response['items'][j]['snippet']['topLevelComment']['snippet']['likeCount'])\n",
    "    except:\n",
    "        print('Comment disabled for ',search_results['videoId'][i])"
   ]
  },
  {
   "cell_type": "code",
   "execution_count": null,
   "metadata": {},
   "outputs": [],
   "source": []
  },
  {
   "cell_type": "code",
   "execution_count": 6,
   "metadata": {},
   "outputs": [],
   "source": [
    "# save into csv\n",
    "pd.DataFrame({'Username': user_name, 'Comment': user_comment, 'Likes': user_likes_count, 'Video ID': video_id}).to_csv('dataset/multipleComments.csv', index=False)"
   ]
  },
  {
   "cell_type": "code",
   "execution_count": 7,
   "metadata": {},
   "outputs": [
    {
     "data": {
      "text/html": [
       "<div>\n",
       "<style scoped>\n",
       "    .dataframe tbody tr th:only-of-type {\n",
       "        vertical-align: middle;\n",
       "    }\n",
       "\n",
       "    .dataframe tbody tr th {\n",
       "        vertical-align: top;\n",
       "    }\n",
       "\n",
       "    .dataframe thead th {\n",
       "        text-align: right;\n",
       "    }\n",
       "</style>\n",
       "<table border=\"1\" class=\"dataframe\">\n",
       "  <thead>\n",
       "    <tr style=\"text-align: right;\">\n",
       "      <th></th>\n",
       "      <th>Username</th>\n",
       "      <th>Comment</th>\n",
       "      <th>Likes</th>\n",
       "      <th>Video ID</th>\n",
       "    </tr>\n",
       "  </thead>\n",
       "  <tbody>\n",
       "    <tr>\n",
       "      <th>0</th>\n",
       "      <td>CuriousLearner</td>\n",
       "      <td>What about Kashmiri Hindus. Never such mercy f...</td>\n",
       "      <td>0</td>\n",
       "      <td>F25qrkboV3o</td>\n",
       "    </tr>\n",
       "    <tr>\n",
       "      <th>1</th>\n",
       "      <td>I am me</td>\n",
       "      <td>10 crore illigal Rohingya in india</td>\n",
       "      <td>0</td>\n",
       "      <td>F25qrkboV3o</td>\n",
       "    </tr>\n",
       "    <tr>\n",
       "      <th>2</th>\n",
       "      <td>I am me</td>\n",
       "      <td>10 crore Rohingya muslims in india</td>\n",
       "      <td>1</td>\n",
       "      <td>F25qrkboV3o</td>\n",
       "    </tr>\n",
       "    <tr>\n",
       "      <th>3</th>\n",
       "      <td>OB</td>\n",
       "      <td>What happened in Bangladesh before 1980 to cau...</td>\n",
       "      <td>0</td>\n",
       "      <td>F25qrkboV3o</td>\n",
       "    </tr>\n",
       "    <tr>\n",
       "      <th>4</th>\n",
       "      <td>Khadar Osman</td>\n",
       "      <td>I really don't know what is the benefit of UN ...</td>\n",
       "      <td>0</td>\n",
       "      <td>F25qrkboV3o</td>\n",
       "    </tr>\n",
       "    <tr>\n",
       "      <th>...</th>\n",
       "      <td>...</td>\n",
       "      <td>...</td>\n",
       "      <td>...</td>\n",
       "      <td>...</td>\n",
       "    </tr>\n",
       "    <tr>\n",
       "      <th>19223</th>\n",
       "      <td>Allah Fuckbar</td>\n",
       "      <td>How can I donate to these Buddhists?</td>\n",
       "      <td>593</td>\n",
       "      <td>dZE2nbhR3hU</td>\n",
       "    </tr>\n",
       "    <tr>\n",
       "      <th>19224</th>\n",
       "      <td>counter intelligence</td>\n",
       "      <td>fake bikhu</td>\n",
       "      <td>15</td>\n",
       "      <td>dZE2nbhR3hU</td>\n",
       "    </tr>\n",
       "    <tr>\n",
       "      <th>19225</th>\n",
       "      <td>Janah Manja</td>\n",
       "      <td>Go To Hell All Men of budha...</td>\n",
       "      <td>63</td>\n",
       "      <td>dZE2nbhR3hU</td>\n",
       "    </tr>\n",
       "    <tr>\n",
       "      <th>19226</th>\n",
       "      <td>jamie james</td>\n",
       "      <td>This is so wrong. I feel sorry for the Myanmar...</td>\n",
       "      <td>167</td>\n",
       "      <td>dZE2nbhR3hU</td>\n",
       "    </tr>\n",
       "    <tr>\n",
       "      <th>19227</th>\n",
       "      <td>Labir Singh</td>\n",
       "      <td>Why muslims not other races.</td>\n",
       "      <td>76</td>\n",
       "      <td>dZE2nbhR3hU</td>\n",
       "    </tr>\n",
       "  </tbody>\n",
       "</table>\n",
       "<p>19228 rows × 4 columns</p>\n",
       "</div>"
      ],
      "text/plain": [
       "                   Username  \\\n",
       "0            CuriousLearner   \n",
       "1                   I am me   \n",
       "2                   I am me   \n",
       "3                        OB   \n",
       "4              Khadar Osman   \n",
       "...                     ...   \n",
       "19223         Allah Fuckbar   \n",
       "19224  counter intelligence   \n",
       "19225           Janah Manja   \n",
       "19226           jamie james   \n",
       "19227           Labir Singh   \n",
       "\n",
       "                                                 Comment  Likes     Video ID  \n",
       "0      What about Kashmiri Hindus. Never such mercy f...      0  F25qrkboV3o  \n",
       "1                     10 crore illigal Rohingya in india      0  F25qrkboV3o  \n",
       "2                     10 crore Rohingya muslims in india      1  F25qrkboV3o  \n",
       "3      What happened in Bangladesh before 1980 to cau...      0  F25qrkboV3o  \n",
       "4      I really don't know what is the benefit of UN ...      0  F25qrkboV3o  \n",
       "...                                                  ...    ...          ...  \n",
       "19223               How can I donate to these Buddhists?    593  dZE2nbhR3hU  \n",
       "19224                                         fake bikhu     15  dZE2nbhR3hU  \n",
       "19225                     Go To Hell All Men of budha...     63  dZE2nbhR3hU  \n",
       "19226  This is so wrong. I feel sorry for the Myanmar...    167  dZE2nbhR3hU  \n",
       "19227                       Why muslims not other races.     76  dZE2nbhR3hU  \n",
       "\n",
       "[19228 rows x 4 columns]"
      ]
     },
     "metadata": {},
     "output_type": "display_data"
    }
   ],
   "source": [
    "# display the dataset\n",
    "output = pd.read_csv(\"dataset/multipleComments.csv\")\n",
    "display(output)"
   ]
  },
  {
   "cell_type": "code",
   "execution_count": null,
   "metadata": {},
   "outputs": [],
   "source": []
  }
 ],
 "metadata": {
  "interpreter": {
   "hash": "2e918aaa81d99c652401bdd1a0c185581595fb477ac919641bd65261b5d7782a"
  },
  "kernelspec": {
   "display_name": "Python 3.8.8 64-bit ('base': conda)",
   "name": "python3"
  },
  "language_info": {
   "codemirror_mode": {
    "name": "ipython",
    "version": 3
   },
   "file_extension": ".py",
   "mimetype": "text/x-python",
   "name": "python",
   "nbconvert_exporter": "python",
   "pygments_lexer": "ipython3",
   "version": "3.9.6"
  },
  "metadata": {
   "interpreter": {
    "hash": "3a7f661466d1f70fa0f4700468fb38259aa610ba11628af4a02b5f7638c3105d"
   }
  }
 },
 "nbformat": 4,
 "nbformat_minor": 4
}
