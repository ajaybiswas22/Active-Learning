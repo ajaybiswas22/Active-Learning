{
 "cells": [
  {
   "cell_type": "code",
   "execution_count": 75,
   "metadata": {},
   "outputs": [],
   "source": [
    "import matplotlib.pyplot as plt\n",
    "import numpy as np\n",
    "import pandas as pd\n",
    "import random\n",
    "import itertools\n",
    "from resources.tokTT import CommentTokenizer as CT\n",
    "from resources.basicIO import InputOutput as IO\n",
    "from resources.filterLang import FilterLanguage as FL\n",
    "from sklearn.model_selection import train_test_split\n",
    "from sklearn.pipeline import make_pipeline\n",
    "from sklearn.pipeline import Pipeline\n",
    "from sklearn.linear_model import LogisticRegression\n",
    "from sklearn.svm import SVC\n",
    "from sklearn.base import BaseEstimator, TransformerMixin\n",
    "import fasttext\n",
    "from scipy import spatial\n",
    "from scipy.spatial import distance\n",
    "from sklearn import svm\n",
    "from sklearn import metrics\n",
    "from sklearn.linear_model import SGDClassifier\n",
    "#from sklearn.linear_model import LassoLars\n",
    "from sklearn.discriminant_analysis import LinearDiscriminantAnalysis\n",
    "from sklearn.naive_bayes import MultinomialNB\n",
    "from sklearn.tree import DecisionTreeClassifier\n",
    "from sklearn.naive_bayes import GaussianNB\n",
    "from sklearn.ensemble import RandomForestClassifier\n",
    "from sklearn.ensemble import VotingClassifier\n",
    "from sklearn.feature_extraction.text import CountVectorizer\n",
    "from sklearn.preprocessing import StandardScaler\n",
    "from sklearn.preprocessing import MinMaxScaler\n",
    "from sklearn.feature_extraction.text import TfidfTransformer\n",
    "from sklearn.model_selection import cross_val_score\n",
    "from sklearn.metrics import mean_absolute_error\n",
    "from sklearn.metrics import mean_squared_error\n",
    "from sklearn.neighbors import KNeighborsClassifier\n",
    "import copy\n",
    "import scipy\n",
    "from sklearn.metrics import precision_recall_fscore_support\n",
    "from sklearn.metrics import classification_report\n",
    "from sklearn.model_selection import validation_curve\n",
    "from sklearn.linear_model import Ridge\n"
   ]
  },
  {
   "cell_type": "markdown",
   "metadata": {},
   "source": [
    "### Load Fasttext Unsupervised Model"
   ]
  },
  {
   "cell_type": "code",
   "execution_count": 54,
   "metadata": {},
   "outputs": [
    {
     "name": "stderr",
     "output_type": "stream",
     "text": [
      "Warning : `load_model` does not return WordVectorModel or SupervisedModel any more, but a `FastText` object which is very similar.\n",
      "Warning : `load_model` does not return WordVectorModel or SupervisedModel any more, but a `FastText` object which is very similar.\n"
     ]
    }
   ],
   "source": [
    "model_2 = fasttext.load_model(\"models/ft_unsupervised_N_2.bin\")\n",
    "model_3 = fasttext.load_model(\"models/ft_unsupervised_N_3.bin\")\n"
   ]
  },
  {
   "cell_type": "markdown",
   "metadata": {},
   "source": [
    "### Load Dataset"
   ]
  },
  {
   "cell_type": "code",
   "execution_count": 86,
   "metadata": {},
   "outputs": [
    {
     "data": {
      "text/plain": [
       "0    1846\n",
       "1    1408\n",
       "Name: label, dtype: int64"
      ]
     },
     "execution_count": 86,
     "metadata": {},
     "output_type": "execute_result"
    }
   ],
   "source": [
    "df_sample = pd.read_csv(\"datasets/random_sample_data.csv\")\n",
    "# remove unnecessary comments\n",
    "df_sample = df_sample.drop([x for x in range(len(df_sample)) if int(\n",
    "    df_sample['label'][x]) != 0 and int(df_sample['label'][x]) != 1])\n",
    "\n",
    "df_sample['label'].value_counts()\n"
   ]
  },
  {
   "cell_type": "code",
   "execution_count": 87,
   "metadata": {},
   "outputs": [],
   "source": [
    "X_raw = df_sample['tokenized_comment']\n",
    "y = df_sample['label']\n",
    "\n",
    "X_2 = [model_2[x] for x in X_raw ]\n",
    "X_3 = [model_3[x] for x in X_raw ]\n"
   ]
  },
  {
   "cell_type": "markdown",
   "metadata": {},
   "source": [
    "### Fasttext Transformer"
   ]
  },
  {
   "cell_type": "code",
   "execution_count": 88,
   "metadata": {},
   "outputs": [],
   "source": [
    "class FastTextTransformer(BaseEstimator, TransformerMixin):\n",
    "    \"\"\" Convert texts into their mean fastText vectors \"\"\"\n",
    "\n",
    "    def __init__(self, model):\n",
    "        self.model = model\n",
    "\n",
    "    def fit(self, X, y=None):\n",
    "        return self\n",
    "\n",
    "    def transform(self, X):\n",
    "        return np.stack([np.mean([self.model[w] for w in text.split()], 0) for text in X])\n",
    "\n",
    "\n",
    "def classify(small_model, predictor, lines, Y):\n",
    "    classifier = make_pipeline(\n",
    "        FastTextTransformer(model=small_model),\n",
    "        predictor\n",
    "    ).fit(\n",
    "        lines,\n",
    "        Y\n",
    "    )\n",
    "    return classifier\n"
   ]
  },
  {
   "cell_type": "markdown",
   "metadata": {},
   "source": [
    "### Train Test Split"
   ]
  },
  {
   "cell_type": "code",
   "execution_count": 96,
   "metadata": {},
   "outputs": [],
   "source": [
    "X = X_2\n",
    "X_train, X_test, y_train, y_test = train_test_split(X,\n",
    "                                                    y, test_size=0.1,\n",
    "                                                    random_state=25,\n",
    "                                                    stratify=y)\n"
   ]
  },
  {
   "cell_type": "code",
   "execution_count": 97,
   "metadata": {},
   "outputs": [
    {
     "name": "stdout",
     "output_type": "stream",
     "text": [
      "2928\n",
      "326\n"
     ]
    }
   ],
   "source": [
    "print(len(X_train))\n",
    "print(len(X_test))\n"
   ]
  },
  {
   "cell_type": "markdown",
   "metadata": {},
   "source": [
    "### Validation Curve"
   ]
  },
  {
   "cell_type": "markdown",
   "metadata": {},
   "source": [
    "### https://vitalflux.com/validation-curves-explained-python-sklearn-example/"
   ]
  },
  {
   "cell_type": "code",
   "execution_count": 115,
   "metadata": {},
   "outputs": [],
   "source": [
    "pipeline = make_pipeline(StandardScaler(), LogisticRegression(\n",
    "    solver='lbfgs', penalty='l2', max_iter=10000, random_state=2))\n"
   ]
  },
  {
   "cell_type": "code",
   "execution_count": 109,
   "metadata": {},
   "outputs": [],
   "source": [
    "param_range = [0.001, 0.05, 0.1, 0.5, 1.0, 10.0]\n",
    "train_scores, test_scores = validation_curve(estimator=pipeline,\n",
    "                                             X=X_train, y=y_train,\n",
    "                                             cv=10,\n",
    "                                             param_name='logisticregression__C', param_range=param_range)\n",
    "#\n",
    "# Find the mean of training and test scores out of 10-fod StratifiedKFold cross validation run as part fo execution of validation curve\n",
    "#\n",
    "train_mean = np.mean(train_scores, axis=1)\n",
    "test_mean = np.mean(test_scores, axis=1)\n"
   ]
  },
  {
   "cell_type": "code",
   "execution_count": 118,
   "metadata": {},
   "outputs": [
    {
     "data": {
      "image/png": "[encoded data removed]",
      "text/plain": [
       "<Figure size 432x288 with 1 Axes>"
      ]
     },
     "metadata": {
      "needs_background": "light"
     },
     "output_type": "display_data"
    }
   ],
   "source": [
    "plt.plot(param_range, train_mean,\n",
    "         marker='o', markersize=5,\n",
    "         color='blue', label='Training Accuracy')\n",
    "plt.plot(param_range, test_mean,\n",
    "         marker='o', markersize=5,\n",
    "         color='green', label='Validation Accuracy')\n",
    "plt.xlabel('Parameter C')\n",
    "plt.ylabel('Accuracy')\n",
    "plt.grid()\n",
    "plt.title('Validation Curve with Logistic Regression')\n",
    "plt.savefig('outputs/figures/' + 'Validation Curve with Logistic Regression',\n",
    "            dpi=300, bbox_inches='tight')\n",
    "plt.show()\n"
   ]
  },
  {
   "cell_type": "code",
   "execution_count": 133,
   "metadata": {},
   "outputs": [
    {
     "data": {
      "image/png": "[encoded data removed]",
      "text/plain": [
       "<Figure size 432x288 with 1 Axes>"
      ]
     },
     "metadata": {
      "needs_background": "light"
     },
     "output_type": "display_data"
    }
   ],
   "source": [
    "parameter_range = np.arange(1, 21, 1)\n",
    "train_score, test_score = validation_curve(KNeighborsClassifier(), X_train, y_train,\n",
    "                                           param_name=\"n_neighbors\",\n",
    "                                           param_range=parameter_range,\n",
    "                                           cv=10, scoring=\"accuracy\")\n",
    "\n",
    "# Calculating mean and standard deviation of training score\n",
    "mean_train_score = np.mean(train_score, axis=1)\n",
    "std_train_score = np.std(train_score, axis=1)\n",
    "\n",
    "# Calculating mean and standard deviation of testing score\n",
    "mean_test_score = np.mean(test_score, axis=1)\n",
    "std_test_score = np.std(test_score, axis=1)\n",
    "\n",
    "# Plot mean accuracy scores for training and testing scores\n",
    "plt.plot(parameter_range, mean_train_score,\n",
    "         marker='o', markersize=5,\n",
    "         color='blue',\n",
    "         label=\"Training Score\")\n",
    "plt.plot(parameter_range, mean_test_score,\n",
    "         label=\"Cross Validation Score\", \n",
    "         marker='o', markersize=5,\n",
    "         color='green')\n",
    "\n",
    "# Creating the plot\n",
    "plt.xlabel(\"Number of Neighbours\")\n",
    "plt.ylabel(\"Accuracy\")\n",
    "plt.tight_layout()\n",
    "plt.legend(loc='best')\n",
    "plt.title('Validation Curve with KNN Classifier')\n",
    "plt.savefig('outputs/figures/' + 'Validation Curve with KNN Classifier',\n",
    "            dpi=300, bbox_inches='tight')\n",
    "plt.show()\n"
   ]
  },
  {
   "cell_type": "markdown",
   "metadata": {},
   "source": [
    "### Active Learning"
   ]
  },
  {
   "cell_type": "code",
   "execution_count": 111,
   "metadata": {},
   "outputs": [],
   "source": [
    "X_seed, X_expand, y_seed, y_expand = train_test_split(X_train,\n",
    "                                                      y_train, test_size=0.8,\n",
    "                                                      random_state=41,\n",
    "                                                      stratify=y_train)\n"
   ]
  },
  {
   "cell_type": "code",
   "execution_count": 112,
   "metadata": {},
   "outputs": [
    {
     "name": "stdout",
     "output_type": "stream",
     "text": [
      "X_seed:  585\n",
      "X_expand:  2343\n"
     ]
    }
   ],
   "source": [
    "print('X_seed: ',len(X_seed))\n",
    "print('X_expand: ',len(X_expand))"
   ]
  },
  {
   "cell_type": "markdown",
   "metadata": {},
   "source": [
    "### Uncertainty Sampling"
   ]
  },
  {
   "cell_type": "code",
   "execution_count": 123,
   "metadata": {},
   "outputs": [],
   "source": [
    "def Expand_U(model: fasttext.FastText._FastText,\n",
    "             algorithm: object,\n",
    "             seed_set_tokenised: list,\n",
    "             seed_set_label: list,\n",
    "             expansion_tokenised: list,\n",
    "             expansion_set_labels: list,\n",
    "             batch_size: int,\n",
    "             countMax: int):\n",
    "    \"\"\" Uncertainty sampling.\n",
    "    Expand seed set using expansion_set based on lowest confidance scores.\n",
    "    max_threshold: max. probability for uncertainty selection \"\"\"\n",
    "\n",
    "    seed_TK = copy.deepcopy(seed_set_tokenised)\n",
    "    seed_labels = copy.deepcopy(seed_set_label)\n",
    "    count = len(expansion_set_labels)\n",
    "    M = np.arange(0, count, batch_size)\n",
    "\n",
    "    # exp_TK_certain will be the list of comments having high proba score\n",
    "    exp_TK_certain = []\n",
    "    exp_TK_certain_labels = []\n",
    "\n",
    "    for i in range(1, len(M)):\n",
    "\n",
    "        #print(M[i], end=' ')\n",
    "\n",
    "        exp_TK = expansion_tokenised[M[i-1]:M[i]]\n",
    "        exp_labels = expansion_set_labels[M[i-1]:M[i]]\n",
    "\n",
    "        # take A as training and B as test and store probs in C\n",
    "        small_model = algorithm.fit(seed_TK, seed_labels)\n",
    "        # store classwise prob. scores\n",
    "        C = small_model.predict_proba(exp_TK)\n",
    "        # Uncertainty sampling scores\n",
    "        C_abs_diff = [(abs(x[0] - x[1])) for x in C]\n",
    "\n",
    "        # Sort lists in ascending order of probabilities from C_abs_diff\n",
    "        sorted_lists = sorted(\n",
    "            zip(exp_labels, exp_TK, C, C_abs_diff), key=lambda x: x[3])\n",
    "        exp_labels, exp_TK, C_sorted, score = [\n",
    "            [x[i] for x in sorted_lists] for i in range(4)]\n",
    "\n",
    "        Y_uncertain = []\n",
    "        exp_TK_uncertain = []\n",
    "        for j in range(len(C_sorted)):\n",
    "            max_value = max(C_sorted[j])\n",
    "            max_index = str(np.argmax(C_sorted[j]))\n",
    "\n",
    "            # label the comments whose score is less than threshold\n",
    "            if(j < countMax):\n",
    "\n",
    "                exp_TK_uncertain.append(exp_TK[j])\n",
    "                Y_uncertain.append(exp_labels[j])\n",
    "            else:\n",
    "                exp_TK_certain.append(exp_TK[j])\n",
    "                exp_TK_certain_labels.append(exp_labels[j])\n",
    "\n",
    "        # expand the seed set\n",
    "        seed_labels.extend(Y_uncertain)\n",
    "        seed_TK.extend(exp_TK_uncertain)\n",
    "\n",
    "    return seed_TK, seed_labels, exp_TK_certain, exp_TK_certain_labels\n"
   ]
  },
  {
   "cell_type": "code",
   "execution_count": 124,
   "metadata": {},
   "outputs": [],
   "source": [
    "\n",
    "X_uncertain_exp_u, y_uncertain_exp_u, X_certain_exp_u, y_certain_exp_u = Expand_U(model_2,\n",
    "                                                                                LogisticRegression(),\n",
    "                                                                                list(\n",
    "                                                                                    X_seed),\n",
    "                                                                                list(\n",
    "                                                                                    y_seed),\n",
    "                                                                                list(\n",
    "                                                                                    X_expand),\n",
    "                                                                                list(\n",
    "                                                                                    y_expand),\n",
    "                                                                                20,\n",
    "                                                                                1\n",
    "                                                                                )\n"
   ]
  },
  {
   "cell_type": "code",
   "execution_count": 125,
   "metadata": {},
   "outputs": [
    {
     "data": {
      "image/png": "[encoded data removed]",
      "text/plain": [
       "<Figure size 432x288 with 1 Axes>"
      ]
     },
     "metadata": {
      "needs_background": "light"
     },
     "output_type": "display_data"
    }
   ],
   "source": [
    "param_range = [0.001, 0.05, 0.1, 0.5, 1.0, 10.0]\n",
    "train_scores, test_scores = validation_curve(estimator=pipeline,\n",
    "                                             X=X_uncertain_exp_u, y=y_uncertain_exp_u,\n",
    "                                             cv=10,\n",
    "                                             param_name='logisticregression__C', param_range=param_range)\n",
    "#\n",
    "# Find the mean of training and test scores out of 10-fod StratifiedKFold cross validation run as part fo execution of validation curve\n",
    "#\n",
    "train_mean = np.mean(train_scores, axis=1)\n",
    "test_mean = np.mean(test_scores, axis=1)\n",
    "\n",
    "plt.plot(param_range, train_mean,\n",
    "         marker='o', markersize=5,\n",
    "         color='blue', label='Training Accuracy')\n",
    "plt.plot(param_range, test_mean,\n",
    "         marker='o', markersize=5,\n",
    "         color='green', label='Validation Accuracy')\n",
    "plt.xlabel('Parameter C')\n",
    "plt.ylabel('Accuracy')\n",
    "plt.grid()\n",
    "plt.title('Validation Curve with AL + Logistic Regression')\n",
    "plt.savefig('outputs/figures/' + 'Validation Curve with AL + Logistic Regression',\n",
    "            dpi=300, bbox_inches='tight')\n",
    "plt.show()\n"
   ]
  },
  {
   "cell_type": "code",
   "execution_count": 132,
   "metadata": {},
   "outputs": [
    {
     "data": {
      "image/png": "[encoded data removed]",
      "text/plain": [
       "<Figure size 432x288 with 1 Axes>"
      ]
     },
     "metadata": {
      "needs_background": "light"
     },
     "output_type": "display_data"
    }
   ],
   "source": [
    "parameter_range = np.arange(1, 21, 1)\n",
    "train_score, test_score = validation_curve(KNeighborsClassifier(), X_uncertain_exp_u, y_uncertain_exp_u,\n",
    "                                           param_name=\"n_neighbors\",\n",
    "                                           param_range=parameter_range,\n",
    "                                           cv=10, scoring=\"accuracy\")\n",
    "\n",
    "# Calculating mean and standard deviation of training score\n",
    "mean_train_score = np.mean(train_score, axis=1)\n",
    "std_train_score = np.std(train_score, axis=1)\n",
    "\n",
    "# Calculating mean and standard deviation of testing score\n",
    "mean_test_score = np.mean(test_score, axis=1)\n",
    "std_test_score = np.std(test_score, axis=1)\n",
    "\n",
    "# Plot mean accuracy scores for training and testing scores\n",
    "plt.plot(parameter_range, mean_train_score,\n",
    "         marker='o', markersize=5,\n",
    "         color='blue',\n",
    "         label=\"Training Score\")\n",
    "plt.plot(parameter_range, mean_test_score,\n",
    "         label=\"Cross Validation Score\",\n",
    "         marker='o', markersize=5,\n",
    "         color='green')\n",
    "\n",
    "# Creating the plot\n",
    "plt.xlabel(\"Number of Neighbours\")\n",
    "plt.ylabel(\"Accuracy\")\n",
    "plt.tight_layout()\n",
    "plt.legend(loc='best')\n",
    "plt.title('Validation Curve with AL + KNN Classifier')\n",
    "plt.savefig('outputs/figures/' + 'Validation Curve with AL + KNN Classifier',\n",
    "            dpi=300, bbox_inches='tight')\n",
    "plt.show()\n"
   ]
  }
 ],
 "metadata": {
  "interpreter": {
   "hash": "ee5cc6fef2d70a7e71ee3826687cbd150f18158e0b1eef11d4f4f92bb920e304"
  },
  "kernelspec": {
   "display_name": "Python 3.9.6 64-bit",
   "language": "python",
   "name": "python3"
  },
  "language_info": {
   "codemirror_mode": {
    "name": "ipython",
    "version": 3
   },
   "file_extension": ".py",
   "mimetype": "text/x-python",
   "name": "python",
   "nbconvert_exporter": "python",
   "pygments_lexer": "ipython3",
   "version": "3.9.6"
  },
  "orig_nbformat": 4
 },
 "nbformat": 4,
 "nbformat_minor": 2
}
