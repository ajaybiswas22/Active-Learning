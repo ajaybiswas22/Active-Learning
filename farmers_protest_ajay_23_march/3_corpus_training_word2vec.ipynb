{
 "cells": [
  {
   "cell_type": "markdown",
   "metadata": {},
   "source": [
    "## FastText Training on Corpus"
   ]
  },
  {
   "cell_type": "code",
   "execution_count": 2,
   "metadata": {},
   "outputs": [],
   "source": [
    "import numpy as np\n",
    "import fasttext\n",
    "import pandas as pd\n",
    "from resources.tokTT import CommentTokenizer\n",
    "from resources.basicIO import InputOutput as IO\n",
    "from resources.filterLang import FilterLanguage as FL\n",
    "from gensim.models import Word2Vec\n",
    "from gensim.test.utils import common_texts\n"
   ]
  },
  {
   "cell_type": "code",
   "execution_count": 3,
   "metadata": {},
   "outputs": [
    {
     "name": "stdout",
     "output_type": "stream",
     "text": [
      "[['human', 'interface', 'computer'], ['survey', 'user', 'computer', 'system', 'response', 'time'], ['eps', 'user', 'interface', 'system'], ['system', 'human', 'system', 'eps'], ['user', 'response', 'time'], ['trees'], ['graph', 'trees'], ['graph', 'minors', 'trees'], ['graph', 'minors', 'survey']]\n"
     ]
    }
   ],
   "source": [
    "print(common_texts)"
   ]
  },
  {
   "cell_type": "markdown",
   "metadata": {},
   "source": [
    "### Cleaning the Corpus"
   ]
  },
  {
   "cell_type": "code",
   "execution_count": 4,
   "metadata": {},
   "outputs": [],
   "source": [
    "# clean and save file\n",
    "tokenized_comment = CommentTokenizer.cleaned('datasets/corpus.txt','utf-8',['0','1'])\n",
    "IO.save_text('datasets/tokenized_corpus.txt',tokenized_comment)"
   ]
  },
  {
   "cell_type": "code",
   "execution_count": 5,
   "metadata": {},
   "outputs": [],
   "source": [
    "tokenized_texts = [x.split() for x in tokenized_comment]"
   ]
  },
  {
   "cell_type": "markdown",
   "metadata": {},
   "source": [
    "### Making model from corpus\n",
    "\n",
    "### N = 2"
   ]
  },
  {
   "cell_type": "code",
   "execution_count": 6,
   "metadata": {},
   "outputs": [],
   "source": [
    "model = Word2Vec(sentences=tokenized_texts, vector_size=100, window=5, min_count=1, workers=4)"
   ]
  },
  {
   "cell_type": "code",
   "execution_count": 7,
   "metadata": {},
   "outputs": [],
   "source": [
    "model.save(\"models/word2vec.model\")"
   ]
  },
  {
   "cell_type": "code",
   "execution_count": 8,
   "metadata": {},
   "outputs": [
    {
     "name": "stdout",
     "output_type": "stream",
     "text": [
      "[(0.861190140247345, 'pm'), (0.8260396122932434, 'modiji'), (0.8167715072631836, 'yogi'), (0.8109135031700134, 'resign'), (0.8037599921226501, 'compromised'), (0.8032474517822266, 'bjp'), (0.7917178869247437, 'him'), (0.789585530757904, 'shah'), (0.7863118648529053, 'hypocrite'), (0.7850702404975891, 'kejriwal'), (0.7807008624076843, 'weak'), (0.7778693437576294, 'mr'), (0.7749417424201965, 'champion'), (0.7744207978248596, 'revolted'), (0.7716774344444275, 'ji'), (0.7701419591903687, 'shakher'), (0.7699275612831116, 'strict'), (0.7696663737297058, 'amit'), (0.7695661187171936, 'confident'), (0.763809323310852, 'narendra')]\n"
     ]
    }
   ],
   "source": [
    "#model.train([[\"hello\", \"modi\"]], total_examples=1, epochs=1)\n",
    "x = model.wv.most_similar('modi',topn=20)\n",
    "x = [(a, b) for b,a in x]\n",
    "print(x)"
   ]
  },
  {
   "cell_type": "code",
   "execution_count": 16,
   "metadata": {},
   "outputs": [
    {
     "name": "stdout",
     "output_type": "stream",
     "text": [
      "0.8980858\n"
     ]
    }
   ],
   "source": [
    "x = model.wv.n_similarity(['kisan'], ['kisaan'])\n",
    "print(x)"
   ]
  },
  {
   "cell_type": "code",
   "execution_count": 10,
   "metadata": {},
   "outputs": [
    {
     "data": {
      "text/plain": [
       "array([[-1.0210565e+00, -5.7512963e-01,  1.8442869e-02, ...,\n",
       "        -1.3251019e+00,  1.7687753e-01,  8.8966286e-01],\n",
       "       [-2.0198627e-01,  4.3158987e-01,  3.2368872e-01, ...,\n",
       "        -1.6776707e+00,  1.4289340e-01, -3.1876758e-01],\n",
       "       [ 2.8364297e-02,  6.6273198e-02, -6.7269731e-01, ...,\n",
       "        -6.8140453e-01, -1.4259201e-01, -9.7195792e-01],\n",
       "       ...,\n",
       "       [-2.9890222e-04,  2.3030745e-02,  8.6998576e-03, ...,\n",
       "        -1.7806625e-02, -3.6875948e-03,  1.2883015e-03],\n",
       "       [ 8.8556521e-03,  4.5590294e-03,  3.5448647e-03, ...,\n",
       "        -1.6831610e-02, -6.9411718e-03, -2.0075444e-02],\n",
       "       [ 6.1294381e-03,  1.0093090e-02,  1.4997119e-02, ...,\n",
       "        -2.2391796e-02,  2.5126587e-03,  7.8085234e-04]], dtype=float32)"
      ]
     },
     "execution_count": 10,
     "metadata": {},
     "output_type": "execute_result"
    }
   ],
   "source": [
    "model.wv.vectors\n"
   ]
  }
 ],
 "metadata": {
  "interpreter": {
   "hash": "ee5cc6fef2d70a7e71ee3826687cbd150f18158e0b1eef11d4f4f92bb920e304"
  },
  "kernelspec": {
   "display_name": "Python 3.9.6 64-bit",
   "language": "python",
   "name": "python3"
  },
  "language_info": {
   "codemirror_mode": {
    "name": "ipython",
    "version": 3
   },
   "file_extension": ".py",
   "mimetype": "text/x-python",
   "name": "python",
   "nbconvert_exporter": "python",
   "pygments_lexer": "ipython3",
   "version": "3.9.6"
  },
  "orig_nbformat": 4
 },
 "nbformat": 4,
 "nbformat_minor": 2
}
