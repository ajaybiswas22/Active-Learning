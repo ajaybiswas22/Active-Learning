{
 "cells": [
  {
   "cell_type": "markdown",
   "metadata": {},
   "source": [
    "## FastText Training on Corpus"
   ]
  },
  {
   "cell_type": "code",
   "execution_count": 1,
   "metadata": {},
   "outputs": [],
   "source": [
    "import numpy as np\n",
    "import fasttext\n",
    "import pandas as pd\n",
    "from resources.tokTT import CommentTokenizer\n",
    "from resources.basicIO import InputOutput as IO\n",
    "from resources.filterLang import FilterLanguage as FL"
   ]
  },
  {
   "cell_type": "markdown",
   "metadata": {},
   "source": [
    "### Cleaning the Corpus"
   ]
  },
  {
   "cell_type": "code",
   "execution_count": 2,
   "metadata": {},
   "outputs": [],
   "source": [
    "# clean and save file\n",
    "tokenized_comment = CommentTokenizer.cleaned('datasets/corpus.txt','utf-8',['0','1'])\n",
    "IO.save_text('datasets/tokenized_corpus.txt',tokenized_comment)"
   ]
  },
  {
   "cell_type": "markdown",
   "metadata": {},
   "source": [
    "### Making model from corpus\n",
    "\n",
    "### N = 2"
   ]
  },
  {
   "cell_type": "code",
   "execution_count": 3,
   "metadata": {},
   "outputs": [
    {
     "name": "stderr",
     "output_type": "stream",
     "text": [
      "Warning : `load_model` does not return WordVectorModel or SupervisedModel any more, but a `FastText` object which is very similar.\n"
     ]
    }
   ],
   "source": [
    "#model_2 = fasttext.train_unsupervised(input=\"datasets/tokenized_corpus.txt\", lr=0.05, epoch=10, wordNgrams=2, dim=30)\n",
    "#model_2.save_model(\"models/ft_unsupervised_N_2.bin\")\n",
    "model_2 = fasttext.load_model('models/ft_unsupervised_N_2.bin')"
   ]
  },
  {
   "cell_type": "code",
   "execution_count": 4,
   "metadata": {},
   "outputs": [
    {
     "data": {
      "text/plain": [
       "[(0.8609934449195862, 'yogiji'),\n",
       " (0.8286058902740479, 'sh'),\n",
       " (0.8157034516334534, 'sha'),\n",
       " (0.814759373664856, 'gadkari'),\n",
       " (0.8097841739654541, 'adityanath'),\n",
       " (0.8028854727745056, 'modi'),\n",
       " (0.79057377576828, 'vajpayee'),\n",
       " (0.7819409966468811, 'feku'),\n",
       " (0.7767513990402222, 'sharam'),\n",
       " (0.7743291854858398, 'nitin'),\n",
       " (0.7727068066596985, 'amith'),\n",
       " (0.7696611881256104, 'gundagardi'),\n",
       " (0.7646944522857666, 'shah'),\n",
       " (0.7597640156745911, 'j'),\n",
       " (0.7592511177062988, 'resign'),\n",
       " (0.7583545446395874, 'arvind'),\n",
       " (0.7565564513206482, 'gi'),\n",
       " (0.7560878396034241, 'bjp'),\n",
       " (0.7549055814743042, 'goodbye'),\n",
       " (0.7532719969749451, 'baba')]"
      ]
     },
     "execution_count": 4,
     "metadata": {},
     "output_type": "execute_result"
    }
   ],
   "source": [
    "model_2.get_nearest_neighbors('yogi',20)"
   ]
  },
  {
   "cell_type": "markdown",
   "metadata": {},
   "source": [
    "### N = 3"
   ]
  },
  {
   "cell_type": "code",
   "execution_count": 4,
   "metadata": {},
   "outputs": [],
   "source": [
    "model_3 = fasttext.train_unsupervised(input=\"datasets/tokenized_corpus.txt\", lr=0.05, epoch=10, wordNgrams=3)\n",
    "model_3.save_model(\"models/ft_unsupervised_N_3.bin\")"
   ]
  }
 ],
 "metadata": {
  "interpreter": {
   "hash": "ee5cc6fef2d70a7e71ee3826687cbd150f18158e0b1eef11d4f4f92bb920e304"
  },
  "kernelspec": {
   "display_name": "Python 3.9.6 64-bit",
   "language": "python",
   "name": "python3"
  },
  "language_info": {
   "codemirror_mode": {
    "name": "ipython",
    "version": 3
   },
   "file_extension": ".py",
   "mimetype": "text/x-python",
   "name": "python",
   "nbconvert_exporter": "python",
   "pygments_lexer": "ipython3",
   "version": "3.9.6"
  },
  "orig_nbformat": 4
 },
 "nbformat": 4,
 "nbformat_minor": 2
}
